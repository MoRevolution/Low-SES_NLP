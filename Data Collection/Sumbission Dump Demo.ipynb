{
 "cells": [
  {
   "cell_type": "code",
   "execution_count": 55,
   "id": "5fd524a8",
   "metadata": {},
   "outputs": [],
   "source": [
    "from psaw import PushshiftAPI\n",
    "from pathlib import Path \n",
    "# from datetime import datetime, timezone, timedelta \n",
    "import warnings\n",
    "warnings.filterwarnings(\"ignore\")\n",
    "import pandas as pd\n"
   ]
  },
  {
   "cell_type": "code",
   "execution_count": 56,
   "id": "01172339",
   "metadata": {},
   "outputs": [],
   "source": [
    "api = PushshiftAPI()"
   ]
  },
  {
   "cell_type": "code",
   "execution_count": 58,
   "id": "9d7326f7",
   "metadata": {},
   "outputs": [],
   "source": [
    "keyword_list = []\n",
    "count = 0\n",
    "with open(\"Reddit Search Keywords\\SVO Search Keywords.txt\", 'r') as file:\n",
    "\n",
    "    for keyword in file:\n",
    "        keyword_list.append(keyword.strip('\\n')) \n",
    "        \n",
    "keyword_list = [i for i in keyword_list if i]   \n",
    "\n",
    "for keyword in keyword_list:  \n",
    "    count += 1       \n",
    "    subs = api.search_submissions(\n",
    "        subreddit=\"college\",\n",
    "        q= keyword,\n",
    "        filter = [ 'author', 'selftext', 'url', 'permalink', 'subreddit', 'title'],\n",
    "        # metadata = \"false\",   \n",
    "        # max_results_per_request= 500\n",
    "        )\n",
    "\n",
    "    # Set display\n",
    "    pd.set_option('display.max_rows', None)\n",
    "    pd.set_option('display.max_colwidth', None)\n",
    "\n",
    "    df = pd.DataFrame([thing.d_ for thing in subs])\n",
    "\n",
    "    filepath = Path('Data Dumb/Reddit/Submissions/SVO/Keyword '+ str(count)+'.csv')\n",
    "    filepath.parent.mkdir(parents = True, exist_ok = True)\n",
    "    df.to_csv(filepath)"
   ]
  },
  {
   "cell_type": "code",
   "execution_count": null,
   "id": "e6e7f51d",
   "metadata": {},
   "outputs": [],
   "source": []
  }
 ],
 "metadata": {
  "kernelspec": {
   "display_name": "Python 3.10.5 64-bit",
   "language": "python",
   "name": "python3"
  },
  "language_info": {
   "codemirror_mode": {
    "name": "ipython",
    "version": 3
   },
   "file_extension": ".py",
   "mimetype": "text/x-python",
   "name": "python",
   "nbconvert_exporter": "python",
   "pygments_lexer": "ipython3",
   "version": "3.10.5"
  },
  "vscode": {
   "interpreter": {
    "hash": "26de051ba29f2982a8de78e945f0abaf191376122a1563185a90213a26c5da77"
   }
  }
 },
 "nbformat": 4,
 "nbformat_minor": 5
}
