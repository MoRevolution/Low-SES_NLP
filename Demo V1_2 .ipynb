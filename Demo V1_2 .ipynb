{
 "cells": [
  {
   "cell_type": "markdown",
   "metadata": {},
   "source": [
    "## Import Required Libraries"
   ]
  },
  {
   "cell_type": "code",
   "execution_count": 2,
   "metadata": {},
   "outputs": [
    {
     "name": "stderr",
     "output_type": "stream",
     "text": [
      "C:\\Program Files\\Python310\\lib\\site-packages\\past\\builtins\\misc.py:45: DeprecationWarning: the imp module is deprecated in favour of importlib and slated for removal in Python 3.12; see the module's documentation for alternative uses\n",
      "  from imp import reload\n"
     ]
    }
   ],
   "source": [
    "import numpy as np\n",
    "import json\n",
    "import glob\n",
    "import re\n",
    "\n",
    "#Gensim\n",
    "import gensim\n",
    "import gensim.corpora as corpora\n",
    "from gensim.utils import simple_preprocess\n",
    "from gensim.models import CoherenceModel\n",
    "from gensim.corpora import Dictionary\n",
    "from gensim.models import LdaModel\n",
    "\n",
    "#spacy\n",
    "import spacy\n",
    "from nltk.corpus import stopwords\n",
    "from nltk.tokenize import sent_tokenize\n",
    "from nltk.stem.wordnet import WordNetLemmatizer\n",
    "\n",
    "#vis\n",
    "import pyLDAvis\n",
    "import pyLDAvis.gensim_models\n",
    "import matplotlib.pyplot as plt \n",
    "import pandas as pd\n",
    "\n",
    "#nltk.download(punkt)\n",
    "#nltk.download(wordnet) "
   ]
  },
  {
   "cell_type": "markdown",
   "metadata": {},
   "source": [
    "### Data Input "
   ]
  },
  {
   "cell_type": "code",
   "execution_count": 5,
   "metadata": {},
   "outputs": [
    {
     "name": "stdout",
     "output_type": "stream",
     "text": [
      "My mum had me at 15 years. No idea who my dad is. I grew up with a single mum who would spend every \n"
     ]
    }
   ],
   "source": [
    "def load_data(file):\n",
    "    with open (file, \"r\", encoding=\"utf-8\") as f:\n",
    "        data = json.load(f) \n",
    "    return (data)\n",
    "\n",
    "def write_data(file, data):\n",
    "    with open (file, \"w\", encoding=\"utf-8\") as f:\n",
    "        json.dump(data, f, indent=4)\n",
    "stories = load_data(\"local_data.json\")[\"File\"]\n",
    "print(stories[0][:100])\n"
   ]
  },
  {
   "cell_type": "markdown",
   "metadata": {},
   "source": [
    "### Pre-process and vectorize the documents "
   ]
  },
  {
   "cell_type": "code",
   "execution_count": 6,
   "metadata": {
    "collapsed": true,
    "id": "MFyKGQ-x3IZV"
   },
   "outputs": [
    {
     "name": "stderr",
     "output_type": "stream",
     "text": [
      "C:\\Users\\MoRevolution\\AppData\\Roaming\\Python\\Python310\\site-packages\\catalogue\\__init__.py:135: DeprecationWarning: SelectableGroups dict interface is deprecated. Use select.\n",
      "  for entry_point in AVAILABLE_ENTRY_POINTS.get(self.entry_point_namespace, []):\n",
      "C:\\Users\\MoRevolution\\AppData\\Roaming\\Python\\Python310\\site-packages\\catalogue\\__init__.py:135: DeprecationWarning: SelectableGroups dict interface is deprecated. Use select.\n",
      "  for entry_point in AVAILABLE_ENTRY_POINTS.get(self.entry_point_namespace, []):\n",
      "C:\\Users\\MoRevolution\\AppData\\Roaming\\Python\\Python310\\site-packages\\catalogue\\__init__.py:135: DeprecationWarning: SelectableGroups dict interface is deprecated. Use select.\n",
      "  for entry_point in AVAILABLE_ENTRY_POINTS.get(self.entry_point_namespace, []):\n",
      "C:\\Users\\MoRevolution\\AppData\\Roaming\\Python\\Python310\\site-packages\\catalogue\\__init__.py:135: DeprecationWarning: SelectableGroups dict interface is deprecated. Use select.\n",
      "  for entry_point in AVAILABLE_ENTRY_POINTS.get(self.entry_point_namespace, []):\n",
      "C:\\Users\\MoRevolution\\AppData\\Roaming\\Python\\Python310\\site-packages\\catalogue\\__init__.py:123: DeprecationWarning: SelectableGroups dict interface is deprecated. Use select.\n",
      "  for entry_point in AVAILABLE_ENTRY_POINTS.get(self.entry_point_namespace, []):\n",
      "C:\\Users\\MoRevolution\\AppData\\Roaming\\Python\\Python310\\site-packages\\catalogue\\__init__.py:123: DeprecationWarning: SelectableGroups dict interface is deprecated. Use select.\n",
      "  for entry_point in AVAILABLE_ENTRY_POINTS.get(self.entry_point_namespace, []):\n",
      "C:\\Users\\MoRevolution\\AppData\\Roaming\\Python\\Python310\\site-packages\\catalogue\\__init__.py:135: DeprecationWarning: SelectableGroups dict interface is deprecated. Use select.\n",
      "  for entry_point in AVAILABLE_ENTRY_POINTS.get(self.entry_point_namespace, []):\n",
      "C:\\Users\\MoRevolution\\AppData\\Roaming\\Python\\Python310\\site-packages\\catalogue\\__init__.py:135: DeprecationWarning: SelectableGroups dict interface is deprecated. Use select.\n",
      "  for entry_point in AVAILABLE_ENTRY_POINTS.get(self.entry_point_namespace, []):\n",
      "C:\\Users\\MoRevolution\\AppData\\Roaming\\Python\\Python310\\site-packages\\catalogue\\__init__.py:135: DeprecationWarning: SelectableGroups dict interface is deprecated. Use select.\n",
      "  for entry_point in AVAILABLE_ENTRY_POINTS.get(self.entry_point_namespace, []):\n",
      "C:\\Users\\MoRevolution\\AppData\\Roaming\\Python\\Python310\\site-packages\\catalogue\\__init__.py:135: DeprecationWarning: SelectableGroups dict interface is deprecated. Use select.\n",
      "  for entry_point in AVAILABLE_ENTRY_POINTS.get(self.entry_point_namespace, []):\n",
      "C:\\Users\\MoRevolution\\AppData\\Roaming\\Python\\Python310\\site-packages\\catalogue\\__init__.py:135: DeprecationWarning: SelectableGroups dict interface is deprecated. Use select.\n",
      "  for entry_point in AVAILABLE_ENTRY_POINTS.get(self.entry_point_namespace, []):\n",
      "C:\\Users\\MoRevolution\\AppData\\Roaming\\Python\\Python310\\site-packages\\catalogue\\__init__.py:135: DeprecationWarning: SelectableGroups dict interface is deprecated. Use select.\n",
      "  for entry_point in AVAILABLE_ENTRY_POINTS.get(self.entry_point_namespace, []):\n",
      "C:\\Users\\MoRevolution\\AppData\\Roaming\\Python\\Python310\\site-packages\\catalogue\\__init__.py:135: DeprecationWarning: SelectableGroups dict interface is deprecated. Use select.\n",
      "  for entry_point in AVAILABLE_ENTRY_POINTS.get(self.entry_point_namespace, []):\n",
      "C:\\Users\\MoRevolution\\AppData\\Roaming\\Python\\Python310\\site-packages\\catalogue\\__init__.py:135: DeprecationWarning: SelectableGroups dict interface is deprecated. Use select.\n",
      "  for entry_point in AVAILABLE_ENTRY_POINTS.get(self.entry_point_namespace, []):\n",
      "C:\\Users\\MoRevolution\\AppData\\Roaming\\Python\\Python310\\site-packages\\catalogue\\__init__.py:135: DeprecationWarning: SelectableGroups dict interface is deprecated. Use select.\n",
      "  for entry_point in AVAILABLE_ENTRY_POINTS.get(self.entry_point_namespace, []):\n",
      "C:\\Users\\MoRevolution\\AppData\\Roaming\\Python\\Python310\\site-packages\\catalogue\\__init__.py:135: DeprecationWarning: SelectableGroups dict interface is deprecated. Use select.\n",
      "  for entry_point in AVAILABLE_ENTRY_POINTS.get(self.entry_point_namespace, []):\n",
      "C:\\Users\\MoRevolution\\AppData\\Roaming\\Python\\Python310\\site-packages\\catalogue\\__init__.py:135: DeprecationWarning: SelectableGroups dict interface is deprecated. Use select.\n",
      "  for entry_point in AVAILABLE_ENTRY_POINTS.get(self.entry_point_namespace, []):\n",
      "C:\\Users\\MoRevolution\\AppData\\Roaming\\Python\\Python310\\site-packages\\catalogue\\__init__.py:135: DeprecationWarning: SelectableGroups dict interface is deprecated. Use select.\n",
      "  for entry_point in AVAILABLE_ENTRY_POINTS.get(self.entry_point_namespace, []):\n",
      "C:\\Users\\MoRevolution\\AppData\\Roaming\\Python\\Python310\\site-packages\\catalogue\\__init__.py:135: DeprecationWarning: SelectableGroups dict interface is deprecated. Use select.\n",
      "  for entry_point in AVAILABLE_ENTRY_POINTS.get(self.entry_point_namespace, []):\n",
      "C:\\Users\\MoRevolution\\AppData\\Roaming\\Python\\Python310\\site-packages\\catalogue\\__init__.py:135: DeprecationWarning: SelectableGroups dict interface is deprecated. Use select.\n",
      "  for entry_point in AVAILABLE_ENTRY_POINTS.get(self.entry_point_namespace, []):\n",
      "C:\\Users\\MoRevolution\\AppData\\Roaming\\Python\\Python310\\site-packages\\catalogue\\__init__.py:135: DeprecationWarning: SelectableGroups dict interface is deprecated. Use select.\n",
      "  for entry_point in AVAILABLE_ENTRY_POINTS.get(self.entry_point_namespace, []):\n",
      "C:\\Users\\MoRevolution\\AppData\\Roaming\\Python\\Python310\\site-packages\\catalogue\\__init__.py:135: DeprecationWarning: SelectableGroups dict interface is deprecated. Use select.\n",
      "  for entry_point in AVAILABLE_ENTRY_POINTS.get(self.entry_point_namespace, []):\n",
      "C:\\Users\\MoRevolution\\AppData\\Roaming\\Python\\Python310\\site-packages\\catalogue\\__init__.py:135: DeprecationWarning: SelectableGroups dict interface is deprecated. Use select.\n",
      "  for entry_point in AVAILABLE_ENTRY_POINTS.get(self.entry_point_namespace, []):\n",
      "C:\\Users\\MoRevolution\\AppData\\Roaming\\Python\\Python310\\site-packages\\catalogue\\__init__.py:135: DeprecationWarning: SelectableGroups dict interface is deprecated. Use select.\n",
      "  for entry_point in AVAILABLE_ENTRY_POINTS.get(self.entry_point_namespace, []):\n",
      "C:\\Users\\MoRevolution\\AppData\\Roaming\\Python\\Python310\\site-packages\\catalogue\\__init__.py:135: DeprecationWarning: SelectableGroups dict interface is deprecated. Use select.\n",
      "  for entry_point in AVAILABLE_ENTRY_POINTS.get(self.entry_point_namespace, []):\n",
      "C:\\Users\\MoRevolution\\AppData\\Roaming\\Python\\Python310\\site-packages\\catalogue\\__init__.py:135: DeprecationWarning: SelectableGroups dict interface is deprecated. Use select.\n",
      "  for entry_point in AVAILABLE_ENTRY_POINTS.get(self.entry_point_namespace, []):\n",
      "C:\\Users\\MoRevolution\\AppData\\Roaming\\Python\\Python310\\site-packages\\catalogue\\__init__.py:135: DeprecationWarning: SelectableGroups dict interface is deprecated. Use select.\n",
      "  for entry_point in AVAILABLE_ENTRY_POINTS.get(self.entry_point_namespace, []):\n",
      "C:\\Users\\MoRevolution\\AppData\\Roaming\\Python\\Python310\\site-packages\\catalogue\\__init__.py:135: DeprecationWarning: SelectableGroups dict interface is deprecated. Use select.\n",
      "  for entry_point in AVAILABLE_ENTRY_POINTS.get(self.entry_point_namespace, []):\n",
      "C:\\Users\\MoRevolution\\AppData\\Roaming\\Python\\Python310\\site-packages\\catalogue\\__init__.py:135: DeprecationWarning: SelectableGroups dict interface is deprecated. Use select.\n",
      "  for entry_point in AVAILABLE_ENTRY_POINTS.get(self.entry_point_namespace, []):\n",
      "C:\\Users\\MoRevolution\\AppData\\Roaming\\Python\\Python310\\site-packages\\catalogue\\__init__.py:135: DeprecationWarning: SelectableGroups dict interface is deprecated. Use select.\n",
      "  for entry_point in AVAILABLE_ENTRY_POINTS.get(self.entry_point_namespace, []):\n",
      "C:\\Users\\MoRevolution\\AppData\\Roaming\\Python\\Python310\\site-packages\\catalogue\\__init__.py:135: DeprecationWarning: SelectableGroups dict interface is deprecated. Use select.\n",
      "  for entry_point in AVAILABLE_ENTRY_POINTS.get(self.entry_point_namespace, []):\n",
      "C:\\Users\\MoRevolution\\AppData\\Roaming\\Python\\Python310\\site-packages\\catalogue\\__init__.py:135: DeprecationWarning: SelectableGroups dict interface is deprecated. Use select.\n",
      "  for entry_point in AVAILABLE_ENTRY_POINTS.get(self.entry_point_namespace, []):\n",
      "C:\\Users\\MoRevolution\\AppData\\Roaming\\Python\\Python310\\site-packages\\catalogue\\__init__.py:135: DeprecationWarning: SelectableGroups dict interface is deprecated. Use select.\n",
      "  for entry_point in AVAILABLE_ENTRY_POINTS.get(self.entry_point_namespace, []):\n",
      "C:\\Users\\MoRevolution\\AppData\\Roaming\\Python\\Python310\\site-packages\\catalogue\\__init__.py:135: DeprecationWarning: SelectableGroups dict interface is deprecated. Use select.\n",
      "  for entry_point in AVAILABLE_ENTRY_POINTS.get(self.entry_point_namespace, []):\n",
      "C:\\Users\\MoRevolution\\AppData\\Roaming\\Python\\Python310\\site-packages\\catalogue\\__init__.py:123: DeprecationWarning: SelectableGroups dict interface is deprecated. Use select.\n",
      "  for entry_point in AVAILABLE_ENTRY_POINTS.get(self.entry_point_namespace, []):\n",
      "C:\\Users\\MoRevolution\\AppData\\Roaming\\Python\\Python310\\site-packages\\catalogue\\__init__.py:135: DeprecationWarning: SelectableGroups dict interface is deprecated. Use select.\n",
      "  for entry_point in AVAILABLE_ENTRY_POINTS.get(self.entry_point_namespace, []):\n",
      "C:\\Users\\MoRevolution\\AppData\\Roaming\\Python\\Python310\\site-packages\\catalogue\\__init__.py:135: DeprecationWarning: SelectableGroups dict interface is deprecated. Use select.\n",
      "  for entry_point in AVAILABLE_ENTRY_POINTS.get(self.entry_point_namespace, []):\n",
      "C:\\Users\\MoRevolution\\AppData\\Roaming\\Python\\Python310\\site-packages\\catalogue\\__init__.py:135: DeprecationWarning: SelectableGroups dict interface is deprecated. Use select.\n",
      "  for entry_point in AVAILABLE_ENTRY_POINTS.get(self.entry_point_namespace, []):\n",
      "C:\\Users\\MoRevolution\\AppData\\Roaming\\Python\\Python310\\site-packages\\catalogue\\__init__.py:135: DeprecationWarning: SelectableGroups dict interface is deprecated. Use select.\n",
      "  for entry_point in AVAILABLE_ENTRY_POINTS.get(self.entry_point_namespace, []):\n",
      "C:\\Users\\MoRevolution\\AppData\\Roaming\\Python\\Python310\\site-packages\\catalogue\\__init__.py:135: DeprecationWarning: SelectableGroups dict interface is deprecated. Use select.\n",
      "  for entry_point in AVAILABLE_ENTRY_POINTS.get(self.entry_point_namespace, []):\n",
      "C:\\Users\\MoRevolution\\AppData\\Roaming\\Python\\Python310\\site-packages\\catalogue\\__init__.py:135: DeprecationWarning: SelectableGroups dict interface is deprecated. Use select.\n",
      "  for entry_point in AVAILABLE_ENTRY_POINTS.get(self.entry_point_namespace, []):\n",
      "C:\\Users\\MoRevolution\\AppData\\Roaming\\Python\\Python310\\site-packages\\catalogue\\__init__.py:135: DeprecationWarning: SelectableGroups dict interface is deprecated. Use select.\n",
      "  for entry_point in AVAILABLE_ENTRY_POINTS.get(self.entry_point_namespace, []):\n",
      "C:\\Users\\MoRevolution\\AppData\\Roaming\\Python\\Python310\\site-packages\\catalogue\\__init__.py:135: DeprecationWarning: SelectableGroups dict interface is deprecated. Use select.\n",
      "  for entry_point in AVAILABLE_ENTRY_POINTS.get(self.entry_point_namespace, []):\n",
      "C:\\Users\\MoRevolution\\AppData\\Roaming\\Python\\Python310\\site-packages\\catalogue\\__init__.py:135: DeprecationWarning: SelectableGroups dict interface is deprecated. Use select.\n",
      "  for entry_point in AVAILABLE_ENTRY_POINTS.get(self.entry_point_namespace, []):\n",
      "C:\\Users\\MoRevolution\\AppData\\Roaming\\Python\\Python310\\site-packages\\catalogue\\__init__.py:135: DeprecationWarning: SelectableGroups dict interface is deprecated. Use select.\n",
      "  for entry_point in AVAILABLE_ENTRY_POINTS.get(self.entry_point_namespace, []):\n",
      "C:\\Users\\MoRevolution\\AppData\\Roaming\\Python\\Python310\\site-packages\\catalogue\\__init__.py:135: DeprecationWarning: SelectableGroups dict interface is deprecated. Use select.\n",
      "  for entry_point in AVAILABLE_ENTRY_POINTS.get(self.entry_point_namespace, []):\n",
      "C:\\Users\\MoRevolution\\AppData\\Roaming\\Python\\Python310\\site-packages\\catalogue\\__init__.py:135: DeprecationWarning: SelectableGroups dict interface is deprecated. Use select.\n",
      "  for entry_point in AVAILABLE_ENTRY_POINTS.get(self.entry_point_namespace, []):\n",
      "C:\\Users\\MoRevolution\\AppData\\Roaming\\Python\\Python310\\site-packages\\catalogue\\__init__.py:135: DeprecationWarning: SelectableGroups dict interface is deprecated. Use select.\n",
      "  for entry_point in AVAILABLE_ENTRY_POINTS.get(self.entry_point_namespace, []):\n",
      "C:\\Users\\MoRevolution\\AppData\\Roaming\\Python\\Python310\\site-packages\\catalogue\\__init__.py:135: DeprecationWarning: SelectableGroups dict interface is deprecated. Use select.\n",
      "  for entry_point in AVAILABLE_ENTRY_POINTS.get(self.entry_point_namespace, []):\n",
      "C:\\Users\\MoRevolution\\AppData\\Roaming\\Python\\Python310\\site-packages\\catalogue\\__init__.py:135: DeprecationWarning: SelectableGroups dict interface is deprecated. Use select.\n",
      "  for entry_point in AVAILABLE_ENTRY_POINTS.get(self.entry_point_namespace, []):\n",
      "C:\\Users\\MoRevolution\\AppData\\Roaming\\Python\\Python310\\site-packages\\catalogue\\__init__.py:135: DeprecationWarning: SelectableGroups dict interface is deprecated. Use select.\n",
      "  for entry_point in AVAILABLE_ENTRY_POINTS.get(self.entry_point_namespace, []):\n",
      "C:\\Users\\MoRevolution\\AppData\\Roaming\\Python\\Python310\\site-packages\\catalogue\\__init__.py:135: DeprecationWarning: SelectableGroups dict interface is deprecated. Use select.\n",
      "  for entry_point in AVAILABLE_ENTRY_POINTS.get(self.entry_point_namespace, []):\n",
      "C:\\Users\\MoRevolution\\AppData\\Roaming\\Python\\Python310\\site-packages\\catalogue\\__init__.py:135: DeprecationWarning: SelectableGroups dict interface is deprecated. Use select.\n",
      "  for entry_point in AVAILABLE_ENTRY_POINTS.get(self.entry_point_namespace, []):\n",
      "C:\\Users\\MoRevolution\\AppData\\Roaming\\Python\\Python310\\site-packages\\catalogue\\__init__.py:135: DeprecationWarning: SelectableGroups dict interface is deprecated. Use select.\n",
      "  for entry_point in AVAILABLE_ENTRY_POINTS.get(self.entry_point_namespace, []):\n",
      "C:\\Users\\MoRevolution\\AppData\\Roaming\\Python\\Python310\\site-packages\\catalogue\\__init__.py:135: DeprecationWarning: SelectableGroups dict interface is deprecated. Use select.\n",
      "  for entry_point in AVAILABLE_ENTRY_POINTS.get(self.entry_point_namespace, []):\n",
      "C:\\Users\\MoRevolution\\AppData\\Roaming\\Python\\Python310\\site-packages\\catalogue\\__init__.py:135: DeprecationWarning: SelectableGroups dict interface is deprecated. Use select.\n",
      "  for entry_point in AVAILABLE_ENTRY_POINTS.get(self.entry_point_namespace, []):\n",
      "C:\\Users\\MoRevolution\\AppData\\Roaming\\Python\\Python310\\site-packages\\catalogue\\__init__.py:135: DeprecationWarning: SelectableGroups dict interface is deprecated. Use select.\n",
      "  for entry_point in AVAILABLE_ENTRY_POINTS.get(self.entry_point_namespace, []):\n",
      "C:\\Users\\MoRevolution\\AppData\\Roaming\\Python\\Python310\\site-packages\\catalogue\\__init__.py:135: DeprecationWarning: SelectableGroups dict interface is deprecated. Use select.\n",
      "  for entry_point in AVAILABLE_ENTRY_POINTS.get(self.entry_point_namespace, []):\n",
      "C:\\Users\\MoRevolution\\AppData\\Roaming\\Python\\Python310\\site-packages\\catalogue\\__init__.py:135: DeprecationWarning: SelectableGroups dict interface is deprecated. Use select.\n",
      "  for entry_point in AVAILABLE_ENTRY_POINTS.get(self.entry_point_namespace, []):\n",
      "C:\\Users\\MoRevolution\\AppData\\Roaming\\Python\\Python310\\site-packages\\catalogue\\__init__.py:135: DeprecationWarning: SelectableGroups dict interface is deprecated. Use select.\n",
      "  for entry_point in AVAILABLE_ENTRY_POINTS.get(self.entry_point_namespace, []):\n",
      "C:\\Users\\MoRevolution\\AppData\\Roaming\\Python\\Python310\\site-packages\\catalogue\\__init__.py:135: DeprecationWarning: SelectableGroups dict interface is deprecated. Use select.\n",
      "  for entry_point in AVAILABLE_ENTRY_POINTS.get(self.entry_point_namespace, []):\n",
      "C:\\Users\\MoRevolution\\AppData\\Roaming\\Python\\Python310\\site-packages\\catalogue\\__init__.py:135: DeprecationWarning: SelectableGroups dict interface is deprecated. Use select.\n",
      "  for entry_point in AVAILABLE_ENTRY_POINTS.get(self.entry_point_namespace, []):\n",
      "C:\\Users\\MoRevolution\\AppData\\Roaming\\Python\\Python310\\site-packages\\catalogue\\__init__.py:135: DeprecationWarning: SelectableGroups dict interface is deprecated. Use select.\n",
      "  for entry_point in AVAILABLE_ENTRY_POINTS.get(self.entry_point_namespace, []):\n",
      "C:\\Users\\MoRevolution\\AppData\\Roaming\\Python\\Python310\\site-packages\\catalogue\\__init__.py:135: DeprecationWarning: SelectableGroups dict interface is deprecated. Use select.\n",
      "  for entry_point in AVAILABLE_ENTRY_POINTS.get(self.entry_point_namespace, []):\n",
      "C:\\Users\\MoRevolution\\AppData\\Roaming\\Python\\Python310\\site-packages\\catalogue\\__init__.py:135: DeprecationWarning: SelectableGroups dict interface is deprecated. Use select.\n",
      "  for entry_point in AVAILABLE_ENTRY_POINTS.get(self.entry_point_namespace, []):\n",
      "C:\\Users\\MoRevolution\\AppData\\Roaming\\Python\\Python310\\site-packages\\catalogue\\__init__.py:135: DeprecationWarning: SelectableGroups dict interface is deprecated. Use select.\n",
      "  for entry_point in AVAILABLE_ENTRY_POINTS.get(self.entry_point_namespace, []):\n",
      "C:\\Users\\MoRevolution\\AppData\\Roaming\\Python\\Python310\\site-packages\\catalogue\\__init__.py:135: DeprecationWarning: SelectableGroups dict interface is deprecated. Use select.\n",
      "  for entry_point in AVAILABLE_ENTRY_POINTS.get(self.entry_point_namespace, []):\n",
      "C:\\Users\\MoRevolution\\AppData\\Roaming\\Python\\Python310\\site-packages\\catalogue\\__init__.py:135: DeprecationWarning: SelectableGroups dict interface is deprecated. Use select.\n",
      "  for entry_point in AVAILABLE_ENTRY_POINTS.get(self.entry_point_namespace, []):\n",
      "C:\\Users\\MoRevolution\\AppData\\Roaming\\Python\\Python310\\site-packages\\catalogue\\__init__.py:135: DeprecationWarning: SelectableGroups dict interface is deprecated. Use select.\n",
      "  for entry_point in AVAILABLE_ENTRY_POINTS.get(self.entry_point_namespace, []):\n",
      "C:\\Users\\MoRevolution\\AppData\\Roaming\\Python\\Python310\\site-packages\\catalogue\\__init__.py:135: DeprecationWarning: SelectableGroups dict interface is deprecated. Use select.\n",
      "  for entry_point in AVAILABLE_ENTRY_POINTS.get(self.entry_point_namespace, []):\n",
      "C:\\Users\\MoRevolution\\AppData\\Roaming\\Python\\Python310\\site-packages\\catalogue\\__init__.py:135: DeprecationWarning: SelectableGroups dict interface is deprecated. Use select.\n",
      "  for entry_point in AVAILABLE_ENTRY_POINTS.get(self.entry_point_namespace, []):\n",
      "C:\\Users\\MoRevolution\\AppData\\Roaming\\Python\\Python310\\site-packages\\catalogue\\__init__.py:135: DeprecationWarning: SelectableGroups dict interface is deprecated. Use select.\n",
      "  for entry_point in AVAILABLE_ENTRY_POINTS.get(self.entry_point_namespace, []):\n",
      "C:\\Users\\MoRevolution\\AppData\\Roaming\\Python\\Python310\\site-packages\\catalogue\\__init__.py:135: DeprecationWarning: SelectableGroups dict interface is deprecated. Use select.\n",
      "  for entry_point in AVAILABLE_ENTRY_POINTS.get(self.entry_point_namespace, []):\n",
      "C:\\Users\\MoRevolution\\AppData\\Roaming\\Python\\Python310\\site-packages\\catalogue\\__init__.py:135: DeprecationWarning: SelectableGroups dict interface is deprecated. Use select.\n",
      "  for entry_point in AVAILABLE_ENTRY_POINTS.get(self.entry_point_namespace, []):\n",
      "C:\\Users\\MoRevolution\\AppData\\Roaming\\Python\\Python310\\site-packages\\catalogue\\__init__.py:135: DeprecationWarning: SelectableGroups dict interface is deprecated. Use select.\n",
      "  for entry_point in AVAILABLE_ENTRY_POINTS.get(self.entry_point_namespace, []):\n",
      "C:\\Users\\MoRevolution\\AppData\\Roaming\\Python\\Python310\\site-packages\\catalogue\\__init__.py:135: DeprecationWarning: SelectableGroups dict interface is deprecated. Use select.\n",
      "  for entry_point in AVAILABLE_ENTRY_POINTS.get(self.entry_point_namespace, []):\n",
      "C:\\Users\\MoRevolution\\AppData\\Roaming\\Python\\Python310\\site-packages\\catalogue\\__init__.py:135: DeprecationWarning: SelectableGroups dict interface is deprecated. Use select.\n",
      "  for entry_point in AVAILABLE_ENTRY_POINTS.get(self.entry_point_namespace, []):\n",
      "C:\\Users\\MoRevolution\\AppData\\Roaming\\Python\\Python310\\site-packages\\catalogue\\__init__.py:135: DeprecationWarning: SelectableGroups dict interface is deprecated. Use select.\n",
      "  for entry_point in AVAILABLE_ENTRY_POINTS.get(self.entry_point_namespace, []):\n",
      "C:\\Users\\MoRevolution\\AppData\\Roaming\\Python\\Python310\\site-packages\\catalogue\\__init__.py:135: DeprecationWarning: SelectableGroups dict interface is deprecated. Use select.\n",
      "  for entry_point in AVAILABLE_ENTRY_POINTS.get(self.entry_point_namespace, []):\n",
      "C:\\Users\\MoRevolution\\AppData\\Roaming\\Python\\Python310\\site-packages\\catalogue\\__init__.py:123: DeprecationWarning: SelectableGroups dict interface is deprecated. Use select.\n",
      "  for entry_point in AVAILABLE_ENTRY_POINTS.get(self.entry_point_namespace, []):\n",
      "C:\\Users\\MoRevolution\\AppData\\Roaming\\Python\\Python310\\site-packages\\catalogue\\__init__.py:135: DeprecationWarning: SelectableGroups dict interface is deprecated. Use select.\n",
      "  for entry_point in AVAILABLE_ENTRY_POINTS.get(self.entry_point_namespace, []):\n",
      "C:\\Users\\MoRevolution\\AppData\\Roaming\\Python\\Python310\\site-packages\\catalogue\\__init__.py:135: DeprecationWarning: SelectableGroups dict interface is deprecated. Use select.\n",
      "  for entry_point in AVAILABLE_ENTRY_POINTS.get(self.entry_point_namespace, []):\n",
      "C:\\Users\\MoRevolution\\AppData\\Roaming\\Python\\Python310\\site-packages\\catalogue\\__init__.py:135: DeprecationWarning: SelectableGroups dict interface is deprecated. Use select.\n",
      "  for entry_point in AVAILABLE_ENTRY_POINTS.get(self.entry_point_namespace, []):\n",
      "C:\\Users\\MoRevolution\\AppData\\Roaming\\Python\\Python310\\site-packages\\catalogue\\__init__.py:135: DeprecationWarning: SelectableGroups dict interface is deprecated. Use select.\n",
      "  for entry_point in AVAILABLE_ENTRY_POINTS.get(self.entry_point_namespace, []):\n",
      "C:\\Users\\MoRevolution\\AppData\\Roaming\\Python\\Python310\\site-packages\\catalogue\\__init__.py:135: DeprecationWarning: SelectableGroups dict interface is deprecated. Use select.\n",
      "  for entry_point in AVAILABLE_ENTRY_POINTS.get(self.entry_point_namespace, []):\n",
      "C:\\Users\\MoRevolution\\AppData\\Roaming\\Python\\Python310\\site-packages\\catalogue\\__init__.py:135: DeprecationWarning: SelectableGroups dict interface is deprecated. Use select.\n",
      "  for entry_point in AVAILABLE_ENTRY_POINTS.get(self.entry_point_namespace, []):\n",
      "C:\\Users\\MoRevolution\\AppData\\Roaming\\Python\\Python310\\site-packages\\catalogue\\__init__.py:135: DeprecationWarning: SelectableGroups dict interface is deprecated. Use select.\n",
      "  for entry_point in AVAILABLE_ENTRY_POINTS.get(self.entry_point_namespace, []):\n",
      "C:\\Users\\MoRevolution\\AppData\\Roaming\\Python\\Python310\\site-packages\\catalogue\\__init__.py:135: DeprecationWarning: SelectableGroups dict interface is deprecated. Use select.\n",
      "  for entry_point in AVAILABLE_ENTRY_POINTS.get(self.entry_point_namespace, []):\n",
      "C:\\Users\\MoRevolution\\AppData\\Roaming\\Python\\Python310\\site-packages\\catalogue\\__init__.py:135: DeprecationWarning: SelectableGroups dict interface is deprecated. Use select.\n",
      "  for entry_point in AVAILABLE_ENTRY_POINTS.get(self.entry_point_namespace, []):\n",
      "C:\\Users\\MoRevolution\\AppData\\Roaming\\Python\\Python310\\site-packages\\catalogue\\__init__.py:135: DeprecationWarning: SelectableGroups dict interface is deprecated. Use select.\n",
      "  for entry_point in AVAILABLE_ENTRY_POINTS.get(self.entry_point_namespace, []):\n",
      "C:\\Users\\MoRevolution\\AppData\\Roaming\\Python\\Python310\\site-packages\\catalogue\\__init__.py:135: DeprecationWarning: SelectableGroups dict interface is deprecated. Use select.\n",
      "  for entry_point in AVAILABLE_ENTRY_POINTS.get(self.entry_point_namespace, []):\n",
      "C:\\Users\\MoRevolution\\AppData\\Roaming\\Python\\Python310\\site-packages\\catalogue\\__init__.py:135: DeprecationWarning: SelectableGroups dict interface is deprecated. Use select.\n",
      "  for entry_point in AVAILABLE_ENTRY_POINTS.get(self.entry_point_namespace, []):\n"
     ]
    },
    {
     "name": "stderr",
     "output_type": "stream",
     "text": [
      "C:\\Users\\MoRevolution\\AppData\\Roaming\\Python\\Python310\\site-packages\\catalogue\\__init__.py:123: DeprecationWarning: SelectableGroups dict interface is deprecated. Use select.\n",
      "  for entry_point in AVAILABLE_ENTRY_POINTS.get(self.entry_point_namespace, []):\n",
      "C:\\Users\\MoRevolution\\AppData\\Roaming\\Python\\Python310\\site-packages\\catalogue\\__init__.py:123: DeprecationWarning: SelectableGroups dict interface is deprecated. Use select.\n",
      "  for entry_point in AVAILABLE_ENTRY_POINTS.get(self.entry_point_namespace, []):\n",
      "C:\\Users\\MoRevolution\\AppData\\Roaming\\Python\\Python310\\site-packages\\catalogue\\__init__.py:123: DeprecationWarning: SelectableGroups dict interface is deprecated. Use select.\n",
      "  for entry_point in AVAILABLE_ENTRY_POINTS.get(self.entry_point_namespace, []):\n",
      "C:\\Users\\MoRevolution\\AppData\\Roaming\\Python\\Python310\\site-packages\\catalogue\\__init__.py:123: DeprecationWarning: SelectableGroups dict interface is deprecated. Use select.\n",
      "  for entry_point in AVAILABLE_ENTRY_POINTS.get(self.entry_point_namespace, []):\n",
      "C:\\Users\\MoRevolution\\AppData\\Roaming\\Python\\Python310\\site-packages\\catalogue\\__init__.py:123: DeprecationWarning: SelectableGroups dict interface is deprecated. Use select.\n",
      "  for entry_point in AVAILABLE_ENTRY_POINTS.get(self.entry_point_namespace, []):\n",
      "C:\\Users\\MoRevolution\\AppData\\Roaming\\Python\\Python310\\site-packages\\catalogue\\__init__.py:123: DeprecationWarning: SelectableGroups dict interface is deprecated. Use select.\n",
      "  for entry_point in AVAILABLE_ENTRY_POINTS.get(self.entry_point_namespace, []):\n",
      "C:\\Users\\MoRevolution\\AppData\\Roaming\\Python\\Python310\\site-packages\\catalogue\\__init__.py:123: DeprecationWarning: SelectableGroups dict interface is deprecated. Use select.\n",
      "  for entry_point in AVAILABLE_ENTRY_POINTS.get(self.entry_point_namespace, []):\n",
      "C:\\Users\\MoRevolution\\AppData\\Roaming\\Python\\Python310\\site-packages\\catalogue\\__init__.py:123: DeprecationWarning: SelectableGroups dict interface is deprecated. Use select.\n",
      "  for entry_point in AVAILABLE_ENTRY_POINTS.get(self.entry_point_namespace, []):\n",
      "C:\\Users\\MoRevolution\\AppData\\Roaming\\Python\\Python310\\site-packages\\catalogue\\__init__.py:123: DeprecationWarning: SelectableGroups dict interface is deprecated. Use select.\n",
      "  for entry_point in AVAILABLE_ENTRY_POINTS.get(self.entry_point_namespace, []):\n",
      "C:\\Users\\MoRevolution\\AppData\\Roaming\\Python\\Python310\\site-packages\\catalogue\\__init__.py:123: DeprecationWarning: SelectableGroups dict interface is deprecated. Use select.\n",
      "  for entry_point in AVAILABLE_ENTRY_POINTS.get(self.entry_point_namespace, []):\n",
      "C:\\Users\\MoRevolution\\AppData\\Roaming\\Python\\Python310\\site-packages\\catalogue\\__init__.py:123: DeprecationWarning: SelectableGroups dict interface is deprecated. Use select.\n",
      "  for entry_point in AVAILABLE_ENTRY_POINTS.get(self.entry_point_namespace, []):\n",
      "C:\\Users\\MoRevolution\\AppData\\Roaming\\Python\\Python310\\site-packages\\catalogue\\__init__.py:123: DeprecationWarning: SelectableGroups dict interface is deprecated. Use select.\n",
      "  for entry_point in AVAILABLE_ENTRY_POINTS.get(self.entry_point_namespace, []):\n",
      "C:\\Users\\MoRevolution\\AppData\\Roaming\\Python\\Python310\\site-packages\\catalogue\\__init__.py:123: DeprecationWarning: SelectableGroups dict interface is deprecated. Use select.\n",
      "  for entry_point in AVAILABLE_ENTRY_POINTS.get(self.entry_point_namespace, []):\n",
      "C:\\Users\\MoRevolution\\AppData\\Roaming\\Python\\Python310\\site-packages\\catalogue\\__init__.py:123: DeprecationWarning: SelectableGroups dict interface is deprecated. Use select.\n",
      "  for entry_point in AVAILABLE_ENTRY_POINTS.get(self.entry_point_namespace, []):\n",
      "C:\\Users\\MoRevolution\\AppData\\Roaming\\Python\\Python310\\site-packages\\catalogue\\__init__.py:123: DeprecationWarning: SelectableGroups dict interface is deprecated. Use select.\n",
      "  for entry_point in AVAILABLE_ENTRY_POINTS.get(self.entry_point_namespace, []):\n",
      "C:\\Users\\MoRevolution\\AppData\\Roaming\\Python\\Python310\\site-packages\\catalogue\\__init__.py:123: DeprecationWarning: SelectableGroups dict interface is deprecated. Use select.\n",
      "  for entry_point in AVAILABLE_ENTRY_POINTS.get(self.entry_point_namespace, []):\n",
      "C:\\Users\\MoRevolution\\AppData\\Roaming\\Python\\Python310\\site-packages\\catalogue\\__init__.py:123: DeprecationWarning: SelectableGroups dict interface is deprecated. Use select.\n",
      "  for entry_point in AVAILABLE_ENTRY_POINTS.get(self.entry_point_namespace, []):\n",
      "C:\\Users\\MoRevolution\\AppData\\Roaming\\Python\\Python310\\site-packages\\catalogue\\__init__.py:123: DeprecationWarning: SelectableGroups dict interface is deprecated. Use select.\n",
      "  for entry_point in AVAILABLE_ENTRY_POINTS.get(self.entry_point_namespace, []):\n",
      "C:\\Users\\MoRevolution\\AppData\\Roaming\\Python\\Python310\\site-packages\\catalogue\\__init__.py:123: DeprecationWarning: SelectableGroups dict interface is deprecated. Use select.\n",
      "  for entry_point in AVAILABLE_ENTRY_POINTS.get(self.entry_point_namespace, []):\n",
      "C:\\Users\\MoRevolution\\AppData\\Roaming\\Python\\Python310\\site-packages\\catalogue\\__init__.py:123: DeprecationWarning: SelectableGroups dict interface is deprecated. Use select.\n",
      "  for entry_point in AVAILABLE_ENTRY_POINTS.get(self.entry_point_namespace, []):\n",
      "C:\\Users\\MoRevolution\\AppData\\Roaming\\Python\\Python310\\site-packages\\catalogue\\__init__.py:123: DeprecationWarning: SelectableGroups dict interface is deprecated. Use select.\n",
      "  for entry_point in AVAILABLE_ENTRY_POINTS.get(self.entry_point_namespace, []):\n",
      "C:\\Users\\MoRevolution\\AppData\\Roaming\\Python\\Python310\\site-packages\\catalogue\\__init__.py:123: DeprecationWarning: SelectableGroups dict interface is deprecated. Use select.\n",
      "  for entry_point in AVAILABLE_ENTRY_POINTS.get(self.entry_point_namespace, []):\n",
      "C:\\Users\\MoRevolution\\AppData\\Roaming\\Python\\Python310\\site-packages\\catalogue\\__init__.py:123: DeprecationWarning: SelectableGroups dict interface is deprecated. Use select.\n",
      "  for entry_point in AVAILABLE_ENTRY_POINTS.get(self.entry_point_namespace, []):\n",
      "C:\\Users\\MoRevolution\\AppData\\Roaming\\Python\\Python310\\site-packages\\catalogue\\__init__.py:123: DeprecationWarning: SelectableGroups dict interface is deprecated. Use select.\n",
      "  for entry_point in AVAILABLE_ENTRY_POINTS.get(self.entry_point_namespace, []):\n",
      "C:\\Users\\MoRevolution\\AppData\\Roaming\\Python\\Python310\\site-packages\\catalogue\\__init__.py:123: DeprecationWarning: SelectableGroups dict interface is deprecated. Use select.\n",
      "  for entry_point in AVAILABLE_ENTRY_POINTS.get(self.entry_point_namespace, []):\n",
      "C:\\Users\\MoRevolution\\AppData\\Roaming\\Python\\Python310\\site-packages\\catalogue\\__init__.py:123: DeprecationWarning: SelectableGroups dict interface is deprecated. Use select.\n",
      "  for entry_point in AVAILABLE_ENTRY_POINTS.get(self.entry_point_namespace, []):\n",
      "C:\\Users\\MoRevolution\\AppData\\Roaming\\Python\\Python310\\site-packages\\catalogue\\__init__.py:123: DeprecationWarning: SelectableGroups dict interface is deprecated. Use select.\n",
      "  for entry_point in AVAILABLE_ENTRY_POINTS.get(self.entry_point_namespace, []):\n",
      "C:\\Users\\MoRevolution\\AppData\\Roaming\\Python\\Python310\\site-packages\\catalogue\\__init__.py:123: DeprecationWarning: SelectableGroups dict interface is deprecated. Use select.\n",
      "  for entry_point in AVAILABLE_ENTRY_POINTS.get(self.entry_point_namespace, []):\n",
      "C:\\Users\\MoRevolution\\AppData\\Roaming\\Python\\Python310\\site-packages\\catalogue\\__init__.py:123: DeprecationWarning: SelectableGroups dict interface is deprecated. Use select.\n",
      "  for entry_point in AVAILABLE_ENTRY_POINTS.get(self.entry_point_namespace, []):\n",
      "C:\\Users\\MoRevolution\\AppData\\Roaming\\Python\\Python310\\site-packages\\catalogue\\__init__.py:123: DeprecationWarning: SelectableGroups dict interface is deprecated. Use select.\n",
      "  for entry_point in AVAILABLE_ENTRY_POINTS.get(self.entry_point_namespace, []):\n",
      "C:\\Users\\MoRevolution\\AppData\\Roaming\\Python\\Python310\\site-packages\\catalogue\\__init__.py:123: DeprecationWarning: SelectableGroups dict interface is deprecated. Use select.\n",
      "  for entry_point in AVAILABLE_ENTRY_POINTS.get(self.entry_point_namespace, []):\n",
      "C:\\Users\\MoRevolution\\AppData\\Roaming\\Python\\Python310\\site-packages\\catalogue\\__init__.py:123: DeprecationWarning: SelectableGroups dict interface is deprecated. Use select.\n",
      "  for entry_point in AVAILABLE_ENTRY_POINTS.get(self.entry_point_namespace, []):\n",
      "C:\\Users\\MoRevolution\\AppData\\Roaming\\Python\\Python310\\site-packages\\catalogue\\__init__.py:123: DeprecationWarning: SelectableGroups dict interface is deprecated. Use select.\n",
      "  for entry_point in AVAILABLE_ENTRY_POINTS.get(self.entry_point_namespace, []):\n",
      "C:\\Users\\MoRevolution\\AppData\\Roaming\\Python\\Python310\\site-packages\\catalogue\\__init__.py:123: DeprecationWarning: SelectableGroups dict interface is deprecated. Use select.\n",
      "  for entry_point in AVAILABLE_ENTRY_POINTS.get(self.entry_point_namespace, []):\n",
      "C:\\Users\\MoRevolution\\AppData\\Roaming\\Python\\Python310\\site-packages\\catalogue\\__init__.py:123: DeprecationWarning: SelectableGroups dict interface is deprecated. Use select.\n",
      "  for entry_point in AVAILABLE_ENTRY_POINTS.get(self.entry_point_namespace, []):\n",
      "C:\\Users\\MoRevolution\\AppData\\Roaming\\Python\\Python310\\site-packages\\catalogue\\__init__.py:123: DeprecationWarning: SelectableGroups dict interface is deprecated. Use select.\n",
      "  for entry_point in AVAILABLE_ENTRY_POINTS.get(self.entry_point_namespace, []):\n",
      "C:\\Users\\MoRevolution\\AppData\\Roaming\\Python\\Python310\\site-packages\\catalogue\\__init__.py:123: DeprecationWarning: SelectableGroups dict interface is deprecated. Use select.\n",
      "  for entry_point in AVAILABLE_ENTRY_POINTS.get(self.entry_point_namespace, []):\n",
      "C:\\Users\\MoRevolution\\AppData\\Roaming\\Python\\Python310\\site-packages\\catalogue\\__init__.py:123: DeprecationWarning: SelectableGroups dict interface is deprecated. Use select.\n",
      "  for entry_point in AVAILABLE_ENTRY_POINTS.get(self.entry_point_namespace, []):\n",
      "C:\\Users\\MoRevolution\\AppData\\Roaming\\Python\\Python310\\site-packages\\catalogue\\__init__.py:123: DeprecationWarning: SelectableGroups dict interface is deprecated. Use select.\n",
      "  for entry_point in AVAILABLE_ENTRY_POINTS.get(self.entry_point_namespace, []):\n",
      "C:\\Users\\MoRevolution\\AppData\\Roaming\\Python\\Python310\\site-packages\\catalogue\\__init__.py:123: DeprecationWarning: SelectableGroups dict interface is deprecated. Use select.\n",
      "  for entry_point in AVAILABLE_ENTRY_POINTS.get(self.entry_point_namespace, []):\n",
      "C:\\Users\\MoRevolution\\AppData\\Roaming\\Python\\Python310\\site-packages\\catalogue\\__init__.py:123: DeprecationWarning: SelectableGroups dict interface is deprecated. Use select.\n",
      "  for entry_point in AVAILABLE_ENTRY_POINTS.get(self.entry_point_namespace, []):\n",
      "C:\\Users\\MoRevolution\\AppData\\Roaming\\Python\\Python310\\site-packages\\catalogue\\__init__.py:123: DeprecationWarning: SelectableGroups dict interface is deprecated. Use select.\n",
      "  for entry_point in AVAILABLE_ENTRY_POINTS.get(self.entry_point_namespace, []):\n",
      "C:\\Users\\MoRevolution\\AppData\\Roaming\\Python\\Python310\\site-packages\\catalogue\\__init__.py:123: DeprecationWarning: SelectableGroups dict interface is deprecated. Use select.\n",
      "  for entry_point in AVAILABLE_ENTRY_POINTS.get(self.entry_point_namespace, []):\n",
      "C:\\Users\\MoRevolution\\AppData\\Roaming\\Python\\Python310\\site-packages\\catalogue\\__init__.py:123: DeprecationWarning: SelectableGroups dict interface is deprecated. Use select.\n",
      "  for entry_point in AVAILABLE_ENTRY_POINTS.get(self.entry_point_namespace, []):\n",
      "C:\\Users\\MoRevolution\\AppData\\Roaming\\Python\\Python310\\site-packages\\catalogue\\__init__.py:123: DeprecationWarning: SelectableGroups dict interface is deprecated. Use select.\n",
      "  for entry_point in AVAILABLE_ENTRY_POINTS.get(self.entry_point_namespace, []):\n",
      "C:\\Users\\MoRevolution\\AppData\\Roaming\\Python\\Python310\\site-packages\\catalogue\\__init__.py:123: DeprecationWarning: SelectableGroups dict interface is deprecated. Use select.\n",
      "  for entry_point in AVAILABLE_ENTRY_POINTS.get(self.entry_point_namespace, []):\n",
      "C:\\Users\\MoRevolution\\AppData\\Roaming\\Python\\Python310\\site-packages\\catalogue\\__init__.py:123: DeprecationWarning: SelectableGroups dict interface is deprecated. Use select.\n",
      "  for entry_point in AVAILABLE_ENTRY_POINTS.get(self.entry_point_namespace, []):\n",
      "C:\\Users\\MoRevolution\\AppData\\Roaming\\Python\\Python310\\site-packages\\catalogue\\__init__.py:123: DeprecationWarning: SelectableGroups dict interface is deprecated. Use select.\n",
      "  for entry_point in AVAILABLE_ENTRY_POINTS.get(self.entry_point_namespace, []):\n",
      "C:\\Users\\MoRevolution\\AppData\\Roaming\\Python\\Python310\\site-packages\\catalogue\\__init__.py:123: DeprecationWarning: SelectableGroups dict interface is deprecated. Use select.\n",
      "  for entry_point in AVAILABLE_ENTRY_POINTS.get(self.entry_point_namespace, []):\n",
      "C:\\Users\\MoRevolution\\AppData\\Roaming\\Python\\Python310\\site-packages\\catalogue\\__init__.py:123: DeprecationWarning: SelectableGroups dict interface is deprecated. Use select.\n",
      "  for entry_point in AVAILABLE_ENTRY_POINTS.get(self.entry_point_namespace, []):\n",
      "C:\\Users\\MoRevolution\\AppData\\Roaming\\Python\\Python310\\site-packages\\catalogue\\__init__.py:123: DeprecationWarning: SelectableGroups dict interface is deprecated. Use select.\n",
      "  for entry_point in AVAILABLE_ENTRY_POINTS.get(self.entry_point_namespace, []):\n",
      "C:\\Users\\MoRevolution\\AppData\\Roaming\\Python\\Python310\\site-packages\\catalogue\\__init__.py:123: DeprecationWarning: SelectableGroups dict interface is deprecated. Use select.\n",
      "  for entry_point in AVAILABLE_ENTRY_POINTS.get(self.entry_point_namespace, []):\n",
      "C:\\Users\\MoRevolution\\AppData\\Roaming\\Python\\Python310\\site-packages\\catalogue\\__init__.py:123: DeprecationWarning: SelectableGroups dict interface is deprecated. Use select.\n",
      "  for entry_point in AVAILABLE_ENTRY_POINTS.get(self.entry_point_namespace, []):\n",
      "C:\\Users\\MoRevolution\\AppData\\Roaming\\Python\\Python310\\site-packages\\catalogue\\__init__.py:123: DeprecationWarning: SelectableGroups dict interface is deprecated. Use select.\n",
      "  for entry_point in AVAILABLE_ENTRY_POINTS.get(self.entry_point_namespace, []):\n",
      "C:\\Users\\MoRevolution\\AppData\\Roaming\\Python\\Python310\\site-packages\\catalogue\\__init__.py:123: DeprecationWarning: SelectableGroups dict interface is deprecated. Use select.\n",
      "  for entry_point in AVAILABLE_ENTRY_POINTS.get(self.entry_point_namespace, []):\n",
      "C:\\Users\\MoRevolution\\AppData\\Roaming\\Python\\Python310\\site-packages\\catalogue\\__init__.py:123: DeprecationWarning: SelectableGroups dict interface is deprecated. Use select.\n",
      "  for entry_point in AVAILABLE_ENTRY_POINTS.get(self.entry_point_namespace, []):\n",
      "C:\\Users\\MoRevolution\\AppData\\Roaming\\Python\\Python310\\site-packages\\catalogue\\__init__.py:123: DeprecationWarning: SelectableGroups dict interface is deprecated. Use select.\n",
      "  for entry_point in AVAILABLE_ENTRY_POINTS.get(self.entry_point_namespace, []):\n",
      "C:\\Users\\MoRevolution\\AppData\\Roaming\\Python\\Python310\\site-packages\\catalogue\\__init__.py:123: DeprecationWarning: SelectableGroups dict interface is deprecated. Use select.\n",
      "  for entry_point in AVAILABLE_ENTRY_POINTS.get(self.entry_point_namespace, []):\n",
      "C:\\Users\\MoRevolution\\AppData\\Roaming\\Python\\Python310\\site-packages\\catalogue\\__init__.py:123: DeprecationWarning: SelectableGroups dict interface is deprecated. Use select.\n",
      "  for entry_point in AVAILABLE_ENTRY_POINTS.get(self.entry_point_namespace, []):\n",
      "C:\\Users\\MoRevolution\\AppData\\Roaming\\Python\\Python310\\site-packages\\catalogue\\__init__.py:123: DeprecationWarning: SelectableGroups dict interface is deprecated. Use select.\n",
      "  for entry_point in AVAILABLE_ENTRY_POINTS.get(self.entry_point_namespace, []):\n",
      "C:\\Users\\MoRevolution\\AppData\\Roaming\\Python\\Python310\\site-packages\\catalogue\\__init__.py:123: DeprecationWarning: SelectableGroups dict interface is deprecated. Use select.\n",
      "  for entry_point in AVAILABLE_ENTRY_POINTS.get(self.entry_point_namespace, []):\n",
      "C:\\Users\\MoRevolution\\AppData\\Roaming\\Python\\Python310\\site-packages\\catalogue\\__init__.py:123: DeprecationWarning: SelectableGroups dict interface is deprecated. Use select.\n",
      "  for entry_point in AVAILABLE_ENTRY_POINTS.get(self.entry_point_namespace, []):\n",
      "C:\\Users\\MoRevolution\\AppData\\Roaming\\Python\\Python310\\site-packages\\catalogue\\__init__.py:123: DeprecationWarning: SelectableGroups dict interface is deprecated. Use select.\n",
      "  for entry_point in AVAILABLE_ENTRY_POINTS.get(self.entry_point_namespace, []):\n",
      "C:\\Users\\MoRevolution\\AppData\\Roaming\\Python\\Python310\\site-packages\\catalogue\\__init__.py:123: DeprecationWarning: SelectableGroups dict interface is deprecated. Use select.\n",
      "  for entry_point in AVAILABLE_ENTRY_POINTS.get(self.entry_point_namespace, []):\n",
      "C:\\Users\\MoRevolution\\AppData\\Roaming\\Python\\Python310\\site-packages\\catalogue\\__init__.py:123: DeprecationWarning: SelectableGroups dict interface is deprecated. Use select.\n",
      "  for entry_point in AVAILABLE_ENTRY_POINTS.get(self.entry_point_namespace, []):\n",
      "C:\\Users\\MoRevolution\\AppData\\Roaming\\Python\\Python310\\site-packages\\catalogue\\__init__.py:123: DeprecationWarning: SelectableGroups dict interface is deprecated. Use select.\n",
      "  for entry_point in AVAILABLE_ENTRY_POINTS.get(self.entry_point_namespace, []):\n",
      "C:\\Users\\MoRevolution\\AppData\\Roaming\\Python\\Python310\\site-packages\\catalogue\\__init__.py:123: DeprecationWarning: SelectableGroups dict interface is deprecated. Use select.\n",
      "  for entry_point in AVAILABLE_ENTRY_POINTS.get(self.entry_point_namespace, []):\n",
      "C:\\Users\\MoRevolution\\AppData\\Roaming\\Python\\Python310\\site-packages\\catalogue\\__init__.py:123: DeprecationWarning: SelectableGroups dict interface is deprecated. Use select.\n",
      "  for entry_point in AVAILABLE_ENTRY_POINTS.get(self.entry_point_namespace, []):\n",
      "C:\\Users\\MoRevolution\\AppData\\Roaming\\Python\\Python310\\site-packages\\catalogue\\__init__.py:123: DeprecationWarning: SelectableGroups dict interface is deprecated. Use select.\n",
      "  for entry_point in AVAILABLE_ENTRY_POINTS.get(self.entry_point_namespace, []):\n",
      "C:\\Users\\MoRevolution\\AppData\\Roaming\\Python\\Python310\\site-packages\\catalogue\\__init__.py:123: DeprecationWarning: SelectableGroups dict interface is deprecated. Use select.\n",
      "  for entry_point in AVAILABLE_ENTRY_POINTS.get(self.entry_point_namespace, []):\n",
      "C:\\Users\\MoRevolution\\AppData\\Roaming\\Python\\Python310\\site-packages\\catalogue\\__init__.py:123: DeprecationWarning: SelectableGroups dict interface is deprecated. Use select.\n",
      "  for entry_point in AVAILABLE_ENTRY_POINTS.get(self.entry_point_namespace, []):\n",
      "C:\\Users\\MoRevolution\\AppData\\Roaming\\Python\\Python310\\site-packages\\catalogue\\__init__.py:123: DeprecationWarning: SelectableGroups dict interface is deprecated. Use select.\n",
      "  for entry_point in AVAILABLE_ENTRY_POINTS.get(self.entry_point_namespace, []):\n",
      "C:\\Users\\MoRevolution\\AppData\\Roaming\\Python\\Python310\\site-packages\\catalogue\\__init__.py:123: DeprecationWarning: SelectableGroups dict interface is deprecated. Use select.\n",
      "  for entry_point in AVAILABLE_ENTRY_POINTS.get(self.entry_point_namespace, []):\n",
      "C:\\Users\\MoRevolution\\AppData\\Roaming\\Python\\Python310\\site-packages\\catalogue\\__init__.py:123: DeprecationWarning: SelectableGroups dict interface is deprecated. Use select.\n",
      "  for entry_point in AVAILABLE_ENTRY_POINTS.get(self.entry_point_namespace, []):\n",
      "C:\\Users\\MoRevolution\\AppData\\Roaming\\Python\\Python310\\site-packages\\catalogue\\__init__.py:123: DeprecationWarning: SelectableGroups dict interface is deprecated. Use select.\n",
      "  for entry_point in AVAILABLE_ENTRY_POINTS.get(self.entry_point_namespace, []):\n",
      "C:\\Users\\MoRevolution\\AppData\\Roaming\\Python\\Python310\\site-packages\\catalogue\\__init__.py:123: DeprecationWarning: SelectableGroups dict interface is deprecated. Use select.\n",
      "  for entry_point in AVAILABLE_ENTRY_POINTS.get(self.entry_point_namespace, []):\n",
      "C:\\Users\\MoRevolution\\AppData\\Roaming\\Python\\Python310\\site-packages\\catalogue\\__init__.py:123: DeprecationWarning: SelectableGroups dict interface is deprecated. Use select.\n",
      "  for entry_point in AVAILABLE_ENTRY_POINTS.get(self.entry_point_namespace, []):\n",
      "C:\\Users\\MoRevolution\\AppData\\Roaming\\Python\\Python310\\site-packages\\catalogue\\__init__.py:123: DeprecationWarning: SelectableGroups dict interface is deprecated. Use select.\n",
      "  for entry_point in AVAILABLE_ENTRY_POINTS.get(self.entry_point_namespace, []):\n",
      "C:\\Users\\MoRevolution\\AppData\\Roaming\\Python\\Python310\\site-packages\\catalogue\\__init__.py:123: DeprecationWarning: SelectableGroups dict interface is deprecated. Use select.\n",
      "  for entry_point in AVAILABLE_ENTRY_POINTS.get(self.entry_point_namespace, []):\n",
      "C:\\Users\\MoRevolution\\AppData\\Roaming\\Python\\Python310\\site-packages\\catalogue\\__init__.py:123: DeprecationWarning: SelectableGroups dict interface is deprecated. Use select.\n",
      "  for entry_point in AVAILABLE_ENTRY_POINTS.get(self.entry_point_namespace, []):\n",
      "C:\\Users\\MoRevolution\\AppData\\Roaming\\Python\\Python310\\site-packages\\catalogue\\__init__.py:123: DeprecationWarning: SelectableGroups dict interface is deprecated. Use select.\n",
      "  for entry_point in AVAILABLE_ENTRY_POINTS.get(self.entry_point_namespace, []):\n",
      "C:\\Users\\MoRevolution\\AppData\\Roaming\\Python\\Python310\\site-packages\\catalogue\\__init__.py:123: DeprecationWarning: SelectableGroups dict interface is deprecated. Use select.\n",
      "  for entry_point in AVAILABLE_ENTRY_POINTS.get(self.entry_point_namespace, []):\n",
      "C:\\Users\\MoRevolution\\AppData\\Roaming\\Python\\Python310\\site-packages\\catalogue\\__init__.py:123: DeprecationWarning: SelectableGroups dict interface is deprecated. Use select.\n",
      "  for entry_point in AVAILABLE_ENTRY_POINTS.get(self.entry_point_namespace, []):\n",
      "C:\\Users\\MoRevolution\\AppData\\Roaming\\Python\\Python310\\site-packages\\catalogue\\__init__.py:123: DeprecationWarning: SelectableGroups dict interface is deprecated. Use select.\n",
      "  for entry_point in AVAILABLE_ENTRY_POINTS.get(self.entry_point_namespace, []):\n",
      "C:\\Users\\MoRevolution\\AppData\\Roaming\\Python\\Python310\\site-packages\\catalogue\\__init__.py:123: DeprecationWarning: SelectableGroups dict interface is deprecated. Use select.\n",
      "  for entry_point in AVAILABLE_ENTRY_POINTS.get(self.entry_point_namespace, []):\n",
      "C:\\Users\\MoRevolution\\AppData\\Roaming\\Python\\Python310\\site-packages\\catalogue\\__init__.py:123: DeprecationWarning: SelectableGroups dict interface is deprecated. Use select.\n",
      "  for entry_point in AVAILABLE_ENTRY_POINTS.get(self.entry_point_namespace, []):\n",
      "C:\\Users\\MoRevolution\\AppData\\Roaming\\Python\\Python310\\site-packages\\catalogue\\__init__.py:123: DeprecationWarning: SelectableGroups dict interface is deprecated. Use select.\n",
      "  for entry_point in AVAILABLE_ENTRY_POINTS.get(self.entry_point_namespace, []):\n",
      "C:\\Users\\MoRevolution\\AppData\\Roaming\\Python\\Python310\\site-packages\\catalogue\\__init__.py:123: DeprecationWarning: SelectableGroups dict interface is deprecated. Use select.\n",
      "  for entry_point in AVAILABLE_ENTRY_POINTS.get(self.entry_point_namespace, []):\n",
      "C:\\Users\\MoRevolution\\AppData\\Roaming\\Python\\Python310\\site-packages\\catalogue\\__init__.py:123: DeprecationWarning: SelectableGroups dict interface is deprecated. Use select.\n",
      "  for entry_point in AVAILABLE_ENTRY_POINTS.get(self.entry_point_namespace, []):\n",
      "C:\\Users\\MoRevolution\\AppData\\Roaming\\Python\\Python310\\site-packages\\catalogue\\__init__.py:123: DeprecationWarning: SelectableGroups dict interface is deprecated. Use select.\n",
      "  for entry_point in AVAILABLE_ENTRY_POINTS.get(self.entry_point_namespace, []):\n",
      "C:\\Users\\MoRevolution\\AppData\\Roaming\\Python\\Python310\\site-packages\\catalogue\\__init__.py:123: DeprecationWarning: SelectableGroups dict interface is deprecated. Use select.\n",
      "  for entry_point in AVAILABLE_ENTRY_POINTS.get(self.entry_point_namespace, []):\n",
      "C:\\Users\\MoRevolution\\AppData\\Roaming\\Python\\Python310\\site-packages\\catalogue\\__init__.py:123: DeprecationWarning: SelectableGroups dict interface is deprecated. Use select.\n",
      "  for entry_point in AVAILABLE_ENTRY_POINTS.get(self.entry_point_namespace, []):\n",
      "C:\\Users\\MoRevolution\\AppData\\Roaming\\Python\\Python310\\site-packages\\catalogue\\__init__.py:123: DeprecationWarning: SelectableGroups dict interface is deprecated. Use select.\n",
      "  for entry_point in AVAILABLE_ENTRY_POINTS.get(self.entry_point_namespace, []):\n",
      "C:\\Users\\MoRevolution\\AppData\\Roaming\\Python\\Python310\\site-packages\\catalogue\\__init__.py:123: DeprecationWarning: SelectableGroups dict interface is deprecated. Use select.\n",
      "  for entry_point in AVAILABLE_ENTRY_POINTS.get(self.entry_point_namespace, []):\n",
      "C:\\Users\\MoRevolution\\AppData\\Roaming\\Python\\Python310\\site-packages\\catalogue\\__init__.py:123: DeprecationWarning: SelectableGroups dict interface is deprecated. Use select.\n",
      "  for entry_point in AVAILABLE_ENTRY_POINTS.get(self.entry_point_namespace, []):\n",
      "C:\\Users\\MoRevolution\\AppData\\Roaming\\Python\\Python310\\site-packages\\catalogue\\__init__.py:123: DeprecationWarning: SelectableGroups dict interface is deprecated. Use select.\n",
      "  for entry_point in AVAILABLE_ENTRY_POINTS.get(self.entry_point_namespace, []):\n",
      "C:\\Users\\MoRevolution\\AppData\\Roaming\\Python\\Python310\\site-packages\\catalogue\\__init__.py:123: DeprecationWarning: SelectableGroups dict interface is deprecated. Use select.\n",
      "  for entry_point in AVAILABLE_ENTRY_POINTS.get(self.entry_point_namespace, []):\n",
      "C:\\Users\\MoRevolution\\AppData\\Roaming\\Python\\Python310\\site-packages\\catalogue\\__init__.py:123: DeprecationWarning: SelectableGroups dict interface is deprecated. Use select.\n",
      "  for entry_point in AVAILABLE_ENTRY_POINTS.get(self.entry_point_namespace, []):\n",
      "C:\\Users\\MoRevolution\\AppData\\Roaming\\Python\\Python310\\site-packages\\catalogue\\__init__.py:123: DeprecationWarning: SelectableGroups dict interface is deprecated. Use select.\n",
      "  for entry_point in AVAILABLE_ENTRY_POINTS.get(self.entry_point_namespace, []):\n",
      "C:\\Users\\MoRevolution\\AppData\\Roaming\\Python\\Python310\\site-packages\\catalogue\\__init__.py:123: DeprecationWarning: SelectableGroups dict interface is deprecated. Use select.\n",
      "  for entry_point in AVAILABLE_ENTRY_POINTS.get(self.entry_point_namespace, []):\n",
      "C:\\Users\\MoRevolution\\AppData\\Roaming\\Python\\Python310\\site-packages\\catalogue\\__init__.py:123: DeprecationWarning: SelectableGroups dict interface is deprecated. Use select.\n",
      "  for entry_point in AVAILABLE_ENTRY_POINTS.get(self.entry_point_namespace, []):\n",
      "C:\\Users\\MoRevolution\\AppData\\Roaming\\Python\\Python310\\site-packages\\catalogue\\__init__.py:123: DeprecationWarning: SelectableGroups dict interface is deprecated. Use select.\n",
      "  for entry_point in AVAILABLE_ENTRY_POINTS.get(self.entry_point_namespace, []):\n",
      "C:\\Users\\MoRevolution\\AppData\\Roaming\\Python\\Python310\\site-packages\\catalogue\\__init__.py:123: DeprecationWarning: SelectableGroups dict interface is deprecated. Use select.\n",
      "  for entry_point in AVAILABLE_ENTRY_POINTS.get(self.entry_point_namespace, []):\n",
      "C:\\Users\\MoRevolution\\AppData\\Roaming\\Python\\Python310\\site-packages\\catalogue\\__init__.py:123: DeprecationWarning: SelectableGroups dict interface is deprecated. Use select.\n",
      "  for entry_point in AVAILABLE_ENTRY_POINTS.get(self.entry_point_namespace, []):\n",
      "C:\\Users\\MoRevolution\\AppData\\Roaming\\Python\\Python310\\site-packages\\catalogue\\__init__.py:123: DeprecationWarning: SelectableGroups dict interface is deprecated. Use select.\n",
      "  for entry_point in AVAILABLE_ENTRY_POINTS.get(self.entry_point_namespace, []):\n",
      "C:\\Users\\MoRevolution\\AppData\\Roaming\\Python\\Python310\\site-packages\\catalogue\\__init__.py:123: DeprecationWarning: SelectableGroups dict interface is deprecated. Use select.\n",
      "  for entry_point in AVAILABLE_ENTRY_POINTS.get(self.entry_point_namespace, []):\n",
      "C:\\Users\\MoRevolution\\AppData\\Roaming\\Python\\Python310\\site-packages\\catalogue\\__init__.py:123: DeprecationWarning: SelectableGroups dict interface is deprecated. Use select.\n",
      "  for entry_point in AVAILABLE_ENTRY_POINTS.get(self.entry_point_namespace, []):\n",
      "C:\\Users\\MoRevolution\\AppData\\Roaming\\Python\\Python310\\site-packages\\catalogue\\__init__.py:123: DeprecationWarning: SelectableGroups dict interface is deprecated. Use select.\n",
      "  for entry_point in AVAILABLE_ENTRY_POINTS.get(self.entry_point_namespace, []):\n",
      "C:\\Users\\MoRevolution\\AppData\\Roaming\\Python\\Python310\\site-packages\\catalogue\\__init__.py:123: DeprecationWarning: SelectableGroups dict interface is deprecated. Use select.\n",
      "  for entry_point in AVAILABLE_ENTRY_POINTS.get(self.entry_point_namespace, []):\n",
      "C:\\Users\\MoRevolution\\AppData\\Roaming\\Python\\Python310\\site-packages\\catalogue\\__init__.py:123: DeprecationWarning: SelectableGroups dict interface is deprecated. Use select.\n",
      "  for entry_point in AVAILABLE_ENTRY_POINTS.get(self.entry_point_namespace, []):\n",
      "C:\\Users\\MoRevolution\\AppData\\Roaming\\Python\\Python310\\site-packages\\catalogue\\__init__.py:123: DeprecationWarning: SelectableGroups dict interface is deprecated. Use select.\n",
      "  for entry_point in AVAILABLE_ENTRY_POINTS.get(self.entry_point_namespace, []):\n",
      "C:\\Users\\MoRevolution\\AppData\\Roaming\\Python\\Python310\\site-packages\\catalogue\\__init__.py:123: DeprecationWarning: SelectableGroups dict interface is deprecated. Use select.\n",
      "  for entry_point in AVAILABLE_ENTRY_POINTS.get(self.entry_point_namespace, []):\n",
      "C:\\Users\\MoRevolution\\AppData\\Roaming\\Python\\Python310\\site-packages\\catalogue\\__init__.py:123: DeprecationWarning: SelectableGroups dict interface is deprecated. Use select.\n",
      "  for entry_point in AVAILABLE_ENTRY_POINTS.get(self.entry_point_namespace, []):\n",
      "C:\\Users\\MoRevolution\\AppData\\Roaming\\Python\\Python310\\site-packages\\catalogue\\__init__.py:123: DeprecationWarning: SelectableGroups dict interface is deprecated. Use select.\n",
      "  for entry_point in AVAILABLE_ENTRY_POINTS.get(self.entry_point_namespace, []):\n",
      "C:\\Users\\MoRevolution\\AppData\\Roaming\\Python\\Python310\\site-packages\\catalogue\\__init__.py:123: DeprecationWarning: SelectableGroups dict interface is deprecated. Use select.\n",
      "  for entry_point in AVAILABLE_ENTRY_POINTS.get(self.entry_point_namespace, []):\n",
      "C:\\Users\\MoRevolution\\AppData\\Roaming\\Python\\Python310\\site-packages\\catalogue\\__init__.py:123: DeprecationWarning: SelectableGroups dict interface is deprecated. Use select.\n",
      "  for entry_point in AVAILABLE_ENTRY_POINTS.get(self.entry_point_namespace, []):\n",
      "C:\\Users\\MoRevolution\\AppData\\Roaming\\Python\\Python310\\site-packages\\catalogue\\__init__.py:123: DeprecationWarning: SelectableGroups dict interface is deprecated. Use select.\n",
      "  for entry_point in AVAILABLE_ENTRY_POINTS.get(self.entry_point_namespace, []):\n",
      "C:\\Users\\MoRevolution\\AppData\\Roaming\\Python\\Python310\\site-packages\\catalogue\\__init__.py:123: DeprecationWarning: SelectableGroups dict interface is deprecated. Use select.\n",
      "  for entry_point in AVAILABLE_ENTRY_POINTS.get(self.entry_point_namespace, []):\n",
      "C:\\Users\\MoRevolution\\AppData\\Roaming\\Python\\Python310\\site-packages\\catalogue\\__init__.py:123: DeprecationWarning: SelectableGroups dict interface is deprecated. Use select.\n",
      "  for entry_point in AVAILABLE_ENTRY_POINTS.get(self.entry_point_namespace, []):\n",
      "C:\\Users\\MoRevolution\\AppData\\Roaming\\Python\\Python310\\site-packages\\catalogue\\__init__.py:123: DeprecationWarning: SelectableGroups dict interface is deprecated. Use select.\n",
      "  for entry_point in AVAILABLE_ENTRY_POINTS.get(self.entry_point_namespace, []):\n",
      "C:\\Users\\MoRevolution\\AppData\\Roaming\\Python\\Python310\\site-packages\\catalogue\\__init__.py:123: DeprecationWarning: SelectableGroups dict interface is deprecated. Use select.\n",
      "  for entry_point in AVAILABLE_ENTRY_POINTS.get(self.entry_point_namespace, []):\n",
      "C:\\Users\\MoRevolution\\AppData\\Roaming\\Python\\Python310\\site-packages\\catalogue\\__init__.py:123: DeprecationWarning: SelectableGroups dict interface is deprecated. Use select.\n",
      "  for entry_point in AVAILABLE_ENTRY_POINTS.get(self.entry_point_namespace, []):\n",
      "C:\\Users\\MoRevolution\\AppData\\Roaming\\Python\\Python310\\site-packages\\catalogue\\__init__.py:123: DeprecationWarning: SelectableGroups dict interface is deprecated. Use select.\n",
      "  for entry_point in AVAILABLE_ENTRY_POINTS.get(self.entry_point_namespace, []):\n",
      "C:\\Users\\MoRevolution\\AppData\\Roaming\\Python\\Python310\\site-packages\\catalogue\\__init__.py:123: DeprecationWarning: SelectableGroups dict interface is deprecated. Use select.\n",
      "  for entry_point in AVAILABLE_ENTRY_POINTS.get(self.entry_point_namespace, []):\n",
      "C:\\Users\\MoRevolution\\AppData\\Roaming\\Python\\Python310\\site-packages\\catalogue\\__init__.py:123: DeprecationWarning: SelectableGroups dict interface is deprecated. Use select.\n",
      "  for entry_point in AVAILABLE_ENTRY_POINTS.get(self.entry_point_namespace, []):\n",
      "C:\\Users\\MoRevolution\\AppData\\Roaming\\Python\\Python310\\site-packages\\catalogue\\__init__.py:123: DeprecationWarning: SelectableGroups dict interface is deprecated. Use select.\n",
      "  for entry_point in AVAILABLE_ENTRY_POINTS.get(self.entry_point_namespace, []):\n",
      "C:\\Users\\MoRevolution\\AppData\\Roaming\\Python\\Python310\\site-packages\\catalogue\\__init__.py:123: DeprecationWarning: SelectableGroups dict interface is deprecated. Use select.\n",
      "  for entry_point in AVAILABLE_ENTRY_POINTS.get(self.entry_point_namespace, []):\n",
      "C:\\Users\\MoRevolution\\AppData\\Roaming\\Python\\Python310\\site-packages\\catalogue\\__init__.py:123: DeprecationWarning: SelectableGroups dict interface is deprecated. Use select.\n",
      "  for entry_point in AVAILABLE_ENTRY_POINTS.get(self.entry_point_namespace, []):\n",
      "C:\\Users\\MoRevolution\\AppData\\Roaming\\Python\\Python310\\site-packages\\catalogue\\__init__.py:123: DeprecationWarning: SelectableGroups dict interface is deprecated. Use select.\n",
      "  for entry_point in AVAILABLE_ENTRY_POINTS.get(self.entry_point_namespace, []):\n",
      "C:\\Users\\MoRevolution\\AppData\\Roaming\\Python\\Python310\\site-packages\\catalogue\\__init__.py:123: DeprecationWarning: SelectableGroups dict interface is deprecated. Use select.\n",
      "  for entry_point in AVAILABLE_ENTRY_POINTS.get(self.entry_point_namespace, []):\n"
     ]
    },
    {
     "name": "stdout",
     "output_type": "stream",
     "text": [
      "mum year idea dad grow single mum spend last dollar coke say poor understatement amount government a\n"
     ]
    }
   ],
   "source": [
    "#In case prompted to install stopwords, use \"nltk.download(stopwords)\".\n",
    "#Lemmatization\n",
    "stops = set(stopwords.words(\"english\"))\n",
    "\n",
    "def lemmatization(texts, allowed_postags=[\"NOUN\", \"ADJ\", \"VERB\", \"ADV\"]):\n",
    "    #Use \"python -m spacy download en_core_web_sm\" if error [E050]\n",
    "    #only the parts of speech tagger neede, the parser and ner don't produce better results and are slower to implement \n",
    "    nlp = spacy.load(\"en_core_web_sm\",disable=[\"parser\",\"ner\"]) \n",
    "    texts_out = []\n",
    "    for text in texts:\n",
    "        doc = nlp(text)\n",
    "        new_text = []\n",
    "        for token in doc:\n",
    "            if token.pos_ in allowed_postags:\n",
    "                new_text.append(token.lemma_)\n",
    "        final = \" \".join(new_text)\n",
    "        texts_out.append(final)\n",
    "        \n",
    "    return(texts_out)\n",
    "\n",
    "lemmatized_texts = lemmatization(stories)\n",
    "print(lemmatized_texts[0][:100])"
   ]
  },
  {
   "cell_type": "code",
   "execution_count": 7,
   "metadata": {},
   "outputs": [
    {
     "name": "stdout",
     "output_type": "stream",
     "text": [
      "['mum', 'year', 'idea', 'dad', 'grow', 'single', 'mum', 'spend', 'last', 'dollar', 'coke', 'say', 'poor', 'understatement', 'amount', 'government', 'assistance', 'get', 'mother', 'addict']\n"
     ]
    }
   ],
   "source": [
    "#deaccenting, removing stop words and \n",
    "def gen_words(texts):\n",
    "    final = []\n",
    "    for text in texts:\n",
    "        new = gensim.utils.simple_preprocess(text, deacc=True, min_len=3)\n",
    "        final.append(new)\n",
    "    return (final)\n",
    "\n",
    "data_words = gen_words(lemmatized_texts)\n",
    "print (data_words[0][0:20])"
   ]
  },
  {
   "cell_type": "code",
   "execution_count": 8,
   "metadata": {
    "collapsed": true
   },
   "outputs": [
    {
     "name": "stdout",
     "output_type": "stream",
     "text": [
      "['mum', 'year', 'idea', 'dad', 'grow', 'single', 'mum', 'spend', 'last', 'dollar', 'coke', 'say', 'poor', 'understatement', 'amount', 'government', 'assistance', 'get', 'mother', 'addict', 'move', 'around', 'lot', 'different', 'school', 'grow', 'have', 'food', 'common', 'occurrence', 'homeless', 'period', 'time', 'kid', 'wash', 'public', 'restroom', 'time', 'time', 'send', 'other', 'relative', 'live', 'sexually', 'abuse', 'multiple', 'occasion', 'keep', 'year', 'kid', 'terrifying', 'speak', 'already', 'live', 'shaky', 'unstable', 'world', 'uproot', 'last', 'foundation', 'even', 'drug', 'addle', 'mother', 'unthinkable', 'anyway', 'fast', 'forward', 'try', 'really_hard', 'school', 'mean', 'really_hard', 'only', 'way', 'see', 'get', 'hole', 'mum', 'drop', 'school', 'know', 'never', 'want', 'end', 'get', 'job', 'day', 'birthday', 'country', 'legal', 'age', 'start', 'work', 'day', 'year', 'now', 'spend', 'day', 'unemployed', 'work', 'save', 'much', 'mum', 'tell', 'move', 'again', 'say', 'move', 'own', 'tired', 'start', 'over', 'apply', 'emancipation', 'move', 'flat', 'see', 'handful', 'time', 'since', 'even', 'sure', 'live', 'anymore', 'university', 'keep', 'work_full', 'time', 'graduate', 'first', 'class', 'honor', 'say', 'brag', 'sacrifice', 'lot', 'pull', 'trash', 'social', 'life', 'never', 'holiday', 'ignore', 'part', 'health', 'prodigy', 'close', 'just', 'grind', 'face', 'get', 'job', 'field', 'get', 'post', 'degree', 'qualification', 'last', 'couple', 'year', 'start', 'clear', 'year']\n"
     ]
    }
   ],
   "source": [
    "#BIGRAMS AND TRIGRAMS\n",
    "#Source: https://www.machinelearningplus.com/nlp/topic-modeling-gensim-python/#9createbigramandtrigrammodels\n",
    "bigram_phrases = gensim.models.Phrases(data_words, min_count=2,threshold=10)\n",
    "trigram_phrases = gensim.models.Phrases(bigram_phrases[data_words],threshold=2)\n",
    "\n",
    "bigram = gensim.models.phrases.Phraser(bigram_phrases)\n",
    "trigram = gensim.models.phrases.Phraser(trigram_phrases)\n",
    "\n",
    "def make_bigrams(texts):\n",
    "    return(bigram[doc] for doc in texts)\n",
    "\n",
    "def make_trigrams(texts): \n",
    "    return(trigram[bigram[doc]] for doc in texts)\n",
    "\n",
    "data_bigrams = make_bigrams(data_words)\n",
    "data_bigrams_trigrams = make_trigrams(data_bigrams)\n",
    "\n",
    "data_bigrams_trigrams = list(data_bigrams_trigrams)\n",
    "print(data_bigrams_trigrams[0])"
   ]
  },
  {
   "cell_type": "code",
   "execution_count": 9,
   "metadata": {},
   "outputs": [],
   "source": [
    "#TF-IDF REMOVAL\n",
    "from gensim.models import TfidfModel\n",
    " \n",
    "id2word = corpora.Dictionary(data_bigrams_trigrams)\n",
    "\n",
    "texts = data_bigrams_trigrams\n",
    "# print(texts[0][:20])\n",
    "\n",
    "corpus = [id2word.doc2bow(text) for text in texts]\n",
    "\n",
    "tfidf = TfidfModel(corpus, id2word=id2word)\n",
    "\n",
    "low_value = 0.03\n",
    "words  = []\n",
    "words_missing_in_tfidf = []\n",
    "for i in range(0, len(corpus)):\n",
    "    bow = corpus[i]\n",
    "    low_value_words = [] #reinitialize to be safe. You can skip this.\n",
    "    tfidf_ids = [id for id, value in tfidf[bow]]\n",
    "    bow_ids = [id for id, value in bow]\n",
    "    low_value_words = [id for id, value in tfidf[bow] if value < low_value]\n",
    "    drops = low_value_words+words_missing_in_tfidf\n",
    "    for item in drops:\n",
    "        words.append(id2word[item])\n",
    "    words_missing_in_tfidf = [id for id in bow_ids if id not in tfidf_ids] # The words with tf-idf socre 0 will be missing\n",
    "\n",
    "    new_bow = [b for b in bow if b[0] not in low_value_words and b[0] not in words_missing_in_tfidf]\n",
    "    corpus[i] = new_bow"
   ]
  },
  {
   "cell_type": "markdown",
   "metadata": {},
   "source": [
    "### Training LDA Model "
   ]
  },
  {
   "cell_type": "code",
   "execution_count": 51,
   "metadata": {
    "id": "Edw7Y3MIJnLK"
   },
   "outputs": [],
   "source": [
    "# Set training parameters.\n",
    "num_topics = 10\n",
    "chunksize = 2000\n",
    "passes = 20\n",
    "iterations = 400\n",
    "eval_every = 1  \n",
    "\n",
    "lda_model = LdaModel(\n",
    "    corpus=corpus, \n",
    "    id2word=id2word,\n",
    "    chunksize=chunksize,\n",
    "    alpha=\"auto\",\n",
    "    eta=\"auto\",\n",
    "    iterations=iterations,\n",
    "    num_topics=num_topics,\n",
    "    passes=passes,\n",
    "    eval_every=eval_every\n",
    ")"
   ]
  },
  {
   "cell_type": "code",
   "execution_count": null,
   "metadata": {},
   "outputs": [],
   "source": [
    "#lda_model.save(\"Models/test_model_1.model\")"
   ]
  },
  {
   "cell_type": "markdown",
   "metadata": {},
   "source": [
    "### Top topics detected by model (visualize for clusters)"
   ]
  },
  {
   "cell_type": "code",
   "execution_count": null,
   "metadata": {},
   "outputs": [],
   "source": [
    "# top_topics = lda_model.top_topics(corpus)\n",
    "\n",
    "# # Average topic coherence is the sum of topic coherences of all topics, divided by the number of topics.\n",
    "# avg_topic_coherence = sum([t[1] for t in top_topics]) / num_topics\n",
    "# print(f'Average topic coherence: %.4f. % avg_topic_coherence')\n",
    "\n",
    "# from pprint import pprint\n",
    "# print(top_topics)"
   ]
  },
  {
   "cell_type": "markdown",
   "metadata": {},
   "source": [
    "### Saving/loading the LDA Model (just experimental)"
   ]
  },
  {
   "cell_type": "code",
   "execution_count": 3,
   "metadata": {
    "id": "cskTzFfzR-Kp"
   },
   "outputs": [],
   "source": [
    "new_model = gensim.models.ldamodel.LdaModel.load(\"Models/test_model_1.model\")"
   ]
  },
  {
   "cell_type": "markdown",
   "metadata": {},
   "source": [
    "# Visualization and Tabulization"
   ]
  },
  {
   "cell_type": "code",
   "execution_count": 27,
   "metadata": {
    "colab": {
     "base_uri": "https://localhost:8080/",
     "height": 951
    },
    "collapsed": true,
    "id": "vhwBJnIhT9VZ",
    "outputId": "607d7393-24e0-42c4-ba97-9a7d0bbf94e1"
   },
   "outputs": [
    {
     "ename": "ValidationError",
     "evalue": "\n * Not all rows (distributions) in topic_term_dists sum to 1.",
     "output_type": "error",
     "traceback": [
      "\u001b[1;31m---------------------------------------------------------------------------\u001b[0m",
      "\u001b[1;31mValidationError\u001b[0m                           Traceback (most recent call last)",
      "Input \u001b[1;32mIn [27]\u001b[0m, in \u001b[0;36m<cell line: 6>\u001b[1;34m()\u001b[0m\n\u001b[0;32m      3\u001b[0m \u001b[38;5;28;01mimport\u001b[39;00m \u001b[38;5;21;01mpyLDAvis\u001b[39;00m\u001b[38;5;21;01m.\u001b[39;00m\u001b[38;5;21;01mgensim_models\u001b[39;00m\n\u001b[0;32m      5\u001b[0m pyLDAvis\u001b[38;5;241m.\u001b[39menable_notebook()\n\u001b[1;32m----> 6\u001b[0m vis \u001b[38;5;241m=\u001b[39m \u001b[43mpyLDAvis\u001b[49m\u001b[38;5;241;43m.\u001b[39;49m\u001b[43mgensim_models\u001b[49m\u001b[38;5;241;43m.\u001b[39;49m\u001b[43mprepare\u001b[49m\u001b[43m(\u001b[49m\u001b[43mnew_model\u001b[49m\u001b[43m,\u001b[49m\u001b[43m \u001b[49m\u001b[43mcorpus\u001b[49m\u001b[43m,\u001b[49m\u001b[43m \u001b[49m\u001b[43mid2word\u001b[49m\u001b[43m,\u001b[49m\u001b[43m \u001b[49m\u001b[43mmds\u001b[49m\u001b[38;5;241;43m=\u001b[39;49m\u001b[38;5;124;43m\"\u001b[39;49m\u001b[38;5;124;43mmmds\u001b[39;49m\u001b[38;5;124;43m\"\u001b[39;49m\u001b[43m,\u001b[49m\u001b[43m \u001b[49m\u001b[43mR\u001b[49m\u001b[38;5;241;43m=\u001b[39;49m\u001b[38;5;241;43m30\u001b[39;49m\u001b[43m)\u001b[49m\n\u001b[0;32m      7\u001b[0m vis\n",
      "File \u001b[1;32m~\\AppData\\Roaming\\Python\\Python310\\site-packages\\pyLDAvis\\gensim_models.py:123\u001b[0m, in \u001b[0;36mprepare\u001b[1;34m(topic_model, corpus, dictionary, doc_topic_dist, **kwargs)\u001b[0m\n\u001b[0;32m     78\u001b[0m \u001b[38;5;124;03m\"\"\"Transforms the Gensim TopicModel and related corpus and dictionary into\u001b[39;00m\n\u001b[0;32m     79\u001b[0m \u001b[38;5;124;03mthe data structures needed for the visualization.\u001b[39;00m\n\u001b[0;32m     80\u001b[0m \n\u001b[1;32m   (...)\u001b[0m\n\u001b[0;32m    120\u001b[0m \u001b[38;5;124;03mSee `pyLDAvis.prepare` for **kwargs.\u001b[39;00m\n\u001b[0;32m    121\u001b[0m \u001b[38;5;124;03m\"\"\"\u001b[39;00m\n\u001b[0;32m    122\u001b[0m opts \u001b[38;5;241m=\u001b[39m fp\u001b[38;5;241m.\u001b[39mmerge(_extract_data(topic_model, corpus, dictionary, doc_topic_dist), kwargs)\n\u001b[1;32m--> 123\u001b[0m \u001b[38;5;28;01mreturn\u001b[39;00m pyLDAvis\u001b[38;5;241m.\u001b[39mprepare(\u001b[38;5;241m*\u001b[39m\u001b[38;5;241m*\u001b[39mopts)\n",
      "File \u001b[1;32m~\\AppData\\Roaming\\Python\\Python310\\site-packages\\pyLDAvis\\_prepare.py:415\u001b[0m, in \u001b[0;36mprepare\u001b[1;34m(topic_term_dists, doc_topic_dists, doc_lengths, vocab, term_frequency, R, lambda_step, mds, n_jobs, plot_opts, sort_topics, start_index)\u001b[0m\n\u001b[0;32m    413\u001b[0m doc_lengths \u001b[38;5;241m=\u001b[39m _series_with_name(doc_lengths, \u001b[38;5;124m'\u001b[39m\u001b[38;5;124mdoc_length\u001b[39m\u001b[38;5;124m'\u001b[39m)\n\u001b[0;32m    414\u001b[0m vocab \u001b[38;5;241m=\u001b[39m _series_with_name(vocab, \u001b[38;5;124m'\u001b[39m\u001b[38;5;124mvocab\u001b[39m\u001b[38;5;124m'\u001b[39m)\n\u001b[1;32m--> 415\u001b[0m \u001b[43m_input_validate\u001b[49m\u001b[43m(\u001b[49m\u001b[43mtopic_term_dists\u001b[49m\u001b[43m,\u001b[49m\u001b[43m \u001b[49m\u001b[43mdoc_topic_dists\u001b[49m\u001b[43m,\u001b[49m\u001b[43m \u001b[49m\u001b[43mdoc_lengths\u001b[49m\u001b[43m,\u001b[49m\u001b[43m \u001b[49m\u001b[43mvocab\u001b[49m\u001b[43m,\u001b[49m\u001b[43m \u001b[49m\u001b[43mterm_frequency\u001b[49m\u001b[43m)\u001b[49m\n\u001b[0;32m    416\u001b[0m R \u001b[38;5;241m=\u001b[39m \u001b[38;5;28mmin\u001b[39m(R, \u001b[38;5;28mlen\u001b[39m(vocab))\n\u001b[0;32m    418\u001b[0m topic_freq \u001b[38;5;241m=\u001b[39m doc_topic_dists\u001b[38;5;241m.\u001b[39mmul(doc_lengths, axis\u001b[38;5;241m=\u001b[39m\u001b[38;5;124m\"\u001b[39m\u001b[38;5;124mindex\u001b[39m\u001b[38;5;124m\"\u001b[39m)\u001b[38;5;241m.\u001b[39msum()\n",
      "File \u001b[1;32m~\\AppData\\Roaming\\Python\\Python310\\site-packages\\pyLDAvis\\_prepare.py:74\u001b[0m, in \u001b[0;36m_input_validate\u001b[1;34m(*args)\u001b[0m\n\u001b[0;32m     72\u001b[0m res \u001b[38;5;241m=\u001b[39m _input_check(\u001b[38;5;241m*\u001b[39margs)\n\u001b[0;32m     73\u001b[0m \u001b[38;5;28;01mif\u001b[39;00m res:\n\u001b[1;32m---> 74\u001b[0m     \u001b[38;5;28;01mraise\u001b[39;00m ValidationError(\u001b[38;5;124m'\u001b[39m\u001b[38;5;130;01m\\n\u001b[39;00m\u001b[38;5;124m'\u001b[39m \u001b[38;5;241m+\u001b[39m \u001b[38;5;124m'\u001b[39m\u001b[38;5;130;01m\\n\u001b[39;00m\u001b[38;5;124m'\u001b[39m\u001b[38;5;241m.\u001b[39mjoin([\u001b[38;5;124m'\u001b[39m\u001b[38;5;124m * \u001b[39m\u001b[38;5;124m'\u001b[39m \u001b[38;5;241m+\u001b[39m s \u001b[38;5;28;01mfor\u001b[39;00m s \u001b[38;5;129;01min\u001b[39;00m res]))\n",
      "\u001b[1;31mValidationError\u001b[0m: \n * Not all rows (distributions) in topic_term_dists sum to 1."
     ]
    }
   ],
   "source": [
    "#use \"pip install pyLDAvis\" if the pyLDAvis library isn't installed on your system\n",
    "import pyLDAvis\n",
    "import pyLDAvis.gensim_models\n",
    "\n",
    "pyLDAvis.enable_notebook()\n",
    "vis = pyLDAvis.gensim_models.prepare(new_model, corpus, id2word, mds=\"mmds\", R=30)\n",
    "vis"
   ]
  },
  {
   "cell_type": "code",
   "execution_count": 10,
   "metadata": {},
   "outputs": [
    {
     "name": "stdout",
     "output_type": "stream",
     "text": [
      "Coherence Score:  0.43906016417318644\n"
     ]
    }
   ],
   "source": [
    "#Computte Coherence Score \n",
    "coherence_model_lda = CoherenceModel(\n",
    "    model = new_model,\n",
    "    texts = texts, \n",
    "    dictionary = id2word, \n",
    "    coherence = 'c_v'\n",
    ")\n",
    "coherence_lda = coherence_model_lda.get_coherence()\n",
    "print('Coherence Score: ', coherence_lda)"
   ]
  },
  {
   "cell_type": "markdown",
   "metadata": {},
   "source": [
    "### Tuning LDA Model"
   ]
  },
  {
   "cell_type": "code",
   "execution_count": 16,
   "metadata": {},
   "outputs": [],
   "source": [
    "#Using a function to find the most optimal number of topics for a better coherence score. \n",
    "\"\"\"Source_1 = https://neptune.ai/blog/pyldavis-topic-modelling-exploration-tool-that-every-nlp-data-scientist-should-know\"\"\"\n",
    "\"\"\"Source_2 = https://www.machinelearningplus.com/nlp/topic-modeling-gensim-python/#16buildingldamalletmodel\"\"\"\n",
    "\n",
    "def compute_coherence_values(chunksize, passes, iterations, eval_every, dictionary, corpus, texts, limit, start=2, step=3):\n",
    "    \"\"\"\n",
    "    Compute c_v coherence for various number of topics\n",
    "\n",
    "    Parameters:\n",
    "    ----------\n",
    "    dictionary : Gensim dictionary\n",
    "    corpus : Gensim corpus\n",
    "    texts : List of input texts\n",
    "    limit : Max num of topics\n",
    "\n",
    "    Returns:\n",
    " \n",
    " -------\n",
    "    model_list : List of LDA topic models\n",
    "    coherence_values : Coherence values corresponding to the LDA model with respective number of topics\n",
    "    \"\"\"\n",
    "    coherence_values = []\n",
    "    model_list = []\n",
    "    for num_topics in range(start, limit, step):\n",
    "        model = LdaModel(\n",
    "        corpus=corpus, \n",
    "        id2word=id2word,\n",
    "        chunksize=chunksize,\n",
    "        alpha=\"auto\",\n",
    "        eta=\"auto\",\n",
    "        iterations=iterations,\n",
    "        num_topics=num_topics,\n",
    "        passes=passes,\n",
    "        eval_every=eval_every\n",
    "        )\n",
    "        model_list.append(model)\n",
    "        coherencemodel = CoherenceModel(model=model, texts=texts, dictionary=dictionary, coherence='c_v')\n",
    "        coherence_values.append(coherencemodel.get_coherence())\n",
    "\n",
    "    return model_list, coherence_values"
   ]
  },
  {
   "cell_type": "code",
   "execution_count": 20,
   "metadata": {},
   "outputs": [],
   "source": [
    "model_list, coherence_values = compute_coherence_values(\n",
    "    dictionary=id2word, \n",
    "    corpus=corpus, \n",
    "    texts=texts, \n",
    "    start=2, \n",
    "    limit=40, \n",
    "    step=4, \n",
    "    chunksize = 2000, \n",
    "    passes = 20, \n",
    "    iterations = 400,\n",
    "    eval_every = 1\n",
    ")"
   ]
  },
  {
   "cell_type": "code",
   "execution_count": 21,
   "metadata": {},
   "outputs": [
    {
     "data": {
      "image/png": "[encoded data removed]",
      "text/plain": [
       "<Figure size 432x288 with 1 Axes>"
      ]
     },
     "metadata": {
      "needs_background": "light"
     },
     "output_type": "display_data"
    }
   ],
   "source": [
    "# Show graph\n",
    "import matplotlib.pyplot as plt \n",
    "import pandas as pd\n",
    "\n",
    "limit=40; start=2; step=4;\n",
    "x = range(start, limit, step)\n",
    "plt.plot(x, coherence_values)\n",
    "plt.xlabel(\"Num Topics\")\n",
    "plt.ylabel(\"Coherence score\")\n",
    "plt.legend((\"coherence_values\"), loc='best')\n",
    "plt.show()"
   ]
  },
  {
   "cell_type": "code",
   "execution_count": 22,
   "metadata": {
    "scrolled": true
   },
   "outputs": [
    {
     "name": "stdout",
     "output_type": "stream",
     "text": [
      "14 topics give the highest coherence score of 0.37607379013282405 for this specific model\n"
     ]
    }
   ],
   "source": [
    "#Extracting the topic that gives the best results. \n",
    "best_result_model = coherence_values.index(max(coherence_values))\n",
    "optimal_model = model_list[best_result_model]\n",
    "print(f'''{x[best_result_model]} topics give the highest coherence score of {coherence_values[best_result_model]} for this specific model''')"
   ]
  },
  {
   "cell_type": "code",
   "execution_count": 28,
   "metadata": {
    "collapsed": true
   },
   "outputs": [
    {
     "name": "stderr",
     "output_type": "stream",
     "text": [
      "C:\\Users\\MoRevolution\\AppData\\Roaming\\Python\\Python310\\site-packages\\pyLDAvis\\_prepare.py:247: FutureWarning: In a future version of pandas all arguments of DataFrame.drop except for the argument 'labels' will be keyword-only.\n",
      "  by='saliency', ascending=False).head(R).drop('saliency', 1)\n"
     ]
    },
    {
     "data": {
      "text/html": [
       "\n",
       "<link rel=\"stylesheet\" type=\"text/css\" href=\"https://cdn.jsdelivr.net/gh/bmabey/pyLDAvis@3.3.1/pyLDAvis/js/ldavis.v1.0.0.css\">\n",
       "\n",
       "\n",
       "<div id=\"ldavis_el2797630673702923842497967141\"></div>\n",
       "<script type=\"text/javascript\">\n",
       "\n",
       "var ldavis_el2797630673702923842497967141_data = {\"mdsDat\": {\"x\": [-0.12032610552515995, 0.09212209639154122, 0.08849306523292053, -0.15636974109404145, -0.11073711327791108, 0.09423649132654162, 0.1289446925690922, -0.04313327497973163, 0.013440509229485345, 0.013329380127263113], \"y\": [0.16074029465330664, -0.18412553691591516, 0.18856409570299487, -0.14490874034142961, 0.0417883351846792, 0.06262668131784618, -0.035916511863791405, -0.0553479312746095, -0.0166455737156761, -0.016775112747405063], \"topics\": [1, 2, 3, 4, 5, 6, 7, 8, 9, 10], \"cluster\": [1, 1, 1, 1, 1, 1, 1, 1, 1, 1], \"Freq\": [25.799658087689426, 25.28659543725538, 17.376521893789405, 14.825302272166189, 5.594182265757586, 4.872833206905795, 3.7311877666168294, 2.491053784567001, 0.01159238457450181, 0.011072900677890374]}, \"tinfo\": {\"Term\": [\"work\", \"job\", \"good\", \"well\", \"get\", \"school\", \"family\", \"year\", \"so\", \"college\", \"student\", \"go\", \"graduate\", \"first\", \"know\", \"friend\", \"live\", \"hard\", \"people\", \"poor\", \"class\", \"feel\", \"lot\", \"big\", \"try\", \"parent\", \"grow\", \"most\", \"push\", \"high_school\", \"go\", \"time\", \"mum\", \"again\", \"afford\", \"world\", \"so\", \"amount\", \"grind\", \"health\", \"spend\", \"purchase\", \"exam\", \"down\", \"budget\", \"feeling\", \"here\", \"much\", \"know\", \"day\", \"abuse\", \"addle\", \"around\", \"birthday\", \"brag\", \"clear\", \"coke\", \"country\", \"emancipation\", \"face\", \"just\", \"even\", \"live\", \"lot\", \"start\", \"kid\", \"move\", \"never\", \"grow\", \"year\", \"get\", \"keep\", \"school\", \"work\", \"parent\", \"people\", \"take\", \"poor\", \"well\", \"last\", \"job\", \"say\", \"student\", \"struggle\", \"deal\", \"make\", \"generation\", \"intern\", \"mostly\", \"statistic\", \"depression\", \"network\", \"past\", \"ago\", \"connect\", \"depressed\", \"band\", \"culture\", \"write\", \"trauma\", \"childhood\", \"overcome\", \"father\", \"stage\", \"also\", \"education\", \"absolutely\", \"afloat\", \"anxiety\", \"being\", \"boy\", \"capacity\", \"push\", \"walk\", \"belong\", \"feel\", \"come\", \"only\", \"high_school\", \"year\", \"bachelor\", \"first\", \"mom\", \"help\", \"always\", \"well\", \"school\", \"graduate\", \"college\", \"lot\", \"try\", \"other\", \"as\", \"end\", \"last\", \"never\", \"grow\", \"parent\", \"need\", \"community\", \"it\", \"lose\", \"soon\", \"call\", \"accounting\", \"counseling\", \"crappy\", \"internet\", \"knowledge\", \"private\", \"starve\", \"use\", \"cover\", \"tuition\", \"action\", \"eat\", \"hand\", \"particular\", \"shed\", \"succeed\", \"thought\", \"at\", \"cautionary\", \"check\", \"constantly\", \"continue\", \"conversation\", \"cul\", \"able\", \"surprise\", \"job\", \"class\", \"college\", \"get\", \"career\", \"most\", \"more\", \"fit\", \"too\", \"house\", \"big\", \"way\", \"experience\", \"work\", \"bachelor\", \"take\", \"learn\", \"food\", \"government\", \"homeless\", \"just\", \"life\", \"now\", \"early\", \"family\", \"adopt\", \"meal\", \"young\", \"barrier\", \"success\", \"doctor\", \"ready\", \"adoptive\", \"allow\", \"die\", \"one\", \"free\", \"undergrad\", \"matter\", \"expendable\", \"bear\", \"ceremony\", \"trouble\", \"sound\", \"various\", \"worthwhile\", \"refuse\", \"kind\", \"value\", \"mistake\", \"ear\", \"arrangement\", \"achievement\", \"ever\", \"expectation\", \"thing\", \"think\", \"people\", \"show\", \"low\", \"friend\", \"work\", \"good\", \"take\", \"company\", \"change\", \"hour\", \"offer\", \"school\", \"say\", \"see\", \"grant\", \"kid\", \"parent\", \"still\", \"last\", \"life\", \"give\", \"mom\", \"money\", \"do\", \"feel\", \"side\", \"law\", \"abusive\", \"aimless\", \"benefit\", \"decent\", \"develop\", \"ensure\", \"ethic\", \"fiance\", \"fight\", \"gig\", \"household\", \"janitor\", \"line\", \"nail\", \"second\", \"successful\", \"tooth\", \"town\", \"associate\", \"together\", \"skill\", \"insecurity\", \"long\", \"roof\", \"since\", \"sure\", \"first\", \"financial_aid\", \"well\", \"job\", \"graduate\", \"other\", \"school\", \"get\", \"keep\", \"year\", \"family\", \"college\", \"good\", \"grow\", \"work\", \"take\", \"always\", \"come\", \"help\", \"high_school\", \"end\", \"head\", \"as\", \"leave\", \"extra\", \"apply\", \"degree\", \"food\", \"point\", \"bath\", \"book\", \"breakfast\", \"combine\", \"competition\", \"extreme\", \"focus\", \"fun\", \"gift\", \"honestly\", \"inter\", \"ketchup\", \"manage\", \"math\", \"middle\", \"normal\", \"portfolio\", \"programmer\", \"programming\", \"reward\", \"room\", \"sandwich\", \"science\", \"soap\", \"spare\", \"yield\", \"library\", \"main\", \"recycle\", \"result\", \"actually\", \"level\", \"own\", \"home\", \"school\", \"high_school\", \"live\", \"day\", \"different\", \"idea\", \"move\", \"start\", \"trash\", \"build\", \"grant\", \"pay\", \"take\", \"then\", \"early\", \"family\", \"learn\", \"surprise\", \"decide\", \"financial_aid\", \"money\", \"more\", \"weird\", \"back\", \"sister\", \"city\", \"attitude\", \"wear\", \"nearly\", \"wealthy\", \"hang\", \"embarrassed\", \"footstep\", \"bring\", \"km\", \"underestimate\", \"simulation\", \"finance\", \"proud\", \"relative\", \"family\", \"good\", \"clothe\", \"nice\", \"away\", \"hometown\", \"follow\", \"then\", \"anymore\", \"many\", \"result\", \"look\", \"back\", \"support\", \"big\", \"try\", \"poor\", \"friend\", \"so\", \"always\", \"come\", \"bank\", \"currently\", \"extremely\", \"garage\", \"grateful\", \"sale\", \"store\", \"teacher\", \"wage\", \"employer\", \"immigrate\", \"invaluable\", \"receive\", \"ride\", \"special\", \"hard\", \"expensive\", \"consider\", \"employee\", \"today\", \"minimum\", \"master\", \"finish\", \"encourage\", \"education\", \"upper_middle\", \"thing\", \"see\", \"work\", \"food\", \"school\", \"good\", \"full\", \"help\", \"parent\", \"class\", \"know\", \"degree\", \"employer\", \"immigrate\", \"invaluable\", \"receive\", \"ride\", \"special\", \"bank\", \"currently\", \"extremely\", \"garage\", \"grateful\", \"sale\", \"store\", \"teacher\", \"wage\", \"city\", \"attitude\", \"wear\", \"nearly\", \"wealthy\", \"hang\", \"embarrassed\", \"footstep\", \"bring\", \"km\", \"underestimate\", \"simulation\", \"finance\", \"proud\", \"library\", \"school\", \"feel\", \"make\", \"connect\", \"student\", \"only\", \"other\", \"never\", \"friend\", \"hard\", \"first\", \"bad\", \"white\", \"person\", \"especially\", \"situation\", \"tool\", \"mental\", \"as\", \"positive\", \"university\", \"network\", \"definitely\", \"depression\", \"campus\", \"fit\", \"predominately\", \"experience\", \"high_school\", \"nightmare\", \"employer\", \"immigrate\", \"invaluable\", \"receive\", \"ride\", \"special\", \"bank\", \"currently\", \"extremely\", \"garage\", \"grateful\", \"sale\", \"store\", \"teacher\", \"wage\", \"city\", \"attitude\", \"wear\", \"nearly\", \"wealthy\", \"hang\", \"embarrassed\", \"footstep\", \"bring\", \"km\", \"underestimate\", \"simulation\", \"finance\", \"proud\", \"library\", \"abuse\", \"addict\", \"addle\", \"again\", \"age\", \"already\", \"amount\", \"anymore\", \"anyway\", \"apply\", \"around\", \"as\", \"assistance\", \"birthday\", \"brag\", \"class\", \"clear\", \"close\", \"coke\", \"common\", \"country\", \"couple\", \"dad\", \"day\", \"degree\", \"different\", \"dollar\", \"drop\", \"drug\", \"emancipation\"], \"Freq\": [19.0, 17.0, 9.0, 12.0, 15.0, 18.0, 6.0, 14.0, 6.0, 9.0, 7.0, 7.0, 8.0, 6.0, 6.0, 6.0, 8.0, 3.0, 9.0, 6.0, 6.0, 10.0, 9.0, 5.0, 5.0, 9.0, 9.0, 6.0, 5.0, 6.0, 6.856030091300247, 4.316734319974752, 3.470302396199587, 2.6238691107687844, 2.6238688838261783, 2.623562965192853, 5.461834968573617, 1.777433328969312, 1.777433328969312, 1.777433328969312, 1.777433328969312, 1.777433328969312, 1.777433328969312, 1.7773173612974804, 1.7772854758612917, 1.7771956065891872, 1.7771245735534078, 3.468300081583987, 5.162579370169962, 4.316734319974752, 0.9309852355334466, 0.9309852355334466, 0.9309852355334466, 0.9309852355334466, 0.9309852355334466, 0.9309852355334466, 0.9309852355334466, 0.9309852355334466, 0.9309852355334466, 0.9309852355334466, 6.855801787038285, 5.162740499420453, 5.1631662437499175, 6.0086795038546805, 5.162884834918075, 5.16248133096403, 3.470302396199587, 4.316221429684459, 5.162161341889113, 6.856029183529822, 6.856030091300247, 3.470302396199587, 5.16316669763513, 5.16316669763513, 3.4686727213435717, 3.4697947255892396, 3.470302396199587, 2.752182460384621, 3.469591611956579, 2.623869337711391, 3.4680620187899525, 2.623869337711391, 6.838241407948121, 3.4613863187811993, 2.6171545853047617, 2.616937271652021, 2.6170246864580875, 1.7729347518082852, 1.7729345293787533, 1.7729345293787533, 1.7728246491899569, 1.772822424894637, 1.7728766977004393, 1.772870469673544, 1.7726850746586413, 1.7727591436927896, 1.7728256501228508, 1.7727414605449976, 1.772813082854294, 1.7728062987535687, 1.7727966230689278, 1.7727869473842868, 1.7727724894647083, 1.7727568081827039, 4.305733048325669, 1.7727887268205424, 0.9286297834084445, 0.9286297834084445, 0.9286297834084445, 0.9286297834084445, 0.9286297834084445, 0.9286297834084445, 3.461389877653711, 2.6169657426321136, 2.617239553385977, 6.838272103223534, 3.461325150659906, 3.461124296792531, 3.461253528350609, 5.9940332520020725, 3.4613847617744757, 3.4612132686053214, 3.4612526386324816, 3.461332713263993, 3.4612804423239787, 4.306318482853832, 5.149523926469729, 3.4612711002836356, 3.4611794593164613, 3.461854977805074, 2.6170473742703493, 2.6170564938811602, 2.6169808678402884, 2.617011785545233, 2.6170053350888054, 2.617078069545762, 2.6176490461543462, 2.617457311897782, 3.2389415486197533, 3.235705106471436, 2.448879003610061, 1.6590652981119143, 1.6590652981119143, 1.6590649924122687, 1.6590649924122687, 1.6590649924122687, 1.6590649924122687, 1.6590649924122687, 1.6590649924122687, 1.6590649924122687, 1.6590649924122687, 1.6588100389078106, 1.6507420138602633, 1.6200707098644314, 0.8689997725306773, 0.8689997725306773, 0.8689997725306773, 0.8689997725306773, 0.8689997725306773, 0.8689997725306773, 0.8689997725306773, 0.8689996961057659, 0.8689996961057659, 0.8689996961057659, 0.8689996961057659, 0.8689996961057659, 0.8689996961057659, 0.8689996961057659, 3.2375460297374383, 1.6590652981119143, 9.111214083082874, 3.2389895434641174, 4.67539728188062, 6.9663837941696185, 2.449122340527985, 3.238948885411248, 2.449122187678162, 1.6587103808233343, 1.6587028911820163, 1.6590649924122687, 2.449122187678162, 2.449122187678162, 2.4472771374669438, 4.67706334494932, 2.4455222686511875, 2.3860821824041207, 1.6590652981119143, 1.6590649924122687, 1.6590649924122687, 1.6590649924122687, 1.6590649924122687, 1.6590649924122687, 1.6590649924122687, 1.6590649924122687, 1.6590649924122687, 2.360454017521401, 1.598994277379811, 1.5989698910046226, 1.598966630794036, 1.598941722785154, 1.5989402882924957, 1.5989263345911848, 1.5989151194667666, 1.5989114680309096, 1.5988829085861704, 2.360292050259455, 2.360364035709209, 2.3604159382617484, 0.8375537724806822, 0.8375534464596236, 0.8375507730869425, 0.8375494037984961, 0.8375459479752743, 0.8375459479752743, 0.837545491545792, 0.8375447742994631, 0.8375423617436288, 0.8375402752088534, 0.8375402752088534, 0.8375382538782897, 0.8375380582656545, 0.837537927857231, 0.8375365585687846, 0.8375351892803382, 0.8375351892803382, 2.360378641452637, 3.1217995198840343, 4.644619107314838, 1.5989822798048519, 1.5989067733276647, 3.1217434442619436, 6.928867136865601, 3.121682152302914, 3.121830296271972, 1.5989736728489032, 1.5989748465247144, 1.598985409607015, 1.5989142066078024, 3.8829530610473246, 2.3604211545986873, 1.5989584150633576, 1.5990258362182899, 2.360367687145066, 2.36043706442635, 1.5990097959822034, 1.5990078398558514, 1.5990065357716168, 1.5989891914512957, 1.5989864528744029, 1.5989796716363827, 1.5989790195942652, 1.5989768026510662, 1.1431123563569, 1.1431121595235467, 0.5987618445588195, 0.5987618445588195, 0.5987618445588195, 0.5987618445588195, 0.5987618445588195, 0.5987618445588195, 0.5987618445588195, 0.5987618445588195, 0.5987618445588195, 0.5987618445588195, 0.5987618445588195, 0.5987618445588195, 0.5987618445588195, 0.5987618445588195, 0.5987618445588195, 0.5987618445588195, 0.5987618445588195, 0.5987618445588195, 0.5954816659349389, 1.1431123563569, 0.5987618445588195, 0.5987618445588195, 0.5987618445588195, 0.5987618445588195, 0.5987618445588195, 0.5987618445588195, 1.6875688629157155, 0.5987618445588195, 3.31833398207839, 3.6294468119209986, 1.924341081395829, 1.1431121595235467, 2.231964252718341, 1.84115182663715, 1.1431123563569, 1.6876861755942634, 1.1431121595235467, 1.2424701916697873, 1.1427236104841947, 1.1431121595235467, 1.241104266614781, 0.6421969622078959, 0.5989146856576325, 0.5988859971963937, 0.5988810763625619, 0.5988650344442705, 0.598855488026637, 0.5988541101931641, 0.5988458924006652, 0.5988188278145908, 0.5988149403558638, 0.5988148419391871, 0.5987618445588195, 0.5987618445588195, 1.0750877845716897, 0.5631315803733811, 0.5631315803733811, 0.5631315803733811, 0.5631315803733811, 0.5631315803733811, 0.5631315803733811, 0.5631315803733811, 0.5631315803733811, 0.5631315803733811, 0.5631315803733811, 0.5631315803733811, 0.5631315803733811, 0.5631315803733811, 0.5631315803733811, 0.5631315803733811, 0.5631315803733811, 0.5631315803733811, 0.5631315803733811, 0.5631315803733811, 0.5631315803733811, 0.5631315803733811, 0.5631315803733811, 0.5631315803733811, 0.5631315803733811, 0.5631315803733811, 0.5631315803733811, 0.5631315375102756, 0.5631315375102756, 0.5631315375102756, 1.0750877845716897, 1.0750877845716897, 1.0750877845716897, 1.0750877845716897, 1.0750877845716897, 1.5870418027516147, 1.0750877845716897, 1.0750877845716897, 0.5631315803733811, 0.5631315803733811, 0.5631315803733811, 0.5631315803733811, 0.5631315803733811, 0.5631315803733811, 0.5631315803733811, 0.5631315803733811, 0.5631315803733811, 0.5631315803733811, 0.5631315803733811, 0.5631315803733811, 0.5631315803733811, 0.5631315803733811, 0.5631315803733811, 0.5631315803733811, 0.5631315803733811, 0.5631315803733811, 0.5631315803733811, 0.5631315803733811, 0.5631315803733811, 1.3838746860912237, 0.49123337821644447, 0.49119425582015197, 0.4911704935593165, 0.4911593673073508, 0.4911561180479272, 0.4911559211231136, 0.4911481425929783, 0.4911229362168435, 0.4911154202531262, 0.4910982877943471, 0.4910947103269009, 0.49106106900458557, 0.49106015002212233, 0.491016367071909, 0.9214432357178313, 2.7238067815869607, 3.1698362329563086, 0.4910754773367772, 0.49107239218136484, 0.49122642020636564, 0.491132257324685, 0.49103891496306085, 0.9212571417690236, 0.46910329587737276, 0.4622372825072291, 0.4908708396346933, 0.4910835184333306, 0.9376861194725248, 0.49111932592859503, 0.9375847688351495, 0.9207512419230057, 0.8703012052220531, 0.9210610702963292, 0.7803326251452924, 0.4911556257358933, 0.49110383450992884, 0.38384937595713303, 0.38384937595713303, 0.38384937595713303, 0.38384937595713303, 0.38384937595713303, 0.38384937595713303, 0.38384937595713303, 0.38384937595713303, 0.38384937595713303, 0.38384933213281286, 0.38384933213281286, 0.38384933213281286, 0.38384933213281286, 0.38384933213281286, 0.38384933213281286, 1.0817750332841556, 0.38384937595713303, 0.38384933213281286, 0.38390656669497597, 0.38384937595713303, 0.38384937595713303, 0.38384933213281286, 0.383917172180461, 0.383919056626229, 0.38384937595713303, 0.38391287739708274, 0.38401634661704226, 0.3839591558791993, 1.7802185626028177, 0.38384933213281286, 0.38425128879756015, 0.38412638948502964, 0.38402265731914903, 0.38399425915966845, 0.3839896137817287, 0.38384937595713303, 0.38384937595713303, 0.38384933213281286, 0.00024938028330914974, 0.00024938028330914974, 0.00024938028330914974, 0.00024938028330914974, 0.00024938028330914974, 0.00024938028330914974, 0.00024938028330914974, 0.00024938028330914974, 0.00024938028330914974, 0.00024938028330914974, 0.00024938028330914974, 0.00024938028330914974, 0.00024938028330914974, 0.00024938028330914974, 0.00024938028330914974, 0.00024938028330914974, 0.00024938028330914974, 0.00024938028330914974, 0.00024938028330914974, 0.00024938028330914974, 0.00024938028330914974, 0.00024938028330914974, 0.00024938028330914974, 0.00024938028330914974, 0.00024938028330914974, 0.00024938028330914974, 0.00024938028330914974, 0.00024938028330914974, 0.00024938028330914974, 0.00024938028330914974, 0.0002503483919477757, 0.00025026577028941814, 0.00025023737148429303, 0.0002501165618456147, 0.00024999789358901047, 0.00024997260488642155, 0.00024988396696414163, 0.0002498217394207751, 0.00024980356316578933, 0.00024978059429378065, 0.00024978028838205577, 0.000249775776184114, 0.0002497678224792675, 0.0002497592314583275, 0.0002497574469732658, 0.00024974304362955334, 0.0002497298384400966, 0.0002497266518596293, 0.00024972321035272453, 0.00024972025320605084, 0.0002497125544276417, 0.0002497109228984424, 0.00024970503409773876, 0.00024970462621543894, 0.00024970049640715323, 0.0002496950919666806, 0.0002496918798935695, 0.0002496910896216136, 0.0002496892031659769, 0.0002496885913425272, 0.00023823129718509244, 0.00023823129718509244, 0.00023823129718509244, 0.00023823129718509244, 0.00023823129718509244, 0.00023823129718509244, 0.00023823129718509244, 0.00023823129718509244, 0.00023823129718509244, 0.00023823129718509244, 0.00023823129718509244, 0.00023823129718509244, 0.00023823129718509244, 0.00023823129718509244, 0.00023823129718509244, 0.00023823129718509244, 0.00023823129718509244, 0.00023823129718509244, 0.00023823129718509244, 0.00023823129718509244, 0.00023823129718509244, 0.00023823129718509244, 0.00023823129718509244, 0.00023823129718509244, 0.00023823129718509244, 0.00023823129718509244, 0.00023823129718509244, 0.00023823129718509244, 0.00023823129718509244, 0.00023823129718509244, 0.00023823129718509244, 0.00023823129718509244, 0.00023823129718509244, 0.00023823129718509244, 0.00023823129718509244, 0.00023823129718509244, 0.00023823129718509244, 0.00023823129718509244, 0.00023823129718509244, 0.00023823129718509244, 0.00023823129718509244, 0.00023823129718509244, 0.00023823129718509244, 0.00023823129718509244, 0.00023823129718509244, 0.00023823129718509244, 0.00023823129718509244, 0.00023823129718509244, 0.00023823129718509244, 0.00023823129718509244, 0.00023823129718509244, 0.00023823129718509244, 0.00023823129718509244, 0.00023823129718509244, 0.00023823129718509244, 0.00023823129718509244, 0.00023823129718509244, 0.00023823129718509244, 0.00023823129718509244, 0.00023823129718509244], \"Total\": [19.0, 17.0, 9.0, 12.0, 15.0, 18.0, 6.0, 14.0, 6.0, 9.0, 7.0, 7.0, 8.0, 6.0, 6.0, 6.0, 8.0, 3.0, 9.0, 6.0, 6.0, 10.0, 9.0, 5.0, 5.0, 9.0, 9.0, 6.0, 5.0, 6.0, 7.281306667649704, 4.742010896324209, 3.895578972549044, 3.049145687118241, 3.049145460175635, 3.0491448677804853, 6.623111529050572, 2.2027099053187693, 2.2027099053187693, 2.2027099053187693, 2.2027099053187693, 2.2027099053187693, 2.2027099053187693, 2.2027097886784834, 2.2027094882358353, 2.202709202457734, 2.2027088881112777, 4.438903734828294, 6.7273889868291645, 6.043941537809257, 1.356261811882904, 1.356261811882904, 1.356261811882904, 1.356261811882904, 1.356261811882904, 1.356261811882904, 1.356261811882904, 1.356261811882904, 1.356261811882904, 1.356261811882904, 10.549871328546132, 7.901103183500403, 8.246431591373566, 9.811657876492534, 8.521022911939742, 9.506807809045076, 6.095884601090683, 8.064368598804341, 9.999601090108895, 14.82416170294378, 15.955402220099325, 6.6183652116769025, 18.52306934213524, 19.97120608232629, 9.572971875332414, 9.76631846806835, 10.348239551318938, 6.20376640244006, 12.906759972192166, 7.104752610740184, 17.013621214091042, 7.812030450791, 7.263876124321746, 3.886961644335466, 3.0426456729710845, 3.0424290004838266, 3.042646292454542, 2.1984256235519157, 2.198425401122384, 2.198425401122384, 2.1983158452764937, 2.198313627277857, 2.198404973932233, 2.1984027563849105, 2.1981766826808085, 2.1983027553419845, 2.1983868836392326, 2.1982904878353517, 2.198382300423568, 2.1983800004326715, 2.198376432733024, 2.1983730803198567, 2.1983679166251786, 2.1983623292035714, 5.521265556054564, 2.5473269979799715, 1.354120655152075, 1.354120655152075, 1.354120655152075, 1.354120655152075, 1.354120655152075, 1.354120655152075, 5.082211046378342, 3.8326194997066234, 3.8890168676697554, 10.644057805035898, 5.668257241521593, 6.035012628776434, 6.245061842901626, 14.82416170294378, 6.255955476871283, 6.366180858877178, 6.989902783622898, 7.149437563242678, 7.191105232316932, 12.906759972192166, 18.52306934213524, 8.6859388490638, 9.671097736253351, 9.811657876492534, 5.587987406579789, 5.767561782003235, 5.916157119399006, 6.069708275398773, 7.104752610740184, 8.064368598804341, 9.999601090108895, 9.572971875332414, 3.670017338304428, 3.669008391553585, 2.8799592404983114, 2.089979586030232, 2.089979586030232, 2.0899792803305863, 2.0899792803305863, 2.0899792803305863, 2.0899792803305863, 2.0899792803305863, 2.0899792803305863, 2.0899792803305863, 2.0899792803305863, 2.089897638593681, 2.087384749009795, 2.0778422383726216, 1.299914060448995, 1.299914060448995, 1.299914060448995, 1.299914060448995, 1.299914060448995, 1.299914060448995, 1.299914060448995, 1.2999139840240836, 1.2999139840240836, 1.2999139840240836, 1.2999139840240836, 1.2999139840240836, 1.2999139840240836, 1.2999139840240836, 5.275181289857857, 2.6019158535265645, 17.013621214091042, 6.214280132528004, 9.671097736253351, 15.955402220099325, 4.5685423431084065, 6.555963662653029, 4.782641383961994, 2.9339611127110503, 2.9339758603603245, 2.936321292281908, 5.296929495316539, 5.417027250186721, 5.414174503505382, 19.97120608232629, 6.255955476871283, 10.348239551318938, 3.4460293322379103, 4.67604982016048, 3.7804908612542603, 3.780498920895948, 10.549871328546132, 6.149910045556258, 4.844846940491321, 4.294705766685408, 6.721172744292981, 2.794351788565894, 2.032853006433058, 2.0328398445618774, 2.0328380497269967, 2.032824557953523, 2.0328237315233078, 2.032816154260584, 2.0328101432741876, 2.0328081188162175, 2.0327926847553743, 3.2413795403305974, 3.30623931019631, 3.3386584219950093, 1.2713613147279523, 1.2713611694822144, 1.2713596793661783, 1.2713589099231144, 1.2713570427314993, 1.2713570564265995, 1.2713568300747982, 1.2713564168596905, 1.271355140997161, 1.2713539912072296, 1.2713539912072296, 1.2713528901873898, 1.271352779484375, 1.271352775070872, 1.271351991932708, 1.2713512416627843, 1.2713512553578843, 3.5903602934723313, 5.979950249794921, 9.76631846806835, 2.8770473991555527, 2.8769708787560453, 6.999230945677878, 19.97120608232629, 9.810957095065632, 10.348239551318938, 3.7213475415321153, 3.723303523064762, 3.723367495335914, 3.723352162228125, 18.52306934213524, 7.812030450791, 4.074577041927657, 4.120396096868405, 9.506807809045076, 9.572971875332414, 5.470717284445804, 7.104752610740184, 6.149910045556258, 4.6262239503678355, 6.989902783622898, 8.877095856589369, 5.414140254970241, 10.644057805035898, 1.598597373001993, 1.5985971761686397, 1.0542468612039129, 1.0542468612039129, 1.0542468612039129, 1.0542468612039129, 1.0542468612039129, 1.0542468612039129, 1.0542468612039129, 1.0542468612039129, 1.0542468612039129, 1.0542468612039129, 1.0542468612039129, 1.0542468612039129, 1.0542468612039129, 1.0542468612039129, 1.0542468612039129, 1.0542468612039129, 1.0542468612039129, 1.0542468612039129, 1.0555023482222896, 2.3600296943762733, 1.844241158767717, 1.900588372319294, 1.9005887596839313, 1.9005887596839313, 1.9005889866265373, 1.9005889866265373, 6.366180858877178, 2.327600919746404, 12.906759972192166, 17.013621214091042, 8.6859388490638, 5.767561782003235, 18.52306934213524, 15.955402220099325, 6.6183652116769025, 14.82416170294378, 6.721172744292981, 9.671097736253351, 9.810957095065632, 9.999601090108895, 19.97120608232629, 10.348239551318938, 7.191105232316932, 5.668257241521593, 7.149437563242678, 6.245061842901626, 6.069708275398773, 4.435492035913254, 5.916157119399006, 3.4498387089639277, 4.381203275220511, 3.5912089140298837, 4.784495940952278, 4.67604982016048, 1.5338121581549204, 1.0218559539566119, 1.0218559539566119, 1.0218559539566119, 1.0218559539566119, 1.0218559539566119, 1.0218559539566119, 1.0218559539566119, 1.0218559539566119, 1.0218559539566119, 1.0218559539566119, 1.0218559539566119, 1.0218559539566119, 1.0218559539566119, 1.0218559539566119, 1.0218559539566119, 1.0218559539566119, 1.0218559539566119, 1.0218559539566119, 1.0218559539566119, 1.0218559539566119, 1.0218559539566119, 1.0218559539566119, 1.0218559539566119, 1.0218559539566119, 1.0218559539566119, 1.0218559539566119, 1.0218559110935064, 1.0218559110935064, 1.0218559110935064, 1.9810158487759464, 2.847266647298273, 3.0840865704829046, 4.016596334581131, 4.573123570729078, 18.52306934213524, 6.245061842901626, 8.246431591373566, 6.043941537809257, 1.8681980793792368, 3.502393345634837, 6.095884601090683, 8.521022911939742, 1.8681980793792368, 1.8112959226436807, 4.120396096868405, 4.971022474550937, 10.348239551318938, 3.5664629974779256, 4.294705766685408, 6.721172744292981, 3.4460293322379103, 2.6019158535265645, 2.879499941165962, 2.327600919746404, 8.877095856589369, 4.782641383961994, 1.8681978524366303, 4.339964833746361, 1.851049057312769, 0.9567995490260973, 0.9568345375746826, 0.9568557595935946, 0.9568656539005397, 0.9568686739306158, 0.9568687323162344, 0.956875783067031, 0.9568983126497453, 0.9569049238632718, 0.9569202725650228, 0.9569234537320711, 0.9569536258338717, 0.9569542954496527, 0.9569933678266171, 2.2646881287211658, 6.721172744292981, 9.810957095065632, 1.7183591775677483, 1.7469378217740272, 1.8009231773987227, 1.8010115626000642, 1.8011742759352276, 3.5664629974779256, 1.8229470894238777, 1.829090253120362, 1.9810158487759464, 2.258863982204721, 4.339964833746361, 2.3453375979586726, 5.296929495316539, 5.587987406579789, 6.20376640244006, 6.999230945677878, 6.623111529050572, 7.191105232316932, 5.668257241521593, 0.8588728765123694, 0.8588728765123694, 0.8588728765123694, 0.8588728765123694, 0.8588728765123694, 0.8588728765123694, 0.8588728765123694, 0.8588728765123694, 0.8588728765123694, 0.8588728326880493, 0.8588728326880493, 0.8588728326880493, 0.8588728326880493, 0.8588728326880493, 0.8588728326880493, 3.245169189227508, 1.3708091440087022, 1.370809100184382, 1.6202965327669179, 1.648867174076174, 1.703039921551764, 1.7052147311680679, 2.4644605533789172, 2.466623436564652, 2.5473269979799715, 3.313078622099643, 3.5903602934723313, 4.074577041927657, 19.97120608232629, 4.67604982016048, 18.52306934213524, 9.810957095065632, 4.9165180344924275, 7.149437563242678, 9.572971875332414, 6.214280132528004, 6.7273889868291645, 4.784495940952278, 0.8588728326880493, 0.8588728326880493, 0.8588728326880493, 0.8588728326880493, 0.8588728326880493, 0.8588728326880493, 0.8588728765123694, 0.8588728765123694, 0.8588728765123694, 0.8588728765123694, 0.8588728765123694, 0.8588728765123694, 0.8588728765123694, 0.8588728765123694, 0.8588728765123694, 0.9567995490260973, 0.9568345375746826, 0.9568557595935946, 0.9568656539005397, 0.9568686739306158, 0.9568687323162344, 0.956875783067031, 0.9568983126497453, 0.9569049238632718, 0.9569202725650228, 0.9569234537320711, 0.9569536258338717, 0.9569542954496527, 0.9569933678266171, 1.0218559110935064, 18.52306934213524, 10.644057805035898, 3.0424290004838266, 2.1981766826808085, 7.263876124321746, 6.035012628776434, 5.767561782003235, 8.064368598804341, 6.999230945677878, 3.245169189227508, 6.366180858877178, 1.353986870029785, 2.905396655940971, 1.3539925254381246, 2.1439875093235687, 1.3539979031664462, 1.3540023385518964, 3.046793666371466, 5.916157119399006, 1.354005665409642, 3.8346499058911947, 2.198313627277857, 3.0446577441643945, 2.1983158452764937, 1.3540122629314193, 2.9339611127110503, 1.3540152015062044, 5.414174503505382, 6.245061842901626, 1.3540163103653133, 0.8588728326880493, 0.8588728326880493, 0.8588728326880493, 0.8588728326880493, 0.8588728326880493, 0.8588728326880493, 0.8588728765123694, 0.8588728765123694, 0.8588728765123694, 0.8588728765123694, 0.8588728765123694, 0.8588728765123694, 0.8588728765123694, 0.8588728765123694, 0.8588728765123694, 0.9567995490260973, 0.9568345375746826, 0.9568557595935946, 0.9568656539005397, 0.9568686739306158, 0.9568687323162344, 0.956875783067031, 0.9568983126497453, 0.9569049238632718, 0.9569202725650228, 0.9569234537320711, 0.9569536258338717, 0.9569542954496527, 0.9569933678266171, 1.0218559110935064, 1.356261811882904, 2.9076894107140023, 1.356261811882904, 3.049145687118241, 2.11766542502534, 2.1462561094467087, 2.2027099053187693, 1.8229470894238777, 2.20042851415093, 3.5912089140298837, 1.356261811882904, 5.916157119399006, 2.992704202882574, 1.356261811882904, 1.356261811882904, 6.214280132528004, 1.356261811882904, 2.9903711959030668, 1.356261811882904, 1.356261698411601, 1.356261811882904, 2.1176802123667513, 3.8062066507931775, 6.043941537809257, 4.784495940952278, 1.8681980793792368, 2.1177097919953463, 3.836878660663188, 3.7518344708710054, 1.356261811882904], \"Category\": [\"Default\", \"Default\", \"Default\", \"Default\", \"Default\", \"Default\", \"Default\", \"Default\", \"Default\", \"Default\", \"Default\", \"Default\", \"Default\", \"Default\", \"Default\", \"Default\", \"Default\", \"Default\", \"Default\", \"Default\", \"Default\", \"Default\", \"Default\", \"Default\", \"Default\", \"Default\", \"Default\", \"Default\", \"Default\", \"Default\", \"Topic1\", \"Topic1\", \"Topic1\", \"Topic1\", \"Topic1\", \"Topic1\", \"Topic1\", \"Topic1\", \"Topic1\", \"Topic1\", \"Topic1\", \"Topic1\", \"Topic1\", \"Topic1\", \"Topic1\", \"Topic1\", \"Topic1\", \"Topic1\", \"Topic1\", \"Topic1\", \"Topic1\", \"Topic1\", \"Topic1\", \"Topic1\", \"Topic1\", \"Topic1\", \"Topic1\", \"Topic1\", \"Topic1\", \"Topic1\", \"Topic1\", \"Topic1\", \"Topic1\", \"Topic1\", \"Topic1\", \"Topic1\", \"Topic1\", \"Topic1\", \"Topic1\", \"Topic1\", \"Topic1\", \"Topic1\", \"Topic1\", \"Topic1\", \"Topic1\", \"Topic1\", \"Topic1\", \"Topic1\", \"Topic1\", \"Topic1\", \"Topic1\", \"Topic1\", \"Topic2\", \"Topic2\", \"Topic2\", \"Topic2\", \"Topic2\", \"Topic2\", \"Topic2\", \"Topic2\", \"Topic2\", \"Topic2\", \"Topic2\", \"Topic2\", \"Topic2\", \"Topic2\", \"Topic2\", \"Topic2\", \"Topic2\", \"Topic2\", \"Topic2\", \"Topic2\", \"Topic2\", \"Topic2\", \"Topic2\", \"Topic2\", \"Topic2\", \"Topic2\", \"Topic2\", \"Topic2\", \"Topic2\", \"Topic2\", \"Topic2\", \"Topic2\", \"Topic2\", \"Topic2\", \"Topic2\", \"Topic2\", \"Topic2\", \"Topic2\", \"Topic2\", \"Topic2\", \"Topic2\", \"Topic2\", \"Topic2\", \"Topic2\", \"Topic2\", \"Topic2\", \"Topic2\", \"Topic2\", \"Topic2\", \"Topic2\", \"Topic2\", \"Topic2\", \"Topic2\", \"Topic2\", \"Topic2\", \"Topic2\", \"Topic3\", \"Topic3\", \"Topic3\", \"Topic3\", \"Topic3\", \"Topic3\", \"Topic3\", \"Topic3\", \"Topic3\", \"Topic3\", \"Topic3\", \"Topic3\", \"Topic3\", \"Topic3\", \"Topic3\", \"Topic3\", \"Topic3\", \"Topic3\", \"Topic3\", \"Topic3\", \"Topic3\", \"Topic3\", \"Topic3\", \"Topic3\", \"Topic3\", \"Topic3\", \"Topic3\", \"Topic3\", \"Topic3\", \"Topic3\", \"Topic3\", \"Topic3\", \"Topic3\", \"Topic3\", \"Topic3\", \"Topic3\", \"Topic3\", \"Topic3\", \"Topic3\", \"Topic3\", \"Topic3\", \"Topic3\", \"Topic3\", \"Topic3\", \"Topic3\", \"Topic3\", \"Topic3\", \"Topic3\", \"Topic3\", \"Topic3\", \"Topic3\", \"Topic3\", \"Topic3\", \"Topic3\", \"Topic3\", \"Topic3\", \"Topic3\", \"Topic4\", \"Topic4\", \"Topic4\", \"Topic4\", \"Topic4\", \"Topic4\", \"Topic4\", \"Topic4\", \"Topic4\", \"Topic4\", \"Topic4\", \"Topic4\", \"Topic4\", \"Topic4\", \"Topic4\", \"Topic4\", \"Topic4\", \"Topic4\", \"Topic4\", \"Topic4\", \"Topic4\", \"Topic4\", \"Topic4\", \"Topic4\", \"Topic4\", \"Topic4\", \"Topic4\", \"Topic4\", \"Topic4\", \"Topic4\", \"Topic4\", \"Topic4\", \"Topic4\", \"Topic4\", \"Topic4\", \"Topic4\", \"Topic4\", \"Topic4\", \"Topic4\", \"Topic4\", \"Topic4\", \"Topic4\", \"Topic4\", \"Topic4\", \"Topic4\", \"Topic4\", \"Topic4\", \"Topic4\", \"Topic4\", \"Topic4\", \"Topic4\", \"Topic4\", \"Topic4\", \"Topic4\", \"Topic4\", \"Topic4\", \"Topic4\", \"Topic5\", \"Topic5\", \"Topic5\", \"Topic5\", \"Topic5\", \"Topic5\", \"Topic5\", \"Topic5\", \"Topic5\", \"Topic5\", \"Topic5\", \"Topic5\", \"Topic5\", \"Topic5\", \"Topic5\", \"Topic5\", \"Topic5\", \"Topic5\", \"Topic5\", \"Topic5\", \"Topic5\", \"Topic5\", \"Topic5\", \"Topic5\", \"Topic5\", \"Topic5\", \"Topic5\", \"Topic5\", \"Topic5\", \"Topic5\", \"Topic5\", \"Topic5\", \"Topic5\", \"Topic5\", \"Topic5\", \"Topic5\", \"Topic5\", \"Topic5\", \"Topic5\", \"Topic5\", \"Topic5\", \"Topic5\", \"Topic5\", \"Topic5\", \"Topic5\", \"Topic5\", \"Topic5\", \"Topic5\", \"Topic5\", \"Topic5\", \"Topic5\", \"Topic5\", \"Topic5\", \"Topic5\", \"Topic5\", \"Topic5\", \"Topic6\", \"Topic6\", \"Topic6\", \"Topic6\", \"Topic6\", \"Topic6\", \"Topic6\", \"Topic6\", \"Topic6\", \"Topic6\", \"Topic6\", \"Topic6\", \"Topic6\", \"Topic6\", \"Topic6\", \"Topic6\", \"Topic6\", \"Topic6\", \"Topic6\", \"Topic6\", \"Topic6\", \"Topic6\", \"Topic6\", \"Topic6\", \"Topic6\", \"Topic6\", \"Topic6\", \"Topic6\", \"Topic6\", \"Topic6\", \"Topic6\", \"Topic6\", \"Topic6\", \"Topic6\", \"Topic6\", \"Topic6\", \"Topic6\", \"Topic6\", \"Topic6\", \"Topic6\", \"Topic6\", \"Topic6\", \"Topic6\", \"Topic6\", \"Topic6\", \"Topic6\", \"Topic6\", \"Topic6\", \"Topic6\", \"Topic6\", \"Topic6\", \"Topic6\", \"Topic6\", \"Topic6\", \"Topic6\", \"Topic6\", \"Topic6\", \"Topic6\", \"Topic6\", \"Topic7\", \"Topic7\", \"Topic7\", \"Topic7\", \"Topic7\", \"Topic7\", \"Topic7\", \"Topic7\", \"Topic7\", \"Topic7\", \"Topic7\", \"Topic7\", \"Topic7\", \"Topic7\", \"Topic7\", \"Topic7\", \"Topic7\", \"Topic7\", \"Topic7\", \"Topic7\", \"Topic7\", \"Topic7\", \"Topic7\", \"Topic7\", \"Topic7\", \"Topic7\", \"Topic7\", \"Topic7\", \"Topic7\", \"Topic7\", \"Topic7\", \"Topic7\", \"Topic7\", \"Topic7\", \"Topic7\", \"Topic7\", \"Topic7\", \"Topic8\", \"Topic8\", \"Topic8\", \"Topic8\", \"Topic8\", \"Topic8\", \"Topic8\", \"Topic8\", \"Topic8\", \"Topic8\", \"Topic8\", \"Topic8\", \"Topic8\", \"Topic8\", \"Topic8\", \"Topic8\", \"Topic8\", \"Topic8\", \"Topic8\", \"Topic8\", \"Topic8\", \"Topic8\", \"Topic8\", \"Topic8\", \"Topic8\", \"Topic8\", \"Topic8\", \"Topic8\", \"Topic8\", \"Topic8\", \"Topic8\", \"Topic8\", \"Topic8\", \"Topic8\", \"Topic8\", \"Topic8\", \"Topic8\", \"Topic8\", \"Topic9\", \"Topic9\", \"Topic9\", \"Topic9\", \"Topic9\", \"Topic9\", \"Topic9\", \"Topic9\", \"Topic9\", \"Topic9\", \"Topic9\", \"Topic9\", \"Topic9\", \"Topic9\", \"Topic9\", \"Topic9\", \"Topic9\", \"Topic9\", \"Topic9\", \"Topic9\", \"Topic9\", \"Topic9\", \"Topic9\", \"Topic9\", \"Topic9\", \"Topic9\", \"Topic9\", \"Topic9\", \"Topic9\", \"Topic9\", \"Topic9\", \"Topic9\", \"Topic9\", \"Topic9\", \"Topic9\", \"Topic9\", \"Topic9\", \"Topic9\", \"Topic9\", \"Topic9\", \"Topic9\", \"Topic9\", \"Topic9\", \"Topic9\", \"Topic9\", \"Topic9\", \"Topic9\", \"Topic9\", \"Topic9\", \"Topic9\", \"Topic9\", \"Topic9\", \"Topic9\", \"Topic9\", \"Topic9\", \"Topic9\", \"Topic9\", \"Topic9\", \"Topic9\", \"Topic9\", \"Topic10\", \"Topic10\", \"Topic10\", \"Topic10\", \"Topic10\", \"Topic10\", \"Topic10\", \"Topic10\", \"Topic10\", \"Topic10\", \"Topic10\", \"Topic10\", \"Topic10\", \"Topic10\", \"Topic10\", \"Topic10\", \"Topic10\", \"Topic10\", \"Topic10\", \"Topic10\", \"Topic10\", \"Topic10\", \"Topic10\", \"Topic10\", \"Topic10\", \"Topic10\", \"Topic10\", \"Topic10\", \"Topic10\", \"Topic10\", \"Topic10\", \"Topic10\", \"Topic10\", \"Topic10\", \"Topic10\", \"Topic10\", \"Topic10\", \"Topic10\", \"Topic10\", \"Topic10\", \"Topic10\", \"Topic10\", \"Topic10\", \"Topic10\", \"Topic10\", \"Topic10\", \"Topic10\", \"Topic10\", \"Topic10\", \"Topic10\", \"Topic10\", \"Topic10\", \"Topic10\", \"Topic10\", \"Topic10\", \"Topic10\", \"Topic10\", \"Topic10\", \"Topic10\", \"Topic10\"], \"logprob\": [30.0, 29.0, 28.0, 27.0, 26.0, 25.0, 24.0, 23.0, 22.0, 21.0, 20.0, 19.0, 18.0, 17.0, 16.0, 15.0, 14.0, 13.0, 12.0, 11.0, 10.0, 9.0, 8.0, 7.0, 6.0, 5.0, 4.0, 3.0, 2.0, 1.0, -4.2639, -4.7265, -4.9448, -5.2243, -5.2243, -5.2245, -4.4912, -5.6138, -5.6138, -5.6138, -5.6138, -5.6138, -5.6138, -5.6139, -5.6139, -5.614, -5.614, -4.9453, -4.5476, -4.7265, -6.2605, -6.2605, -6.2605, -6.2605, -6.2605, -6.2605, -6.2605, -6.2605, -6.2605, -6.2605, -4.2639, -4.5475, -4.5474, -4.3958, -4.5475, -4.5476, -4.9448, -4.7266, -4.5476, -4.2639, -4.2639, -4.9448, -4.5474, -4.5474, -4.9452, -4.9449, -4.9448, -5.1766, -4.945, -5.2243, -4.9454, -5.2243, -4.2464, -4.9272, -5.2068, -5.2069, -5.2069, -5.5963, -5.5963, -5.5963, -5.5963, -5.5963, -5.5963, -5.5963, -5.5964, -5.5964, -5.5963, -5.5964, -5.5963, -5.5963, -5.5963, -5.5964, -5.5964, -5.5964, -4.709, -5.5964, -6.243, -6.243, -6.243, -6.243, -6.243, -6.243, -4.9272, -5.2069, -5.2068, -4.2464, -4.9273, -4.9273, -4.9273, -4.3781, -4.9272, -4.9273, -4.9273, -4.9273, -4.9273, -4.7088, -4.53, -4.9273, -4.9273, -4.9271, -5.2069, -5.2069, -5.2069, -5.2069, -5.2069, -5.2068, -5.2066, -5.2067, -4.6185, -4.6195, -4.8981, -5.2875, -5.2875, -5.2875, -5.2875, -5.2875, -5.2875, -5.2875, -5.2875, -5.2875, -5.2875, -5.2877, -5.2925, -5.3113, -5.9342, -5.9342, -5.9342, -5.9342, -5.9342, -5.9342, -5.9342, -5.9342, -5.9342, -5.9342, -5.9342, -5.9342, -5.9342, -5.9342, -4.6189, -5.2875, -3.5842, -4.6185, -4.2514, -3.8527, -4.898, -4.6185, -4.898, -5.2877, -5.2877, -5.2875, -4.898, -4.898, -4.8988, -4.2511, -4.8995, -4.9241, -5.2875, -5.2875, -5.2875, -5.2875, -5.2875, -5.2875, -5.2875, -5.2875, -5.2875, -4.7761, -5.1656, -5.1656, -5.1656, -5.1656, -5.1656, -5.1656, -5.1656, -5.1656, -5.1657, -4.7762, -4.7762, -4.7761, -5.8122, -5.8122, -5.8122, -5.8122, -5.8122, -5.8122, -5.8122, -5.8122, -5.8123, -5.8123, -5.8123, -5.8123, -5.8123, -5.8123, -5.8123, -5.8123, -5.8123, -4.7761, -4.4966, -4.0993, -5.1656, -5.1656, -4.4966, -3.6993, -4.4966, -4.4965, -5.1656, -5.1656, -5.1656, -5.1656, -4.2784, -4.7761, -5.1656, -5.1656, -4.7762, -4.7761, -5.1656, -5.1656, -5.1656, -5.1656, -5.1656, -5.1656, -5.1656, -5.1656, -4.5266, -4.5266, -5.1733, -5.1733, -5.1733, -5.1733, -5.1733, -5.1733, -5.1733, -5.1733, -5.1733, -5.1733, -5.1733, -5.1733, -5.1733, -5.1733, -5.1733, -5.1733, -5.1733, -5.1733, -5.1787, -4.5266, -5.1733, -5.1733, -5.1733, -5.1733, -5.1733, -5.1733, -4.1371, -5.1733, -3.4609, -3.3713, -4.0058, -4.5266, -3.8575, -4.05, -4.5266, -4.137, -4.5266, -4.4433, -4.5269, -4.5266, -4.4444, -5.1032, -5.173, -5.173, -5.1731, -5.1731, -5.1731, -5.1731, -5.1731, -5.1732, -5.1732, -5.1732, -5.1733, -5.1733, -4.4499, -5.0966, -5.0966, -5.0966, -5.0966, -5.0966, -5.0966, -5.0966, -5.0966, -5.0966, -5.0966, -5.0966, -5.0966, -5.0966, -5.0966, -5.0966, -5.0966, -5.0966, -5.0966, -5.0966, -5.0966, -5.0966, -5.0966, -5.0966, -5.0966, -5.0966, -5.0966, -5.0966, -5.0966, -5.0966, -4.4499, -4.4499, -4.4499, -4.4499, -4.4499, -4.0604, -4.4499, -4.4499, -5.0966, -5.0966, -5.0966, -5.0966, -5.0966, -5.0966, -5.0966, -5.0966, -5.0966, -5.0966, -5.0966, -5.0966, -5.0966, -5.0966, -5.0966, -5.0966, -5.0966, -5.0966, -5.0966, -5.0966, -5.0966, -3.9305, -4.9662, -4.9663, -4.9663, -4.9663, -4.9664, -4.9664, -4.9664, -4.9664, -4.9664, -4.9665, -4.9665, -4.9665, -4.9665, -4.9666, -4.3372, -3.2533, -3.1017, -4.9665, -4.9665, -4.9662, -4.9664, -4.9666, -4.3374, -5.0123, -5.027, -4.9669, -4.9665, -4.3197, -4.9664, -4.3198, -4.3379, -4.3943, -4.3376, -4.5034, -4.9664, -4.9665, -4.8088, -4.8088, -4.8088, -4.8088, -4.8088, -4.8088, -4.8088, -4.8088, -4.8088, -4.8088, -4.8088, -4.8088, -4.8088, -4.8088, -4.8088, -3.7727, -4.8088, -4.8088, -4.8087, -4.8088, -4.8088, -4.8088, -4.8087, -4.8087, -4.8088, -4.8087, -4.8084, -4.8086, -3.2746, -4.8088, -4.8078, -4.8081, -4.8084, -4.8085, -4.8085, -4.8088, -4.8088, -4.8088, -6.7778, -6.7778, -6.7778, -6.7778, -6.7778, -6.7778, -6.7778, -6.7778, -6.7778, -6.7778, -6.7778, -6.7778, -6.7778, -6.7778, -6.7778, -6.7778, -6.7778, -6.7778, -6.7778, -6.7778, -6.7778, -6.7778, -6.7778, -6.7778, -6.7778, -6.7778, -6.7778, -6.7778, -6.7778, -6.7778, -6.7739, -6.7742, -6.7743, -6.7748, -6.7753, -6.7754, -6.7757, -6.776, -6.7761, -6.7762, -6.7762, -6.7762, -6.7762, -6.7762, -6.7762, -6.7763, -6.7764, -6.7764, -6.7764, -6.7764, -6.7764, -6.7764, -6.7765, -6.7765, -6.7765, -6.7765, -6.7765, -6.7765, -6.7765, -6.7765, -6.7776, -6.7776, -6.7776, -6.7776, -6.7776, -6.7776, -6.7776, -6.7776, -6.7776, -6.7776, -6.7776, -6.7776, -6.7776, -6.7776, -6.7776, -6.7776, -6.7776, -6.7776, -6.7776, -6.7776, -6.7776, -6.7776, -6.7776, -6.7776, -6.7776, -6.7776, -6.7776, -6.7776, -6.7776, -6.7776, -6.7776, -6.7776, -6.7776, -6.7776, -6.7776, -6.7776, -6.7776, -6.7776, -6.7776, -6.7776, -6.7776, -6.7776, -6.7776, -6.7776, -6.7776, -6.7776, -6.7776, -6.7776, -6.7776, -6.7776, -6.7776, -6.7776, -6.7776, -6.7776, -6.7776, -6.7776, -6.7776, -6.7776, -6.7776, -6.7776], \"loglift\": [30.0, 29.0, 28.0, 27.0, 26.0, 25.0, 24.0, 23.0, 22.0, 21.0, 20.0, 19.0, 18.0, 17.0, 16.0, 15.0, 14.0, 13.0, 12.0, 11.0, 10.0, 9.0, 8.0, 7.0, 6.0, 5.0, 4.0, 3.0, 2.0, 1.0, 1.2946, 1.2608, 1.2392, 1.2046, 1.2046, 1.2045, 1.162, 1.1403, 1.1403, 1.1403, 1.1403, 1.1403, 1.1403, 1.1402, 1.1402, 1.1402, 1.1401, 1.1081, 1.0901, 1.0183, 0.9786, 0.9786, 0.9786, 0.9786, 0.9786, 0.9786, 0.9786, 0.9786, 0.9786, 0.9786, 0.9238, 0.9293, 0.8866, 0.8644, 0.8538, 0.7442, 0.7914, 0.7297, 0.6936, 0.5837, 0.5101, 0.7092, 0.0773, 0.0021, 0.3396, 0.32, 0.2622, 0.542, 0.0411, 0.3587, -0.2356, 0.2638, 1.3145, 1.2589, 1.2243, 1.2242, 1.2242, 1.1598, 1.1598, 1.1598, 1.1598, 1.1598, 1.1598, 1.1598, 1.1598, 1.1597, 1.1597, 1.1597, 1.1597, 1.1597, 1.1597, 1.1597, 1.1597, 1.1597, 1.1262, 1.0124, 0.9977, 0.9977, 0.9977, 0.9977, 0.9977, 0.9977, 0.9908, 0.9934, 0.9789, 0.9324, 0.8817, 0.8189, 0.7847, 0.4694, 0.783, 0.7655, 0.6721, 0.6495, 0.6437, 0.2772, 0.0948, 0.4548, 0.3474, 0.3331, 0.6163, 0.5847, 0.5592, 0.5336, 0.3762, 0.2495, 0.0346, 0.0782, 1.6251, 1.6244, 1.5879, 1.5192, 1.5192, 1.5192, 1.5192, 1.5192, 1.5192, 1.5192, 1.5192, 1.5192, 1.5192, 1.519, 1.5154, 1.5012, 1.3473, 1.3473, 1.3473, 1.3473, 1.3473, 1.3473, 1.3473, 1.3473, 1.3473, 1.3473, 1.3473, 1.3473, 1.3473, 1.3473, 1.2619, 1.3001, 1.1255, 1.0985, 1.0232, 0.9213, 1.1266, 1.0449, 1.0808, 1.1797, 1.1797, 1.1791, 0.9787, 0.9562, 0.956, 0.2984, 0.8108, 0.2829, 1.0191, 0.7139, 0.9265, 0.9264, -0.0998, 0.4399, 0.6784, 0.7989, 0.351, 1.7401, 1.6688, 1.6688, 1.6688, 1.6688, 1.6688, 1.6687, 1.6687, 1.6687, 1.6687, 1.5916, 1.5718, 1.5621, 1.4915, 1.4915, 1.4915, 1.4915, 1.4915, 1.4915, 1.4915, 1.4915, 1.4915, 1.4915, 1.4915, 1.4915, 1.4915, 1.4915, 1.4915, 1.4915, 1.4915, 1.4894, 1.2588, 1.1656, 1.3214, 1.3214, 1.1014, 0.8502, 0.7637, 0.7104, 1.0641, 1.0636, 1.0636, 1.0635, 0.3464, 0.712, 0.9734, 0.9623, 0.5156, 0.5087, 0.6788, 0.4175, 0.5618, 0.8465, 0.4337, 0.1947, 0.6892, 0.0132, 2.5481, 2.5481, 2.3177, 2.3177, 2.3177, 2.3177, 2.3177, 2.3177, 2.3177, 2.3177, 2.3177, 2.3177, 2.3177, 2.3177, 2.3177, 2.3177, 2.3177, 2.3177, 2.3177, 2.3177, 2.311, 2.1585, 1.7585, 1.7284, 1.7284, 1.7284, 1.7284, 1.7284, 1.5557, 1.5257, 1.5252, 1.3385, 1.3763, 1.2649, 0.7673, 0.724, 1.1273, 0.7105, 1.1119, 0.8314, 0.7334, 0.7147, 0.1052, 0.1038, 0.398, 0.6359, 0.4037, 0.5389, 0.5674, 0.8811, 0.593, 1.1323, 0.8933, 1.0922, 0.8052, 0.8281, 2.6661, 2.4256, 2.4256, 2.4256, 2.4256, 2.4256, 2.4256, 2.4256, 2.4256, 2.4256, 2.4256, 2.4256, 2.4256, 2.4256, 2.4256, 2.4256, 2.4256, 2.4256, 2.4256, 2.4256, 2.4256, 2.4256, 2.4256, 2.4256, 2.4256, 2.4256, 2.4256, 2.4256, 2.4256, 2.4256, 2.4103, 2.0475, 1.9676, 1.7035, 1.5737, 0.5643, 1.2621, 0.9841, 0.6482, 1.8223, 1.1938, 0.6396, 0.3047, 1.8223, 1.8532, 1.0313, 0.8436, 0.1104, 1.1757, 0.9899, 0.542, 1.21, 1.491, 1.3896, 1.6024, 0.2638, 0.8823, 1.8223, 0.9794, 2.9976, 2.6218, 2.6217, 2.6216, 2.6215, 2.6215, 2.6215, 2.6215, 2.6214, 2.6214, 2.6214, 2.6214, 2.6213, 2.6213, 2.6211, 2.3892, 2.3852, 2.1586, 2.0359, 2.0194, 1.9893, 1.9891, 1.9888, 1.9349, 1.9311, 1.9129, 1.8933, 1.7624, 1.7562, 1.7249, 1.5569, 1.4853, 1.3244, 1.2604, 1.1498, 0.6046, 0.8425, 2.8871, 2.8871, 2.8871, 2.8871, 2.8871, 2.8871, 2.8871, 2.8871, 2.8871, 2.8871, 2.8871, 2.8871, 2.8871, 2.8871, 2.8871, 2.5939, 2.4196, 2.4196, 2.2525, 2.2349, 2.2025, 2.2013, 1.8332, 1.8323, 1.7999, 1.5372, 1.4571, 1.3305, 1.2749, 1.1925, -0.183, 0.4522, 1.1428, 0.7683, 0.4764, 0.9081, 0.8288, 1.1696, 0.9182, 0.9182, 0.9182, 0.9182, 0.9182, 0.9182, 0.9182, 0.9182, 0.9182, 0.9182, 0.9182, 0.9182, 0.9182, 0.9182, 0.9182, 0.8102, 0.8102, 0.8101, 0.8101, 0.8101, 0.8101, 0.8101, 0.8101, 0.8101, 0.8101, 0.8101, 0.81, 0.81, 0.81, 0.7444, -2.1491, -1.5954, -0.3432, -0.0186, -1.2144, -1.0292, -0.9842, -1.3196, -1.1781, -0.4095, -1.0834, 0.4646, -0.299, 0.4645, 0.0049, 0.4644, 0.4644, -0.3467, -1.0103, 0.4643, -0.5767, -0.0203, -0.346, -0.0203, 0.4643, -0.309, 0.4642, -0.9217, -1.0645, 0.4642, 0.9183, 0.9183, 0.9183, 0.9183, 0.9183, 0.9183, 0.9183, 0.9183, 0.9183, 0.9183, 0.9183, 0.9183, 0.9183, 0.9183, 0.9183, 0.8103, 0.8103, 0.8103, 0.8102, 0.8102, 0.8102, 0.8102, 0.8102, 0.8102, 0.8102, 0.8102, 0.8102, 0.8102, 0.8101, 0.7445, 0.4614, -0.3012, 0.4614, -0.3487, 0.0158, 0.0024, -0.0235, 0.1657, -0.0225, -0.5123, 0.4614, -1.0115, -0.33, 0.4614, 0.4614, -1.0607, 0.4614, -0.3292, 0.4614, 0.4614, 0.4614, 0.0158, -0.5705, -1.0329, -0.7992, 0.1412, 0.0158, -0.5785, -0.5561, 0.4614]}, \"token.table\": {\"Topic\": [2, 3, 4, 2, 1, 5, 3, 4, 3, 1, 6, 1, 3, 4, 1, 4, 4, 1, 2, 1, 1, 4, 2, 5, 4, 1, 3, 2, 3, 2, 3, 4, 5, 1, 2, 1, 1, 2, 1, 2, 5, 1, 4, 1, 2, 5, 1, 3, 5, 3, 2, 2, 3, 2, 3, 6, 7, 2, 2, 4, 6, 4, 2, 1, 2, 5, 3, 4, 7, 1, 6, 2, 1, 6, 1, 3, 6, 3, 2, 2, 2, 3, 3, 4, 1, 2, 4, 3, 2, 1, 3, 1, 1, 2, 3, 4, 1, 2, 3, 5, 6, 2, 3, 5, 1, 3, 2, 4, 6, 2, 6, 3, 3, 3, 3, 1, 1, 4, 3, 3, 3, 2, 1, 2, 4, 1, 3, 6, 2, 5, 1, 5, 6, 1, 2, 1, 2, 5, 2, 2, 5, 4, 1, 6, 1, 2, 4, 4, 1, 4, 1, 1, 2, 3, 1, 2, 3, 4, 4, 1, 3, 6, 3, 2, 1, 4, 1, 4, 1, 2, 3, 5, 5, 2, 3, 5, 1, 3, 4, 4, 1, 4, 4, 6, 1, 2, 3, 1, 2, 3, 5, 6, 1, 3, 5, 6, 7, 2, 1, 2, 4, 5, 1, 5, 5, 4, 5, 6, 2, 4, 1, 2, 5, 2, 3, 6, 2, 1, 3, 5, 4, 6, 1, 2, 4, 7, 1, 2, 4, 6, 2, 1, 3, 5, 6, 5, 2, 3, 4, 6, 1, 2, 4, 5, 7, 1, 2, 3, 1, 2, 3, 5, 3, 4, 6, 1, 1, 2, 3, 5, 3, 2, 8, 1, 2, 5, 1, 1, 2, 4, 5, 1, 2, 3, 5, 6, 1, 2, 6, 1, 2, 3, 2, 6, 1, 2, 4, 1, 3, 5, 1, 2, 3, 6, 1, 5, 6, 2, 3, 3, 5, 1, 3, 5, 6, 1, 2, 3, 1, 2, 3, 5, 6, 1, 2, 3, 4, 4, 1, 3, 3, 1, 2, 4, 5, 2, 3, 6, 2, 3, 4, 5, 3, 4, 6, 6, 1, 2, 3, 4, 5, 1, 2, 3, 6, 1, 5, 3, 6, 3, 1, 2, 2, 4, 6, 2, 6, 1, 1, 6, 4, 4, 1, 2, 6, 2, 4, 2, 3, 4, 1, 2, 3, 4, 5, 6, 1, 3, 5, 6, 1, 2, 3, 2, 1, 2, 6, 1, 5, 1, 5, 3, 2, 1, 2, 3, 3, 2, 6, 1, 3, 5, 1, 2, 4, 4, 1, 2, 3, 6, 1, 2, 3, 5, 2, 1, 3, 6, 1, 2, 4, 6, 3, 2, 1, 3, 4, 6, 1, 3, 4, 6, 2, 6, 1, 2, 6, 7, 6, 2, 2, 3, 6, 6, 1, 1, 2, 4, 6, 4, 1, 7, 6, 6, 1, 5, 6, 6, 1, 2, 3, 4, 1, 2, 4, 5, 6, 6, 5, 1, 4, 3, 2, 4, 5, 1, 5, 7, 2, 3, 5, 1, 7, 6, 3, 4, 6, 1, 2, 1, 2, 3, 6, 3, 2, 1, 3, 4, 5, 2, 2, 3, 4, 5, 2, 5, 1, 5, 3, 6, 1, 3, 4, 5, 6, 1, 3, 6, 7, 4, 2, 3, 4, 3, 1, 3, 4, 5, 2, 3, 2, 5, 5, 1, 6, 2, 4, 1, 2, 3, 7, 3, 4, 5, 1, 2, 3, 1, 4, 3, 4, 4, 2, 3, 1, 2, 3, 1, 6, 1, 2, 4, 5, 2, 3, 4, 1, 3, 4, 5, 8, 1, 4, 2, 1, 2, 5, 6, 4], \"Freq\": [0.18956694472711585, 0.5687008341813475, 0.18956694472711585, 0.7384866305637252, 0.7373207674495352, 0.9485444413446346, 0.9569472859480436, 0.786564229533161, 0.7692816243979979, 0.3512140322188947, 0.3512140322188947, 0.343915686563801, 0.343915686563801, 0.343915686563801, 0.7373207674495352, 0.7157294969744779, 0.983859710960837, 0.9838822185371228, 0.7384866305637252, 0.9838821453084818, 0.4722181267081102, 0.4722181267081102, 0.9097514066479943, 0.9485444413446346, 0.9838606907791558, 0.4659276195410778, 0.4659276195410778, 0.7244715834422492, 0.1811178958605623, 0.4171820468594947, 0.13906068228649823, 0.27812136457299647, 0.13906068228649823, 0.9079724911440693, 0.7384866305637252, 0.548562273585263, 0.45445693580546326, 0.45445693580546326, 0.5569155256288599, 0.27845776281442997, 0.27845776281442997, 0.7373207674495352, 0.7865637450189659, 0.33805728273206687, 0.5070859240981003, 0.16902864136603343, 0.6682919073905129, 0.33414595369525646, 0.9474161774099618, 0.7692816696258211, 0.5552707703192611, 0.4795430547885476, 0.31969536985903174, 0.23041661356891138, 0.46083322713782277, 0.23041661356891138, 0.23041661356891138, 0.7385595991621411, 0.9097579752155267, 0.983846204703121, 0.9786115118554763, 0.7865594734753099, 0.7384866305637252, 0.25713439515092307, 0.7714031854527692, 0.9485444413446346, 0.3775772363533191, 0.3775772363533191, 0.18878861817665954, 0.7373207674495352, 0.9786115118554763, 0.7384866305637252, 0.7373207674495352, 0.9786115118554763, 0.9079726630686161, 0.5520909021538832, 0.5520909021538832, 0.9569472859480436, 0.7385457483486987, 0.7384866305637252, 0.43777639557548964, 0.43777639557548964, 0.7692816696258211, 0.7865599495114052, 0.2685786946471853, 0.2685786946471853, 0.5371573892943706, 0.7692816696258211, 0.9097623001323744, 0.32183936954036035, 0.48275905431054056, 0.7373207674495352, 0.33440664535895803, 0.33440664535895803, 0.33440664535895803, 0.5819505101462258, 0.7373207674495352, 0.3102026348833303, 0.5170043914722171, 0.10340087829444342, 0.9786115118554763, 0.5292632059858097, 0.17642106866193655, 0.17642106866193655, 0.7373208291372968, 0.8176596180336607, 0.5374397251745481, 0.5374397251745481, 0.9786115118554763, 0.909844970951507, 0.7294961784726217, 0.7692816696258211, 0.7692816696258211, 0.7692816696258211, 0.9569472859480436, 0.7373207674495352, 0.4722148293024776, 0.4722148293024776, 0.9581367311171319, 0.9569472859480436, 0.7692816696258211, 0.909797868419743, 0.2627287721731056, 0.5254575443462112, 0.2627287721731056, 0.661819770257056, 0.165454942564264, 0.165454942564264, 0.9859840160325202, 0.9485444413446346, 0.3472825214210915, 0.3472825214210915, 0.3472825214210915, 0.3284441418470337, 0.6568882836940674, 0.4180168662870538, 0.4180168662870538, 0.2090084331435269, 0.9097927913431856, 0.9097873739560156, 0.9485444413446346, 0.983868160781324, 0.5352751461623808, 0.5352751461623808, 0.36940306416406143, 0.36940306416406143, 0.36940306416406143, 0.9838531344285758, 0.47220823352654995, 0.47220823352654995, 0.9079725392240168, 0.5212570364824382, 0.2606285182412191, 0.2606285182412191, 0.26653627918926964, 0.26653627918926964, 0.26653627918926964, 0.26653627918926964, 0.7865637422884086, 0.46568964409954705, 0.46568964409954705, 0.23284482204977353, 0.7692816243979979, 0.7851367341475981, 0.7373207674495352, 0.6171709806058392, 0.4054125105503469, 0.4054125105503469, 0.32950512763623757, 0.4942576914543564, 0.16475256381811879, 0.16475256381811879, 0.9485444413446346, 0.46642062775612975, 0.46642062775612975, 0.9485444413446346, 0.6328230227952629, 0.12656460455905258, 0.25312920911810516, 0.7865646937128976, 0.9079724911440693, 0.7865646852399583, 0.7865585515776518, 0.7294961551508674, 0.1847003637124283, 0.3694007274248566, 0.3694007274248566, 0.4564955959272029, 0.22824779796360145, 0.22824779796360145, 0.22824779796360145, 0.9786115118554763, 0.7373207674495352, 0.29756711753885823, 0.14878355876942911, 0.14878355876942911, 0.4463506763082874, 0.9097658243986281, 0.0939491327759308, 0.6576439294315155, 0.1878982655518616, 0.0939491327759308, 0.9079727808684162, 0.9485444413446346, 0.9485444413446346, 0.42962691392515506, 0.42962691392515506, 0.42962691392515506, 0.4057683125132364, 0.4057683125132364, 0.15708004880281912, 0.4712401464084573, 0.31416009760563823, 0.3408361466236259, 0.6816722932472518, 0.9786115118554763, 0.555193360998212, 0.4277114395524898, 0.4277114395524898, 0.2138557197762449, 0.6049168896613382, 0.3024584448306691, 0.1428728395678262, 0.2857456791356524, 0.4286185187034786, 0.1428728395678262, 0.20339597922439803, 0.40679195844879606, 0.40679195844879606, 0.9786115118554763, 0.9859838152859567, 0.43872287915010794, 0.43872287915010794, 0.12534939404288797, 0.9786115118554763, 0.9485444413446346, 0.2161590123453684, 0.2161590123453684, 0.4323180246907368, 0.2161590123453684, 0.9613659085532644, 0.2038537097472263, 0.30578056462083947, 0.10192685487361315, 0.30578056462083947, 0.2645159151815085, 0.2645159151815085, 0.529031830363017, 0.23025720474828884, 0.3453858071224333, 0.11512860237414442, 0.23025720474828884, 0.4853902277793258, 0.4853902277793258, 0.2426951138896629, 0.9079724911440693, 0.5000199462902325, 0.3000119677741395, 0.1000039892580465, 0.1000039892580465, 0.7692816243979979, 0.6163006867682259, 0.30815034338411296, 0.45090826086630686, 0.45090826086630686, 0.22545413043315343, 0.9079724911440693, 0.13987114247158247, 0.4196134274147474, 0.27974228494316494, 0.13987114247158247, 0.9079729104443341, 0.4803795503498358, 0.1601265167832786, 0.1601265167832786, 0.1601265167832786, 0.4373378433946727, 0.21866892169733634, 0.21866892169733634, 0.2645153512603061, 0.2645153512603061, 0.5290307025206122, 0.5552435202338908, 0.9786115118554763, 0.2685740801177033, 0.2685740801177033, 0.5371481602354066, 0.34056218664779303, 0.6811243732955861, 0.9485444413446346, 0.28551904406920403, 0.28551904406920403, 0.28551904406920403, 0.28551904406920403, 0.5261528559072982, 0.5261528559072982, 0.9786115118554763, 0.9097419437682287, 0.9569472859480436, 0.6944542727812861, 0.9485444413446346, 0.17632930475232023, 0.5289879142569607, 0.2351057396697603, 0.05877643491744008, 0.6635152014659371, 0.1895757718474106, 0.1895757718474106, 0.45328414254127974, 0.15109471418042658, 0.15109471418042658, 0.15109471418042658, 0.9786115118554763, 0.5259388956241277, 0.10518777912482552, 0.10518777912482552, 0.21037555824965104, 0.7865629926173732, 0.7432303988648442, 0.14864607977296884, 0.9569472859480436, 0.4222525630892383, 0.4222525630892383, 0.2815017087261589, 0.6255484589286598, 0.29018905632778896, 0.5803781126555779, 0.29018905632778896, 0.28986862411904607, 0.28986862411904607, 0.28986862411904607, 0.28986862411904607, 0.32424511347080004, 0.32424511347080004, 0.32424511347080004, 0.978611552904638, 0.3252080087651267, 0.16260400438256334, 0.3252080087651267, 0.3252080087651267, 0.9485444413446346, 0.6063228615429738, 0.12126457230859476, 0.12126457230859476, 0.12126457230859476, 0.5261527486705228, 0.5261527486705228, 0.44270040510538805, 0.44270040510538805, 0.9569471459761281, 0.6115174495000713, 0.3057587247500356, 0.3475878075041147, 0.6951756150082294, 0.978611552904638, 0.9860542347982223, 0.9786115118554763, 0.5467198779797968, 0.586436406935684, 0.9786115118554763, 0.7865584617178488, 0.9838389660594775, 0.6564277791682134, 0.3282138895841067, 0.9786115118554763, 0.587185295743876, 0.7865636737983944, 0.42919051850462026, 0.2861270123364135, 0.2861270123364135, 0.337948361543616, 0.22529890769574404, 0.22529890769574404, 0.22529890769574404, 0.11264945384787202, 0.11264945384787202, 0.2090894800001895, 0.418178960000379, 0.2090894800001895, 0.2090894800001895, 0.3050657543136308, 0.1525328771568154, 0.4575986314704462, 0.9097420358129596, 0.49213530050474324, 0.3280902003364955, 0.16404510016824775, 0.6758425456406177, 0.22528084854687258, 0.7701037563710258, 0.9485444413446346, 0.8174348302632324, 0.9097882918901676, 0.4960090738651328, 0.3720068053988496, 0.1240022684662832, 0.5724302190586802, 0.7385435406831992, 0.9786115118554763, 0.4128097387937663, 0.4128097387937663, 0.20640486939688316, 0.2685751861305488, 0.2685751861305488, 0.5371503722610976, 0.6170212328162022, 0.1656997361085464, 0.49709920832563925, 0.1656997361085464, 0.1656997361085464, 0.1733834916377215, 0.5201504749131645, 0.1733834916377215, 0.1733834916377215, 0.9097636874761067, 0.49793403005945064, 0.24896701502972532, 0.24896701502972532, 0.3133823058365381, 0.3133823058365381, 0.20892153722435872, 0.10446076861217936, 0.7692816243979979, 0.9097504889750359, 0.20116585775250115, 0.4023317155050023, 0.4023317155050023, 0.20116585775250115, 0.3071781869297736, 0.1023927289765912, 0.511963644882956, 0.1023927289765912, 0.7385565143178469, 0.6519703176710616, 0.48357720220091505, 0.32238480146727666, 0.16119240073363833, 0.16119240073363833, 0.9786115118554763, 0.738549346983315, 0.7385441455070826, 0.9569472859480436, 0.9786115118554763, 0.9786115118554763, 0.9079724911440693, 0.19676475275709274, 0.5902942582712781, 0.9838568017123416, 0.978611552904638, 0.7865622812644394, 0.4415619030796459, 0.4415619030796459, 0.5047915192692133, 0.9786115118554763, 0.5261527486705228, 0.5261527486705228, 0.9786115118554763, 0.9786115118554763, 0.3840230806699221, 0.25601538711328137, 0.12800769355664068, 0.25601538711328137, 0.26993366529305596, 0.26993366529305596, 0.21594693223444475, 0.10797346611722237, 0.10797346611722237, 0.9786115118554763, 0.9485444413446346, 0.4908484928422933, 0.4908484928422933, 0.7692816243979979, 0.34757856276316884, 0.6951571255263377, 0.6255483819056378, 0.5261526858444847, 0.5261526858444847, 0.5402341964138617, 0.7385535809630206, 0.5422284364742076, 0.5422284364742076, 0.7549321762239377, 0.15098643524478755, 0.9786115118554763, 0.9569471459761281, 0.786561096227914, 0.9786115118554763, 0.9079724911440693, 0.9097681366858963, 0.5867840107546185, 0.1173568021509237, 0.2347136043018474, 0.1173568021509237, 0.9569472859480436, 0.9097420358129596, 0.18279138694356825, 0.3655827738871365, 0.3655827738871365, 0.18279138694356825, 0.7718110633718112, 0.9636728215341936, 0.7692816243979979, 0.9838527344501543, 0.9485444413446346, 0.4263778489162399, 0.4263778489162399, 0.5261526858444847, 0.5261526858444847, 0.7686643660244644, 0.3843321830122322, 0.2899043827814784, 0.1932695885209856, 0.2899043827814784, 0.0966347942604928, 0.0966347942604928, 0.2803898430201474, 0.2803898430201474, 0.2803898430201474, 0.2803898430201474, 0.5570471586476208, 0.1672254714885453, 0.3344509429770906, 0.5016764144656359, 0.7692816243979979, 0.8435240001453007, 0.6064769896097175, 0.42372348211673144, 0.42372348211673144, 0.34083443340845654, 0.6816688668169131, 0.7385511616394241, 0.9485444413446346, 0.9485444413446346, 0.5352751461623808, 0.5352751461623808, 0.9097608237003486, 0.7865611047007762, 0.178955306667748, 0.536865920003244, 0.178955306667748, 0.178955306667748, 0.96253698334981, 0.5990430128533196, 0.2995215064266598, 0.26077999935892304, 0.5215599987178461, 0.26077999935892304, 0.6036681371396229, 0.30183406856981143, 0.9569846690414109, 0.7865629926173732, 0.7865612362668998, 0.7827544582053193, 0.26091815273510643, 0.3692061914458823, 0.18460309572294115, 0.3692061914458823, 0.5352752111858667, 0.5352752111858667, 0.2324363361884432, 0.3099151149179243, 0.15495755745896214, 0.2324363361884432, 0.3441870830116069, 0.3441870830116069, 0.3441870830116069, 0.2503604428990795, 0.2503604428990795, 0.35050462005871125, 0.0500720885798159, 0.1001441771596318, 0.9838824096881108, 0.7865614919143182, 0.909759871890642, 0.4722020806485092, 0.404744640555865, 0.13491488018528833, 0.9786115118554763, 0.9838453360456662], \"Term\": [\"able\", \"able\", \"able\", \"absolutely\", \"abuse\", \"abusive\", \"accounting\", \"achievement\", \"action\", \"actually\", \"actually\", \"addict\", \"addict\", \"addict\", \"addle\", \"adopt\", \"adoptive\", \"afford\", \"afloat\", \"again\", \"age\", \"age\", \"ago\", \"aimless\", \"allow\", \"already\", \"already\", \"also\", \"also\", \"always\", \"always\", \"always\", \"always\", \"amount\", \"anxiety\", \"anymore\", \"anyway\", \"anyway\", \"apply\", \"apply\", \"apply\", \"around\", \"arrangement\", \"as\", \"as\", \"as\", \"assistance\", \"assistance\", \"associate\", \"at\", \"away\", \"bachelor\", \"bachelor\", \"back\", \"back\", \"back\", \"back\", \"bad\", \"band\", \"barrier\", \"bath\", \"bear\", \"being\", \"belong\", \"belong\", \"benefit\", \"big\", \"big\", \"big\", \"birthday\", \"book\", \"boy\", \"brag\", \"breakfast\", \"budget\", \"build\", \"build\", \"call\", \"campus\", \"capacity\", \"career\", \"career\", \"cautionary\", \"ceremony\", \"change\", \"change\", \"change\", \"check\", \"childhood\", \"class\", \"class\", \"clear\", \"close\", \"close\", \"close\", \"clothe\", \"coke\", \"college\", \"college\", \"college\", \"combine\", \"come\", \"come\", \"come\", \"common\", \"community\", \"company\", \"company\", \"competition\", \"connect\", \"consider\", \"constantly\", \"continue\", \"conversation\", \"counseling\", \"country\", \"couple\", \"couple\", \"cover\", \"crappy\", \"cul\", \"culture\", \"dad\", \"dad\", \"dad\", \"day\", \"day\", \"day\", \"deal\", \"decent\", \"decide\", \"decide\", \"decide\", \"definitely\", \"definitely\", \"degree\", \"degree\", \"degree\", \"depressed\", \"depression\", \"develop\", \"die\", \"different\", \"different\", \"do\", \"do\", \"do\", \"doctor\", \"dollar\", \"dollar\", \"down\", \"drop\", \"drop\", \"drop\", \"drug\", \"drug\", \"drug\", \"drug\", \"ear\", \"early\", \"early\", \"early\", \"eat\", \"education\", \"emancipation\", \"employee\", \"encourage\", \"encourage\", \"end\", \"end\", \"end\", \"end\", \"ensure\", \"especially\", \"especially\", \"ethic\", \"even\", \"even\", \"even\", \"ever\", \"exam\", \"expectation\", \"expendable\", \"expensive\", \"experience\", \"experience\", \"experience\", \"extra\", \"extra\", \"extra\", \"extra\", \"extreme\", \"face\", \"family\", \"family\", \"family\", \"family\", \"father\", \"feel\", \"feel\", \"feel\", \"feel\", \"feeling\", \"fiance\", \"fight\", \"financial_aid\", \"financial_aid\", \"financial_aid\", \"finish\", \"finish\", \"first\", \"first\", \"first\", \"fit\", \"fit\", \"focus\", \"follow\", \"food\", \"food\", \"food\", \"free\", \"free\", \"friend\", \"friend\", \"friend\", \"friend\", \"full\", \"full\", \"full\", \"fun\", \"generation\", \"get\", \"get\", \"get\", \"gift\", \"gig\", \"give\", \"give\", \"give\", \"give\", \"go\", \"good\", \"good\", \"good\", \"good\", \"government\", \"government\", \"government\", \"graduate\", \"graduate\", \"graduate\", \"graduate\", \"grant\", \"grant\", \"grant\", \"grind\", \"grow\", \"grow\", \"grow\", \"grow\", \"hand\", \"hard\", \"hard\", \"head\", \"head\", \"head\", \"health\", \"help\", \"help\", \"help\", \"help\", \"here\", \"high_school\", \"high_school\", \"high_school\", \"high_school\", \"home\", \"home\", \"home\", \"homeless\", \"homeless\", \"homeless\", \"hometown\", \"honestly\", \"hour\", \"hour\", \"hour\", \"house\", \"house\", \"household\", \"idea\", \"idea\", \"idea\", \"idea\", \"insecurity\", \"insecurity\", \"inter\", \"intern\", \"internet\", \"it\", \"janitor\", \"job\", \"job\", \"job\", \"job\", \"just\", \"just\", \"just\", \"keep\", \"keep\", \"keep\", \"keep\", \"ketchup\", \"kid\", \"kid\", \"kid\", \"kid\", \"kind\", \"know\", \"know\", \"knowledge\", \"last\", \"last\", \"last\", \"law\", \"learn\", \"learn\", \"learn\", \"leave\", \"leave\", \"leave\", \"leave\", \"level\", \"level\", \"level\", \"library\", \"life\", \"life\", \"life\", \"life\", \"line\", \"live\", \"live\", \"live\", \"live\", \"long\", \"long\", \"look\", \"look\", \"lose\", \"lot\", \"lot\", \"low\", \"low\", \"main\", \"make\", \"manage\", \"many\", \"master\", \"math\", \"matter\", \"meal\", \"mental\", \"mental\", \"middle\", \"minimum\", \"mistake\", \"mom\", \"mom\", \"mom\", \"money\", \"money\", \"money\", \"money\", \"money\", \"money\", \"more\", \"more\", \"more\", \"more\", \"most\", \"most\", \"most\", \"mostly\", \"move\", \"move\", \"move\", \"much\", \"much\", \"mum\", \"nail\", \"need\", \"network\", \"never\", \"never\", \"never\", \"nice\", \"nightmare\", \"normal\", \"now\", \"now\", \"now\", \"offer\", \"offer\", \"offer\", \"one\", \"only\", \"only\", \"only\", \"only\", \"other\", \"other\", \"other\", \"other\", \"overcome\", \"own\", \"own\", \"own\", \"parent\", \"parent\", \"parent\", \"parent\", \"particular\", \"past\", \"pay\", \"pay\", \"pay\", \"pay\", \"people\", \"people\", \"people\", \"people\", \"person\", \"point\", \"poor\", \"poor\", \"poor\", \"poor\", \"portfolio\", \"positive\", \"predominately\", \"private\", \"programmer\", \"programming\", \"purchase\", \"push\", \"push\", \"ready\", \"recycle\", \"refuse\", \"relative\", \"relative\", \"result\", \"reward\", \"roof\", \"roof\", \"room\", \"sandwich\", \"say\", \"say\", \"say\", \"say\", \"school\", \"school\", \"school\", \"school\", \"school\", \"science\", \"second\", \"see\", \"see\", \"shed\", \"show\", \"show\", \"side\", \"since\", \"since\", \"sister\", \"situation\", \"skill\", \"skill\", \"so\", \"so\", \"soap\", \"soon\", \"sound\", \"spare\", \"spend\", \"stage\", \"start\", \"start\", \"start\", \"start\", \"starve\", \"statistic\", \"still\", \"still\", \"still\", \"still\", \"struggle\", \"student\", \"succeed\", \"success\", \"successful\", \"support\", \"support\", \"sure\", \"sure\", \"surprise\", \"surprise\", \"take\", \"take\", \"take\", \"take\", \"take\", \"then\", \"then\", \"then\", \"then\", \"thing\", \"think\", \"think\", \"think\", \"thought\", \"time\", \"today\", \"together\", \"together\", \"too\", \"too\", \"tool\", \"tooth\", \"town\", \"trash\", \"trash\", \"trauma\", \"trouble\", \"try\", \"try\", \"try\", \"try\", \"tuition\", \"undergrad\", \"undergrad\", \"university\", \"university\", \"university\", \"upper_middle\", \"upper_middle\", \"use\", \"value\", \"various\", \"walk\", \"walk\", \"way\", \"way\", \"way\", \"weird\", \"weird\", \"well\", \"well\", \"well\", \"well\", \"white\", \"white\", \"white\", \"work\", \"work\", \"work\", \"work\", \"work\", \"world\", \"worthwhile\", \"write\", \"year\", \"year\", \"year\", \"yield\", \"young\"]}, \"R\": 30, \"lambda.step\": 0.01, \"plot.opts\": {\"xlab\": \"PC1\", \"ylab\": \"PC2\"}, \"topic.order\": [10, 4, 8, 6, 3, 9, 1, 5, 7, 2]};\n",
       "\n",
       "function LDAvis_load_lib(url, callback){\n",
       "  var s = document.createElement('script');\n",
       "  s.src = url;\n",
       "  s.async = true;\n",
       "  s.onreadystatechange = s.onload = callback;\n",
       "  s.onerror = function(){console.warn(\"failed to load library \" + url);};\n",
       "  document.getElementsByTagName(\"head\")[0].appendChild(s);\n",
       "}\n",
       "\n",
       "if(typeof(LDAvis) !== \"undefined\"){\n",
       "   // already loaded: just create the visualization\n",
       "   !function(LDAvis){\n",
       "       new LDAvis(\"#\" + \"ldavis_el2797630673702923842497967141\", ldavis_el2797630673702923842497967141_data);\n",
       "   }(LDAvis);\n",
       "}else if(typeof define === \"function\" && define.amd){\n",
       "   // require.js is available: use it to load d3/LDAvis\n",
       "   require.config({paths: {d3: \"https://d3js.org/d3.v5\"}});\n",
       "   require([\"d3\"], function(d3){\n",
       "      window.d3 = d3;\n",
       "      LDAvis_load_lib(\"https://cdn.jsdelivr.net/gh/bmabey/pyLDAvis@3.3.1/pyLDAvis/js/ldavis.v3.0.0.js\", function(){\n",
       "        new LDAvis(\"#\" + \"ldavis_el2797630673702923842497967141\", ldavis_el2797630673702923842497967141_data);\n",
       "      });\n",
       "    });\n",
       "}else{\n",
       "    // require.js not available: dynamically load d3 & LDAvis\n",
       "    LDAvis_load_lib(\"https://d3js.org/d3.v5.js\", function(){\n",
       "         LDAvis_load_lib(\"https://cdn.jsdelivr.net/gh/bmabey/pyLDAvis@3.3.1/pyLDAvis/js/ldavis.v3.0.0.js\", function(){\n",
       "                 new LDAvis(\"#\" + \"ldavis_el2797630673702923842497967141\", ldavis_el2797630673702923842497967141_data);\n",
       "            })\n",
       "         });\n",
       "}\n",
       "</script>"
      ],
      "text/plain": [
       "PreparedData(topic_coordinates=              x         y  topics  cluster       Freq\n",
       "topic                                                \n",
       "9     -0.120326  0.160740       1        1  25.799658\n",
       "3      0.092122 -0.184126       2        1  25.286595\n",
       "7      0.088493  0.188564       3        1  17.376522\n",
       "5     -0.156370 -0.144909       4        1  14.825302\n",
       "2     -0.110737  0.041788       5        1   5.594182\n",
       "8      0.094236  0.062627       6        1   4.872833\n",
       "0      0.128945 -0.035917       7        1   3.731188\n",
       "4     -0.043133 -0.055348       8        1   2.491054\n",
       "6      0.013441 -0.016646       9        1   0.011592\n",
       "1      0.013329 -0.016775      10        1   0.011073, topic_info=             Term       Freq      Total Category  logprob  loglift\n",
       "124          work  19.000000  19.000000  Default  30.0000  30.0000\n",
       "57            job  17.000000  17.000000  Default  29.0000  29.0000\n",
       "140          good   9.000000   9.000000  Default  28.0000  28.0000\n",
       "168          well  12.000000  12.000000  Default  27.0000  27.0000\n",
       "41            get  15.000000  15.000000  Default  26.0000  26.0000\n",
       "..            ...        ...        ...      ...      ...      ...\n",
       "25      different   0.000238   1.868198  Topic10  -6.7776   0.1412\n",
       "26         dollar   0.000238   2.117710  Topic10  -6.7776   0.0158\n",
       "27           drop   0.000238   3.836879  Topic10  -6.7776  -0.5785\n",
       "28           drug   0.000238   3.751834  Topic10  -6.7776  -0.5561\n",
       "29   emancipation   0.000238   1.356262  Topic10  -6.7776   0.4614\n",
       "\n",
       "[562 rows x 6 columns], token_table=      Topic      Freq        Term\n",
       "term                             \n",
       "127       2  0.189567        able\n",
       "127       3  0.568701        able\n",
       "127       4  0.189567        able\n",
       "815       2  0.738487  absolutely\n",
       "0         1  0.737321       abuse\n",
       "...     ...       ...         ...\n",
       "126       1  0.472202        year\n",
       "126       2  0.404745        year\n",
       "126       5  0.134915        year\n",
       "466       6  0.978612       yield\n",
       "620       4  0.983845       young\n",
       "\n",
       "[579 rows x 3 columns], R=30, lambda_step=0.01, plot_opts={'xlab': 'PC1', 'ylab': 'PC2'}, topic_order=[10, 4, 8, 6, 3, 9, 1, 5, 7, 2])"
      ]
     },
     "execution_count": 28,
     "metadata": {},
     "output_type": "execute_result"
    }
   ],
   "source": [
    "pyLDAvis.enable_notebook()\n",
    "vis = pyLDAvis.gensim_models.prepare(optimal_model, corpus, id2word, mds=\"mmds\", R=30)\n",
    "vis"
   ]
  },
  {
   "cell_type": "code",
   "execution_count": 29,
   "metadata": {},
   "outputs": [],
   "source": [
    "# optimal_model.save(\"Models/Model V2/test_model_2.model\")"
   ]
  },
  {
   "cell_type": "code",
   "execution_count": 41,
   "metadata": {},
   "outputs": [
    {
     "name": "stdout",
     "output_type": "stream",
     "text": [
      "[(9, 0.99878013), (7, 0.8844808), (7, 0.9980773), (2, 0.9977718), (9, 0.99819404), (7, 0.9986689), (4, 0.9952469), (8, 0.9975605), (0, 0.8668096), (5, 0.9991976), (9, 0.99753314), (3, 0.99908435), (9, 0.9984991), (3, 0.9976406), (3, 0.9977699), (3, 0.9974322)]\n"
     ]
    }
   ],
   "source": [
    "results = optimal_model[corpus]\n",
    "corpus_topics = [sorted(topics, key=lambda record: -record[1])[0] for topics in results]\n",
    "print(corpus_topics)"
   ]
  },
  {
   "cell_type": "code",
   "execution_count": 58,
   "metadata": {},
   "outputs": [
    {
     "name": "stderr",
     "output_type": "stream",
     "text": [
      "C:\\Users\\MoRevolution\\AppData\\Local\\Temp\\ipykernel_27976\\4272295173.py:3: FutureWarning: Passing a negative integer is deprecated in version 1.0 and will not be supported in future version. Instead, use None to not limit the column width.\n",
      "  pd.set_option('display.max_colwidth', -1)\n"
     ]
    },
    {
     "data": {
      "text/html": [
       "<div>\n",
       "<style scoped>\n",
       "    .dataframe tbody tr th:only-of-type {\n",
       "        vertical-align: middle;\n",
       "    }\n",
       "\n",
       "    .dataframe tbody tr th {\n",
       "        vertical-align: top;\n",
       "    }\n",
       "\n",
       "    .dataframe thead th {\n",
       "        text-align: right;\n",
       "    }\n",
       "</style>\n",
       "<table border=\"1\" class=\"dataframe\">\n",
       "  <thead>\n",
       "    <tr style=\"text-align: right;\">\n",
       "      <th></th>\n",
       "      <th>Terms per Topic</th>\n",
       "    </tr>\n",
       "  </thead>\n",
       "  <tbody>\n",
       "    <tr>\n",
       "      <th>Topic1</th>\n",
       "      <td>good, family, sister, back, big, relative, then, friend, try, poor, so, city, away, attitude, wear, nearly, wealthy, hang, always, embarrassed</td>\n",
       "    </tr>\n",
       "    <tr>\n",
       "      <th>Topic2</th>\n",
       "      <td>schedule, steal, stretch, someday, spelling, scrape, realize, salary, retirement, retire, rest, respect, requisite, rent, remember, relentless, refuse, sea, stay, ready</td>\n",
       "    </tr>\n",
       "    <tr>\n",
       "      <th>Topic3</th>\n",
       "      <td>job, well, school, graduate, get, year, first, college, work, together, keep, side, grow, law, family, other, good, take, always, come</td>\n",
       "    </tr>\n",
       "    <tr>\n",
       "      <th>Topic4</th>\n",
       "      <td>feel, student, year, school, well, also, lot, push, struggle, bachelor, help, come, always, graduate, high_school, mom, first, college, only, grow</td>\n",
       "    </tr>\n",
       "    <tr>\n",
       "      <th>Topic5</th>\n",
       "      <td>work, hard, school, good, full, thing, help, parent, see, encourage, finish, upper_middle, employee, garage, extremely, sale, minimum, wage, expensive, teacher</td>\n",
       "    </tr>\n",
       "    <tr>\n",
       "      <th>Topic6</th>\n",
       "      <td>work, people, school, take, think, friend, good, adopt, parent, say, undergrad, thing, kid, free, one, grant, still, last, life, meal</td>\n",
       "    </tr>\n",
       "    <tr>\n",
       "      <th>Topic7</th>\n",
       "      <td>school, feel, make, connect, student, only, other, never, friend, hard, first, bad, white, person, especially, situation, tool, mental, as, positive</td>\n",
       "    </tr>\n",
       "    <tr>\n",
       "      <th>Topic8</th>\n",
       "      <td>job, get, work, college, class, most, need, able, community, career, big, more, way, it, experience, bachelor, take, lose, surprise, soon</td>\n",
       "    </tr>\n",
       "    <tr>\n",
       "      <th>Topic9</th>\n",
       "      <td>school, live, result, own, actually, level, home, high_school, point, extreme, focus, form, combine, basically, idea, bath, parent, move, competition, book</td>\n",
       "    </tr>\n",
       "    <tr>\n",
       "      <th>Topic10</th>\n",
       "      <td>go, get, year, just, lot, so, school, work, live, start, even, know, kid, grow, day, time, never, mum, move, keep</td>\n",
       "    </tr>\n",
       "  </tbody>\n",
       "</table>\n",
       "</div>"
      ],
      "text/plain": [
       "                                                                                                                                                                  Terms per Topic\n",
       "Topic1   good, family, sister, back, big, relative, then, friend, try, poor, so, city, away, attitude, wear, nearly, wealthy, hang, always, embarrassed                          \n",
       "Topic2   schedule, steal, stretch, someday, spelling, scrape, realize, salary, retirement, retire, rest, respect, requisite, rent, remember, relentless, refuse, sea, stay, ready\n",
       "Topic3   job, well, school, graduate, get, year, first, college, work, together, keep, side, grow, law, family, other, good, take, always, come                                  \n",
       "Topic4   feel, student, year, school, well, also, lot, push, struggle, bachelor, help, come, always, graduate, high_school, mom, first, college, only, grow                      \n",
       "Topic5   work, hard, school, good, full, thing, help, parent, see, encourage, finish, upper_middle, employee, garage, extremely, sale, minimum, wage, expensive, teacher         \n",
       "Topic6   work, people, school, take, think, friend, good, adopt, parent, say, undergrad, thing, kid, free, one, grant, still, last, life, meal                                   \n",
       "Topic7   school, feel, make, connect, student, only, other, never, friend, hard, first, bad, white, person, especially, situation, tool, mental, as, positive                    \n",
       "Topic8   job, get, work, college, class, most, need, able, community, career, big, more, way, it, experience, bachelor, take, lose, surprise, soon                               \n",
       "Topic9   school, live, result, own, actually, level, home, high_school, point, extreme, focus, form, combine, basically, idea, bath, parent, move, competition, book             \n",
       "Topic10  go, get, year, just, lot, so, school, work, live, start, even, know, kid, grow, day, time, never, mum, move, keep                                                       "
      ]
     },
     "execution_count": 58,
     "metadata": {},
     "output_type": "execute_result"
    }
   ],
   "source": [
    "topics = [[(term, round(wt, 3)) for term, wt in optimal_model.show_topic(n, topn=20)] for n in range(0, optimal_model.num_topics)]\n",
    "# set column width\n",
    "pd.set_option('display.max_colwidth', -1)\n",
    "topics_df = pd.DataFrame([', '.join([term for term, wt in topic]) for topic in topics], columns = ['Terms per Topic'], index=['Topic'+str(t) for t in range(1, optimal_model.num_topics+1)] )\n"
   ]
  },
  {
   "cell_type": "code",
   "execution_count": 62,
   "metadata": {
    "collapsed": true
   },
   "outputs": [
    {
     "ename": "IndexError",
     "evalue": "index 10 is out of bounds for axis 0 with size 10",
     "output_type": "error",
     "traceback": [
      "\u001b[1;31m---------------------------------------------------------------------------\u001b[0m",
      "\u001b[1;31mIndexError\u001b[0m                                Traceback (most recent call last)",
      "Input \u001b[1;32mIn [62]\u001b[0m, in \u001b[0;36m<cell line: 1>\u001b[1;34m()\u001b[0m\n\u001b[0;32m      1\u001b[0m \u001b[38;5;28;01mfor\u001b[39;00m i \u001b[38;5;129;01min\u001b[39;00m \u001b[38;5;28mrange\u001b[39m(\u001b[38;5;241m11\u001b[39m): \n\u001b[0;32m      2\u001b[0m     outF \u001b[38;5;241m=\u001b[39m \u001b[38;5;28mopen\u001b[39m(\u001b[38;5;124m'\u001b[39m\u001b[38;5;124mWord Net and Concept Net/Topics_Model V2/Topic\u001b[39m\u001b[38;5;124m'\u001b[39m \u001b[38;5;241m+\u001b[39m \u001b[38;5;28mstr\u001b[39m(i\u001b[38;5;241m+\u001b[39m\u001b[38;5;241m1\u001b[39m)\u001b[38;5;241m+\u001b[39m\u001b[38;5;124m'\u001b[39m\u001b[38;5;124m.txt\u001b[39m\u001b[38;5;124m'\u001b[39m, \u001b[38;5;124m'\u001b[39m\u001b[38;5;124mw\u001b[39m\u001b[38;5;124m'\u001b[39m)\n\u001b[1;32m----> 3\u001b[0m     \u001b[38;5;28mprint\u001b[39m(\u001b[43mtopics_df\u001b[49m\u001b[43m[\u001b[49m\u001b[38;5;124;43m'\u001b[39;49m\u001b[38;5;124;43mTerms per Topic\u001b[39;49m\u001b[38;5;124;43m'\u001b[39;49m\u001b[43m]\u001b[49m\u001b[43m[\u001b[49m\u001b[43mi\u001b[49m\u001b[43m]\u001b[49m, file \u001b[38;5;241m=\u001b[39m outF)\n",
      "File \u001b[1;32m~\\AppData\\Roaming\\Python\\Python310\\site-packages\\pandas\\core\\series.py:955\u001b[0m, in \u001b[0;36mSeries.__getitem__\u001b[1;34m(self, key)\u001b[0m\n\u001b[0;32m    952\u001b[0m     key \u001b[38;5;241m=\u001b[39m unpack_1tuple(key)\n\u001b[0;32m    954\u001b[0m \u001b[38;5;28;01mif\u001b[39;00m is_integer(key) \u001b[38;5;129;01mand\u001b[39;00m \u001b[38;5;28mself\u001b[39m\u001b[38;5;241m.\u001b[39mindex\u001b[38;5;241m.\u001b[39m_should_fallback_to_positional:\n\u001b[1;32m--> 955\u001b[0m     \u001b[38;5;28;01mreturn\u001b[39;00m \u001b[38;5;28;43mself\u001b[39;49m\u001b[38;5;241;43m.\u001b[39;49m\u001b[43m_values\u001b[49m\u001b[43m[\u001b[49m\u001b[43mkey\u001b[49m\u001b[43m]\u001b[49m\n\u001b[0;32m    957\u001b[0m \u001b[38;5;28;01melif\u001b[39;00m key_is_scalar:\n\u001b[0;32m    958\u001b[0m     \u001b[38;5;28;01mreturn\u001b[39;00m \u001b[38;5;28mself\u001b[39m\u001b[38;5;241m.\u001b[39m_get_value(key)\n",
      "\u001b[1;31mIndexError\u001b[0m: index 10 is out of bounds for axis 0 with size 10"
     ]
    }
   ],
   "source": [
    "# for i in range(10): \n",
    "#     outF = open('Word Net and Concept Net/Topics_Model V2/Topic' + str(i+1)+'.txt', 'w')\n",
    "#     print(topics_df['Terms per Topic'][i], file = outF)"
   ]
  }
 ],
 "metadata": {
  "colab": {
   "collapsed_sections": [],
   "name": "Demo V1.1",
   "provenance": []
  },
  "kernelspec": {
   "display_name": "Python 3 (ipykernel)",
   "language": "python",
   "name": "python3"
  },
  "language_info": {
   "codemirror_mode": {
    "name": "ipython",
    "version": 3
   },
   "file_extension": ".py",
   "mimetype": "text/x-python",
   "name": "python",
   "nbconvert_exporter": "python",
   "pygments_lexer": "ipython3",
   "version": "3.10.5"
  }
 },
 "nbformat": 4,
 "nbformat_minor": 1
}
